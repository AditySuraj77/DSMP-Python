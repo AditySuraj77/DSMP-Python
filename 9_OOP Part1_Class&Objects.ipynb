{
 "cells": [
  {
   "cell_type": "markdown",
   "id": "f802b37f",
   "metadata": {},
   "source": [
    "# Class & Objects  "
   ]
  },
  {
   "cell_type": "code",
   "execution_count": 1,
   "id": "9cd68230",
   "metadata": {},
   "outputs": [],
   "source": [
    "\n",
    "class Atm:\n",
    "    \n",
    "    def __init__(self):\n",
    "        self.balance = 0\n",
    "        self.pin = ''\n",
    "        self.menu()\n",
    "        \n",
    "        \n",
    "    def menu(self):\n",
    "        user_input = input(\"\"\"\n",
    "        1. Press 1 to Create pin & Deposit Some Balance\n",
    "        2. Press 2 to Change pin\n",
    "        3. Press 3 to Check balance\n",
    "        4. Press 4 to Deposit\n",
    "        5. Press 5. Withdraw\n",
    "        6. Press 6 to CLose Programme\n",
    "        \n",
    "        \"\"\")\n",
    "        \n",
    "        if user_input == '1':\n",
    "            self.create_pin()\n",
    "        elif user_input == '2':\n",
    "            self.change_pin()\n",
    "        elif user_input == '3':\n",
    "            self.check_balance()\n",
    "        elif user_input == '4':\n",
    "            self.deposit()\n",
    "        elif user_input == '5':\n",
    "            self.withdraw()\n",
    "        else:\n",
    "            exit()\n",
    "            \n",
    "    def create_pin(self):\n",
    "        pin_input = input('Create pin : ')\n",
    "        self.pin = pin_input\n",
    "        \n",
    "        balance_input = int(input('Enter Balance : '))\n",
    "        self.balance = balance_input\n",
    "        \n",
    "        print('Pin Created Sucessfully')\n",
    "        self.menu()\n",
    "        \n",
    "    def change_pin(self):\n",
    "        enter_old_pin = input('Enter Old Pin : ')\n",
    "        if enter_old_pin == self.pin:\n",
    "            create_new_pin = input('Create New Pin')\n",
    "            self.pin = create_new_pin\n",
    "            print('Pin Changed Sucessfully')\n",
    "        else:\n",
    "            print('Wrong Pin')\n",
    "        self.menu()\n",
    "        \n",
    "        \n",
    "    def check_balance(self):\n",
    "        enter_pin = input('Enter Pin : ')\n",
    "        \n",
    "        if enter_pin == self.pin:\n",
    "            print('Current Amount : ',self.balance)\n",
    "            \n",
    "        else:\n",
    "            print('Wrong Pin')\n",
    "        self.menu()\n",
    "    def deposit(self):\n",
    "        ent_f_pin = input('Enter Pin : ')\n",
    "        if ent_f_pin == self.pin:\n",
    "            Amount = int(input('Enter Amount : '))\n",
    "            self.balance += Amount\n",
    "            print('Deposit Sucessful')\n",
    "        else:\n",
    "            print('Wrong pin')\n",
    "        self.menu()\n",
    "        \n",
    "    def withdraw(self):\n",
    "        with_pin = input('Enter Pin : ')\n",
    "        if with_pin == self.pin:\n",
    "            Amount = int(input('Enter Amount : '))\n",
    "            if Amount <= self.balance:\n",
    "                self.balance -= Amount\n",
    "                print('Withdraw Sucessful')\n",
    "            else:\n",
    "                print('Your Enter Amount is More than that you have in Account ! Please Enter Right Amount')\n",
    "        else:\n",
    "            print('Wrong Pin')\n",
    "        self.menu()"
   ]
  },
  {
   "cell_type": "markdown",
   "id": "4c161ca6",
   "metadata": {},
   "source": [
    "# Method vs Functions"
   ]
  },
  {
   "cell_type": "markdown",
   "id": "02ba6d6f",
   "metadata": {},
   "source": [
    "# Method :\n",
    "### 1.Those functions that define in class is called method\n",
    "\n",
    "# Functions :\n",
    "### 2.Those functions that define in global programe is called Functions"
   ]
  },
  {
   "cell_type": "code",
   "execution_count": 4,
   "id": "6d7ff2b2",
   "metadata": {},
   "outputs": [],
   "source": [
    "class Parents:\n",
    "    def __init__(self):\n",
    "        pass\n",
    "    \n",
    "    def display(self): # Method\n",
    "        print('Method inside class')\n",
    "        \n",
    "# -------------------------------------------------------------------------------------------------------------\n",
    "\n",
    "def display(): # Python functions\n",
    "    print('Functions')\n",
    "    \n",
    "    \n",
    "        \n"
   ]
  },
  {
   "cell_type": "markdown",
   "id": "e7eca67c",
   "metadata": {},
   "source": [
    "# Python Dunder Method or magic method for ex : ___init__"
   ]
  },
  {
   "cell_type": "markdown",
   "id": "ce1bc539",
   "metadata": {},
   "source": [
    "### Python Magic methods are the methods starting and ending with double underscores ‘__’. \n",
    "### They are defined by built-in classes in Python and commonly used for operator overloading. "
   ]
  },
  {
   "cell_type": "code",
   "execution_count": 6,
   "id": "aa52c63c",
   "metadata": {},
   "outputs": [
    {
     "data": {
      "text/plain": [
       "\"['__abs__', '__add__', '__and__', '__bool__', '__ceil__', '__class__', '__delattr__', '__dir__', '__divmod__', \\n '__doc__', '__eq__', '__float__', '__floor__', '__floordiv__', '__format__', '__ge__', '_...]\""
      ]
     },
     "execution_count": 6,
     "metadata": {},
     "output_type": "execute_result"
    }
   ],
   "source": [
    "\"\"\"['__abs__', '__add__', '__and__', '__bool__', '__ceil__', '__class__', '__delattr__', '__dir__', '__divmod__', \n",
    " '__doc__', '__eq__', '__float__', '__floor__', '__floordiv__', '__format__', '__ge__', '_...]\"\"\""
   ]
  },
  {
   "cell_type": "markdown",
   "id": "c667b221",
   "metadata": {},
   "source": [
    "# Concept of - self :\n",
    "####  SELF represents the instance of class. This handy keyword allows you to access variables, attributes, and methods of a defined class in Python. The self parameter doesn't have to be named “self,” as you can call it by any other name"
   ]
  },
  {
   "cell_type": "code",
   "execution_count": 8,
   "id": "e0cf5aa4",
   "metadata": {},
   "outputs": [
    {
     "name": "stdout",
     "output_type": "stream",
     "text": [
      "Self is instance of object\n"
     ]
    }
   ],
   "source": [
    "class Phone:\n",
    "    def __init__(self):\n",
    "        print('Self is instance of object')\n",
    "    \n",
    "    \n",
    "    \n",
    "obj = Phone()"
   ]
  },
  {
   "cell_type": "markdown",
   "id": "eb0e12e5",
   "metadata": {},
   "source": [
    "# Build Own Data Types Like Fractions"
   ]
  },
  {
   "cell_type": "code",
   "execution_count": 63,
   "id": "fba50da0",
   "metadata": {},
   "outputs": [],
   "source": [
    "\n",
    "class Fraction:\n",
    "    def __init__(self,x,y):\n",
    "        self.num = x\n",
    "        self.den = y\n",
    "    \n",
    "    def __str__(self):\n",
    "        return '{}/{}'.format(self.num,self.den)\n",
    "    \n",
    "    def __add__(self,others):\n",
    "        new_num = self.num * others.den + others.num * self.den\n",
    "        new_den = self.den * others.den\n",
    "        \n",
    "        return '{}/{}'.format(new_num,new_den)\n",
    "    \n",
    "    \n",
    "    def __sub__(self,others):\n",
    "        new_num = self.num * others.den - others.num * self.den\n",
    "        new_den = self.den * others.den\n",
    "        \n",
    "        return '{}/{}'.format(new_num,new_den)\n",
    "    \n",
    "    \n",
    "    def __mul__(self,others):\n",
    "        new_num = self.num * others.num\n",
    "        new_den = self.den * others.den\n",
    "        \n",
    "        return '{}/{}'.format(new_num,new_den)\n",
    "    \n",
    "    def __truediv__(self,others):\n",
    "        new_num = self.num * others.den\n",
    "        new_den = self.den * others.num\n",
    "        \n",
    "        return '{}/{}'.format(new_num,new_den)\n",
    "    \n",
    "    "
   ]
  },
  {
   "cell_type": "code",
   "execution_count": 78,
   "id": "fca2fa7f",
   "metadata": {},
   "outputs": [],
   "source": [
    "f1 = Fraction(2,3)\n",
    "f2 = Fraction(5,8)"
   ]
  },
  {
   "cell_type": "code",
   "execution_count": 79,
   "id": "78c5b43f",
   "metadata": {},
   "outputs": [
    {
     "name": "stdout",
     "output_type": "stream",
     "text": [
      "2/3\n",
      "5/8\n"
     ]
    }
   ],
   "source": [
    "print(f1)\n",
    "print(f2)"
   ]
  },
  {
   "cell_type": "code",
   "execution_count": 80,
   "id": "91dc47da",
   "metadata": {},
   "outputs": [
    {
     "name": "stdout",
     "output_type": "stream",
     "text": [
      "31/24\n",
      "1/24\n",
      "10/24\n",
      "16/15\n"
     ]
    }
   ],
   "source": [
    "print(f1 + f2)\n",
    "print(f1 - f2)\n",
    "print(f1 * f2)\n",
    "print(f1 / f2)"
   ]
  },
  {
   "cell_type": "markdown",
   "id": "38b3035e",
   "metadata": {},
   "source": [
    "## Create Atm System with the help of Python class & objects\n",
    "### Improving above code"
   ]
  },
  {
   "cell_type": "code",
   "execution_count": 1,
   "id": "4a1e5d97",
   "metadata": {},
   "outputs": [],
   "source": [
    "class Atm:\n",
    "    \n",
    "    def __init__(self):\n",
    "        self.balance = 0\n",
    "        self.pin = ''\n",
    "        self.menu()\n",
    "        \n",
    "        \n",
    "    def menu(self):\n",
    "        user_input = input(\"\"\"\n",
    "        1. Press 1 to Create pin & Deposit Some Balance\n",
    "        2. Press 2 to Change pin\n",
    "        3. Press 3 to Check balance\n",
    "        4. Press 4 to Deposit\n",
    "        5. Press 5. Withdraw\n",
    "        6. Press 6 to CLose Programme\n",
    "        \n",
    "        \"\"\")\n",
    "        \n",
    "        if user_input == '1':\n",
    "            self.create_pin()\n",
    "        elif user_input == '2':\n",
    "            self.change_pin()\n",
    "        elif user_input == '3':\n",
    "            self.check_balance()\n",
    "        elif user_input == '4':\n",
    "            self.deposit()\n",
    "        elif user_input == '5':\n",
    "            self.withdraw()\n",
    "        else:\n",
    "            exit()\n",
    "            \n",
    "    def create_pin(self):\n",
    "        pin_input = input('Create pin : ')\n",
    "        self.pin = pin_input\n",
    "        \n",
    "        balance_input = int(input('Enter Balance : '))\n",
    "        self.balance = balance_input\n",
    "        \n",
    "        print('Pin Created Sucessfully')\n",
    "        self.menu()\n",
    "        \n",
    "    def change_pin(self):\n",
    "        enter_old_pin = input('Enter Old Pin : ')\n",
    "        if enter_old_pin != self.pin:\n",
    "            while True:\n",
    "                enterAgain_old_pin = input('Invalid Pin Try Again : ')\n",
    "                \n",
    "                if enterAgain_old_pin == self.pin:\n",
    "                    print('Pin Correct : ',enterAgain_old_pin)\n",
    "                    create_new_pin = input('Create New Pin')\n",
    "                    self.pin = create_new_pin\n",
    "                    print('Pin Changed Sucessfully')\n",
    "                    break              \n",
    "        else:\n",
    "            create_new_pin = input('Create New Pin')\n",
    "            self.pin = create_new_pin\n",
    "            print('Pin Changed Sucessfully')\n",
    "            \n",
    "        self.menu()\n",
    "        \n",
    "        \n",
    "    def check_balance(self):\n",
    "        enter_pin = input('Enter Pin : ')\n",
    "        \n",
    "        if enter_pin != self.pin:\n",
    "             while True:\n",
    "                enterAgain_old_pin = input('Invalid Pin Try Again : ')\n",
    "                if enterAgain_old_pin == self.pin:\n",
    "                    print('Pin Correct')\n",
    "                    print('Current Amount : ',self.balance)\n",
    "                    break   \n",
    "        else:\n",
    "            print('Current Amount : ',self.balance)\n",
    "            \n",
    "        self.menu()\n",
    "    def deposit(self):\n",
    "        ent_f_pin = input('Enter Pin : ')\n",
    "        if ent_f_pin != self.pin:\n",
    "            while True:\n",
    "                enterAgain_old_pin = input('Invalid Pin Try Again : ')\n",
    "                if enterAgain_old_pin == self.pin:\n",
    "                    print('Pin Correct')\n",
    "                    Amount = int(input('Enter Amount : '))\n",
    "                    self.balance += Amount\n",
    "                    print('Deposit Sucessful')\n",
    "                    break  \n",
    "            \n",
    "        else:\n",
    "            Amount = int(input('Enter Amount : '))\n",
    "            self.balance += Amount\n",
    "            print('Deposit Sucessful')\n",
    "        self.menu()\n",
    "        \n",
    "    def withdraw(self):\n",
    "        with_pin = input('Enter Pin : ')\n",
    "        if with_pin != self.pin:\n",
    "            while True:\n",
    "                enterAgain_old_pin = input('Invalid Pin Try Again : ')\n",
    "                if enterAgain_old_pin == self.pin:\n",
    "                    print('Pin Correct')\n",
    "                    Amount = int(input('Enter Amount : '))\n",
    "                    if Amount <= self.balance:\n",
    "                        self.balance -= Amount\n",
    "                        print('Withdraw Sucessful')\n",
    "                    else:\n",
    "                        print('Your Enter Amount is More than that you have in Account ! Please Enter Right Amount')\n",
    "                    break  \n",
    "            \n",
    "           \n",
    "        else:\n",
    "            Amount = int(input('Enter Amount : '))\n",
    "            if Amount <= self.balance:\n",
    "                self.balance -= Amount\n",
    "                print('Withdraw Sucessful')\n",
    "        self.menu()"
   ]
  },
  {
   "cell_type": "code",
   "execution_count": 2,
   "id": "4cfe7ffa",
   "metadata": {
    "scrolled": true
   },
   "outputs": [
    {
     "name": "stdout",
     "output_type": "stream",
     "text": [
      "\n",
      "        1. Press 1 to Create pin & Deposit Some Balance\n",
      "        2. Press 2 to Change pin\n",
      "        3. Press 3 to Check balance\n",
      "        4. Press 4 to Deposit\n",
      "        5. Press 5. Withdraw\n",
      "        6. Press 6 to CLose Programme\n",
      "        \n",
      "        9\n"
     ]
    }
   ],
   "source": [
    "obj = Atm()"
   ]
  },
  {
   "cell_type": "markdown",
   "id": "1ebf07e6",
   "metadata": {},
   "source": []
  }
 ],
 "metadata": {
  "kernelspec": {
   "display_name": "Python 3 (ipykernel)",
   "language": "python",
   "name": "python3"
  },
  "language_info": {
   "codemirror_mode": {
    "name": "ipython",
    "version": 3
   },
   "file_extension": ".py",
   "mimetype": "text/x-python",
   "name": "python",
   "nbconvert_exporter": "python",
   "pygments_lexer": "ipython3",
   "version": "3.11.2"
  }
 },
 "nbformat": 4,
 "nbformat_minor": 5
}

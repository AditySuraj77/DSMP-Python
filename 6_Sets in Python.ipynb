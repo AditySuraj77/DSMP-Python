{
 "cells": [
  {
   "cell_type": "markdown",
   "id": "531712dc",
   "metadata": {},
   "source": [
    "# Sets\n",
    "#### A set is an unordered collection of items. Every set element is unique (no duplicates) and must be immutable (cannot be changed).\n",
    "\n",
    "#### However, a set itself is mutable. We can add or remove items from it.\n",
    "\n",
    "#### Sets can also be used to perform mathematical set operations like union, intersection, symmetric difference, etc.\n",
    "\n",
    "## Characterstics:\n",
    "\n",
    "### Unordered\n",
    "### Mutable\n",
    "### No Duplicates\n",
    "### Can't contain mutable data types"
   ]
  },
  {
   "cell_type": "markdown",
   "id": "31a96be2",
   "metadata": {},
   "source": [
    "# Creating Set"
   ]
  },
  {
   "cell_type": "code",
   "execution_count": 16,
   "id": "28b3a329",
   "metadata": {
    "scrolled": true
   },
   "outputs": [
    {
     "name": "stdout",
     "output_type": "stream",
     "text": [
      "set()\n",
      "<class 'set'>\n",
      "{8, 2, 4, 6}\n",
      "{1, 2, 3, 4, 5}\n",
      "{1, 2, 5, (5+6j)}\n",
      "<class 'set'>\n",
      "{1, 2, 3}\n",
      "<class 'set'>\n",
      "{32, 2, 3, 4, 5, 12}\n"
     ]
    }
   ],
   "source": [
    "# empty set\n",
    "s1 = set()\n",
    "print(s1)\n",
    "print(type(s1))\n",
    "s2 = {2,4,6,8}\n",
    "print(s2)\n",
    "\n",
    "# homo\n",
    "s3 = {1,2,3,4,5}\n",
    "print(s3)\n",
    "\n",
    "# hetro\n",
    "s4 = {1,2,5,5,True,5+6j}\n",
    "print(s4)\n",
    "print(type(s4))\n",
    "\n",
    "# Using type conversion\n",
    "s5 = set([3,2,1])\n",
    "print(s5)\n",
    "print(type(s5))\n",
    "\n",
    "# Duplicate not allowed\n",
    "s6 = {12,12,2,3,4,5,32}\n",
    "print(s6)\n",
    "\n",
    "# set can't have mutable items\n",
    "#s7 = {2,3,4,[3,4]}\n",
    "#print(s7)\n",
    "\n",
    "#s8 = {1,2,3,{2,3,4}}\n",
    "#print(s8)"
   ]
  },
  {
   "cell_type": "markdown",
   "id": "e8aaf824",
   "metadata": {},
   "source": [
    "# Accessing items (error)"
   ]
  },
  {
   "cell_type": "code",
   "execution_count": 22,
   "id": "79a331cb",
   "metadata": {},
   "outputs": [
    {
     "ename": "TypeError",
     "evalue": "'set' object is not subscriptable",
     "output_type": "error",
     "traceback": [
      "\u001b[1;31m---------------------------------------------------------------------------\u001b[0m",
      "\u001b[1;31mTypeError\u001b[0m                                 Traceback (most recent call last)",
      "Cell \u001b[1;32mIn[22], line 5\u001b[0m\n\u001b[0;32m      3\u001b[0m s9 \u001b[38;5;241m=\u001b[39m {\u001b[38;5;241m1\u001b[39m,\u001b[38;5;241m2\u001b[39m,\u001b[38;5;241m3\u001b[39m,\u001b[38;5;241m4\u001b[39m,\u001b[38;5;241m5\u001b[39m}\n\u001b[0;32m      4\u001b[0m \u001b[38;5;66;03m#index\u001b[39;00m\n\u001b[1;32m----> 5\u001b[0m \u001b[43ms9\u001b[49m\u001b[43m[\u001b[49m\u001b[38;5;241;43m0\u001b[39;49m\u001b[43m]\u001b[49m\n\u001b[0;32m      6\u001b[0m s9[\u001b[38;5;241m-\u001b[39m\u001b[38;5;241m1\u001b[39m]\n\u001b[0;32m      8\u001b[0m \u001b[38;5;66;03m#slicing\u001b[39;00m\n",
      "\u001b[1;31mTypeError\u001b[0m: 'set' object is not subscriptable"
     ]
    }
   ],
   "source": [
    "# Indexing and slicing are not allowed in set because set are immutable\n",
    "\n",
    "s9 = {1,2,3,4,5}\n",
    "#index\n",
    "s9[0]\n",
    "s9[-1]\n",
    "\n",
    "#slicing\n",
    "s9[0:3]\n",
    "s9[-2:-1]\n"
   ]
  },
  {
   "cell_type": "markdown",
   "id": "9f963ba2",
   "metadata": {},
   "source": [
    "# editing items (error)"
   ]
  },
  {
   "cell_type": "code",
   "execution_count": 23,
   "id": "a9595868",
   "metadata": {},
   "outputs": [
    {
     "ename": "TypeError",
     "evalue": "'set' object does not support item assignment",
     "output_type": "error",
     "traceback": [
      "\u001b[1;31m---------------------------------------------------------------------------\u001b[0m",
      "\u001b[1;31mTypeError\u001b[0m                                 Traceback (most recent call last)",
      "Cell \u001b[1;32mIn[23], line 2\u001b[0m\n\u001b[0;32m      1\u001b[0m s9 \u001b[38;5;241m=\u001b[39m {\u001b[38;5;241m1\u001b[39m,\u001b[38;5;241m2\u001b[39m,\u001b[38;5;241m3\u001b[39m,\u001b[38;5;241m4\u001b[39m,\u001b[38;5;241m5\u001b[39m}\n\u001b[1;32m----> 2\u001b[0m \u001b[43ms9\u001b[49m\u001b[43m[\u001b[49m\u001b[38;5;241;43m2\u001b[39;49m\u001b[43m]\u001b[49m \u001b[38;5;241m=\u001b[39m \u001b[38;5;241m100\u001b[39m\n",
      "\u001b[1;31mTypeError\u001b[0m: 'set' object does not support item assignment"
     ]
    }
   ],
   "source": [
    "# Indexing and slicing are not allowed in set so we can't edit any item in set\n",
    "s9 = {1,2,3,4,5}\n",
    "s9[2] = 100\n"
   ]
  },
  {
   "cell_type": "markdown",
   "id": "f99125fe",
   "metadata": {},
   "source": [
    "# adding items"
   ]
  },
  {
   "cell_type": "code",
   "execution_count": 28,
   "id": "5e12c357",
   "metadata": {},
   "outputs": [
    {
     "name": "stdout",
     "output_type": "stream",
     "text": [
      "{1, 2, 100, 4, 5}\n",
      "{1, 2, 100, 4, 5, 200, 300}\n"
     ]
    }
   ],
   "source": [
    "# add\n",
    "s10 = {1,2,4,5}\n",
    "\n",
    "s10.add(100) # add allowed to add single item in set\n",
    "print(s10)\n",
    "\n",
    "# update\n",
    "s10.update([200,200,300]) # update allowed to add multiple item in set\n",
    "print(s10)"
   ]
  },
  {
   "cell_type": "markdown",
   "id": "99785655",
   "metadata": {},
   "source": [
    "# delete items"
   ]
  },
  {
   "cell_type": "code",
   "execution_count": 29,
   "id": "20ba174a",
   "metadata": {},
   "outputs": [
    {
     "name": "stdout",
     "output_type": "stream",
     "text": [
      "{1, 2, 4, 'hello'}\n"
     ]
    },
    {
     "ename": "NameError",
     "evalue": "name 's11' is not defined",
     "output_type": "error",
     "traceback": [
      "\u001b[1;31m---------------------------------------------------------------------------\u001b[0m",
      "\u001b[1;31mNameError\u001b[0m                                 Traceback (most recent call last)",
      "Cell \u001b[1;32mIn[29], line 6\u001b[0m\n\u001b[0;32m      4\u001b[0m \u001b[38;5;28mprint\u001b[39m(s11)\n\u001b[0;32m      5\u001b[0m \u001b[38;5;28;01mdel\u001b[39;00m s11\n\u001b[1;32m----> 6\u001b[0m \u001b[38;5;28mprint\u001b[39m(\u001b[43ms11\u001b[49m)\n",
      "\u001b[1;31mNameError\u001b[0m: name 's11' is not defined"
     ]
    }
   ],
   "source": [
    "# del\n",
    "\n",
    "s11 = {1,2,4,'hello',True}\n",
    "print(s11)\n",
    "del s11\n",
    "print(s11)"
   ]
  },
  {
   "cell_type": "code",
   "execution_count": 30,
   "id": "a1bf62f0",
   "metadata": {},
   "outputs": [
    {
     "name": "stdout",
     "output_type": "stream",
     "text": [
      "{1, 2, 4, 'hello'}\n"
     ]
    },
    {
     "ename": "TypeError",
     "evalue": "'set' object doesn't support item deletion",
     "output_type": "error",
     "traceback": [
      "\u001b[1;31m---------------------------------------------------------------------------\u001b[0m",
      "\u001b[1;31mTypeError\u001b[0m                                 Traceback (most recent call last)",
      "Cell \u001b[1;32mIn[30], line 3\u001b[0m\n\u001b[0;32m      1\u001b[0m s11 \u001b[38;5;241m=\u001b[39m {\u001b[38;5;241m1\u001b[39m,\u001b[38;5;241m2\u001b[39m,\u001b[38;5;241m4\u001b[39m,\u001b[38;5;124m'\u001b[39m\u001b[38;5;124mhello\u001b[39m\u001b[38;5;124m'\u001b[39m,\u001b[38;5;28;01mTrue\u001b[39;00m}\n\u001b[0;32m      2\u001b[0m \u001b[38;5;28mprint\u001b[39m(s11)\n\u001b[1;32m----> 3\u001b[0m \u001b[38;5;28;01mdel\u001b[39;00m \u001b[43ms11\u001b[49m\u001b[43m[\u001b[49m\u001b[38;5;241;43m2\u001b[39;49m\u001b[43m]\u001b[49m\n\u001b[0;32m      4\u001b[0m \u001b[38;5;28mprint\u001b[39m(s11)\n",
      "\u001b[1;31mTypeError\u001b[0m: 'set' object doesn't support item deletion"
     ]
    }
   ],
   "source": [
    "s11 = {1,2,4,'hello',True}\n",
    "print(s11)\n",
    "del s11[2]\n",
    "print(s11)"
   ]
  },
  {
   "cell_type": "code",
   "execution_count": 33,
   "id": "f4232f38",
   "metadata": {},
   "outputs": [
    {
     "name": "stdout",
     "output_type": "stream",
     "text": [
      "{False, 1, 2, 'hello'}\n"
     ]
    }
   ],
   "source": [
    "# discard\n",
    "s11 = {1,2,4,'hello',False}\n",
    "s11.discard(4) # discard delete those item that we choose\n",
    "print(s11)"
   ]
  },
  {
   "cell_type": "code",
   "execution_count": 34,
   "id": "c027f27b",
   "metadata": {},
   "outputs": [
    {
     "name": "stdout",
     "output_type": "stream",
     "text": [
      "{1, 4, 5, 6}\n"
     ]
    }
   ],
   "source": [
    "# remove\n",
    "s11 = {1,2,4,5,6}\n",
    "\n",
    "s11.remove(2)\n",
    "print(s11)"
   ]
  },
  {
   "cell_type": "code",
   "execution_count": 37,
   "id": "4e53f83a",
   "metadata": {},
   "outputs": [
    {
     "name": "stdout",
     "output_type": "stream",
     "text": [
      "{2, 4, 5, 6}\n"
     ]
    }
   ],
   "source": [
    "# pop\n",
    "s11 = {1,2,4,5,6}\n",
    "\n",
    "s11.pop()\n",
    "print(s11)"
   ]
  },
  {
   "cell_type": "code",
   "execution_count": 38,
   "id": "6c9e8b53",
   "metadata": {},
   "outputs": [
    {
     "name": "stdout",
     "output_type": "stream",
     "text": [
      "set()\n"
     ]
    }
   ],
   "source": [
    "# clear\n",
    "s11 = {1,2,4,5,6}\n",
    "\n",
    "s11.clear()\n",
    "print(s11)"
   ]
  },
  {
   "cell_type": "markdown",
   "id": "2c6a0b9c",
   "metadata": {},
   "source": [
    "# Set operations"
   ]
  },
  {
   "cell_type": "code",
   "execution_count": 44,
   "id": "6b3f3bfb",
   "metadata": {},
   "outputs": [
    {
     "name": "stdout",
     "output_type": "stream",
     "text": [
      "{1, 2, 3, 4, 5, 6, 7, 8}\n",
      "{4, 5}\n",
      "{8, 6, 7}\n",
      "{1, 2, 3, 6, 7, 8}\n"
     ]
    }
   ],
   "source": [
    "s1 = {1,2,3,4,5}\n",
    "s2 = {4,5,6,7,8}\n",
    "\n",
    "# Union |\n",
    "print(s1 | s2)\n",
    "\n",
    "# Intersections &\n",
    "print(s1 & s2)\n",
    "\n",
    "# differnece\n",
    "print(s2 - s1)\n",
    "\n",
    "# # Symmetric Difference(^)\n",
    "print(s2 ^ s1)"
   ]
  },
  {
   "cell_type": "code",
   "execution_count": 46,
   "id": "ffb889c8",
   "metadata": {},
   "outputs": [
    {
     "name": "stdout",
     "output_type": "stream",
     "text": [
      "False\n",
      "False\n"
     ]
    }
   ],
   "source": [
    "# membership operator\n",
    "s2 = {4,5,6,7,8}\n",
    "\n",
    "print(55 in s2)\n",
    "print(5 not in s2)\n"
   ]
  },
  {
   "cell_type": "code",
   "execution_count": 47,
   "id": "8480fee9",
   "metadata": {},
   "outputs": [
    {
     "name": "stdout",
     "output_type": "stream",
     "text": [
      "4\n",
      "5\n",
      "6\n",
      "7\n",
      "8\n"
     ]
    }
   ],
   "source": [
    "# loop\n",
    "s2 = {4,5,6,7,8}\n",
    "\n",
    "for i in s2:\n",
    "    print(i)"
   ]
  },
  {
   "cell_type": "markdown",
   "id": "49c04b00",
   "metadata": {},
   "source": [
    "# Set functions"
   ]
  },
  {
   "cell_type": "code",
   "execution_count": 53,
   "id": "75bd6f3d",
   "metadata": {},
   "outputs": [
    {
     "name": "stdout",
     "output_type": "stream",
     "text": [
      "5\n",
      "4\n",
      "8\n",
      "[8, 7, 6, 5, 4]\n"
     ]
    }
   ],
   "source": [
    "# len/sum/min/max/sorted\n",
    "s2 = {4,5,6,7,8}\n",
    "\n",
    "print(len(s2))\n",
    "print(min(s2))\n",
    "print(max(s2))\n",
    "print(sorted(s2,reverse=True))"
   ]
  },
  {
   "cell_type": "code",
   "execution_count": 59,
   "id": "e8d785d1",
   "metadata": {},
   "outputs": [
    {
     "name": "stdout",
     "output_type": "stream",
     "text": [
      "{0, 1, 2, 3, 33, 100, 11, 22}\n"
     ]
    }
   ],
   "source": [
    "# union\n",
    "s1 = {0,1,2,3}\n",
    "s2 = {33,22,11,100}\n",
    "\n",
    "print(s1.union(s2))\n",
    "\n",
    "# update\n",
    "s1.update(s2)"
   ]
  },
  {
   "cell_type": "code",
   "execution_count": 62,
   "id": "7cc602aa",
   "metadata": {},
   "outputs": [
    {
     "name": "stdout",
     "output_type": "stream",
     "text": [
      "{2.4, 2.3}\n",
      "{2.4, 2.3}\n"
     ]
    }
   ],
   "source": [
    "# copy\n",
    "s1 = {2.4,2.3}\n",
    "print(s1)\n",
    "s2 = s1.copy()\n",
    "print(s2)"
   ]
  },
  {
   "cell_type": "markdown",
   "id": "9ad242db",
   "metadata": {},
   "source": [
    "# Frozenset\n",
    "#### Frozen set is just an immutable version of a Python set object"
   ]
  },
  {
   "cell_type": "code",
   "execution_count": 63,
   "id": "f7657986",
   "metadata": {},
   "outputs": [
    {
     "name": "stdout",
     "output_type": "stream",
     "text": [
      "<class 'frozenset'>\n",
      "<class 'frozenset'>\n"
     ]
    }
   ],
   "source": [
    "f_1 = frozenset([1,2,4])\n",
    "f_2 =frozenset([5,6,7])\n",
    "\n",
    "print(type(f_1))\n",
    "print(type(f_2))"
   ]
  },
  {
   "cell_type": "markdown",
   "id": "d9856e9d",
   "metadata": {},
   "source": [
    "# what works and what does not\n",
    "### works -> all read functions\n",
    "### does't work -> write operations"
   ]
  },
  {
   "cell_type": "code",
   "execution_count": 65,
   "id": "c87e303a",
   "metadata": {},
   "outputs": [
    {
     "name": "stdout",
     "output_type": "stream",
     "text": [
      "frozenset({frozenset({3, 4}), 2, 4})\n"
     ]
    }
   ],
   "source": [
    "fs = frozenset([2,4 ,frozenset([3,4])])\n",
    "print(fs)"
   ]
  },
  {
   "cell_type": "markdown",
   "id": "740d4882",
   "metadata": {},
   "source": [
    "# set comprehension"
   ]
  },
  {
   "cell_type": "code",
   "execution_count": 68,
   "id": "8758d736",
   "metadata": {},
   "outputs": [
    {
     "name": "stdout",
     "output_type": "stream",
     "text": [
      "{64, 1, 4, 36, 100, 9, 16, 49, 81, 25}\n"
     ]
    }
   ],
   "source": [
    "s12 = {1,2,3,4,5,6,7,8,9,10}\n",
    "\n",
    "# set comprehension\n",
    "sqrt_s = {i**2 for i in s12 }\n",
    "print(sqrt_s)"
   ]
  },
  {
   "cell_type": "code",
   "execution_count": null,
   "id": "5b1bb9f0",
   "metadata": {},
   "outputs": [],
   "source": []
  }
 ],
 "metadata": {
  "kernelspec": {
   "display_name": "Python 3 (ipykernel)",
   "language": "python",
   "name": "python3"
  },
  "language_info": {
   "codemirror_mode": {
    "name": "ipython",
    "version": 3
   },
   "file_extension": ".py",
   "mimetype": "text/x-python",
   "name": "python",
   "nbconvert_exporter": "python",
   "pygments_lexer": "ipython3",
   "version": "3.11.2"
  }
 },
 "nbformat": 4,
 "nbformat_minor": 5
}

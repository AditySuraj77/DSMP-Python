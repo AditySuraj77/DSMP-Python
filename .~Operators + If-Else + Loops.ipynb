{
 "cells": [
  {
   "cell_type": "markdown",
   "id": "6f627225",
   "metadata": {},
   "source": [
    "#  Operators in python"
   ]
  },
  {
   "cell_type": "markdown",
   "id": "d6c96833",
   "metadata": {},
   "source": [
    "## 1. Arithmetic Operators"
   ]
  },
  {
   "cell_type": "code",
   "execution_count": 3,
   "id": "fd341e8e",
   "metadata": {},
   "outputs": [
    {
     "name": "stdout",
     "output_type": "stream",
     "text": [
      "8\n",
      "2\n",
      "15\n",
      "1.6666666666666667\n",
      "1\n",
      "2\n",
      "25\n"
     ]
    }
   ],
   "source": [
    "print(5+3)\n",
    "print(5-3)\n",
    "print(5*3)\n",
    "print(5/3)\n",
    "print(5//3)\n",
    "print(5%3)\n",
    "print(5**2)"
   ]
  },
  {
   "cell_type": "markdown",
   "id": "392a2520",
   "metadata": {},
   "source": [
    "## 2. Relational Operators"
   ]
  },
  {
   "cell_type": "code",
   "execution_count": 5,
   "id": "d4bc6bd9",
   "metadata": {},
   "outputs": [
    {
     "name": "stdout",
     "output_type": "stream",
     "text": [
      "True\n",
      "False\n",
      "False\n",
      "True\n",
      "True\n",
      "False\n"
     ]
    }
   ],
   "source": [
    "print(5 == 5)\n",
    "print(5 > 5)\n",
    "print(5 < 5)\n",
    "print(5 >= 5)\n",
    "print(5 <= 5)\n",
    "print(5 != 5)"
   ]
  },
  {
   "cell_type": "markdown",
   "id": "d343e5ed",
   "metadata": {},
   "source": [
    "## 3. Logical Operators"
   ]
  },
  {
   "cell_type": "code",
   "execution_count": 22,
   "id": "ea49cfbf",
   "metadata": {},
   "outputs": [
    {
     "name": "stdout",
     "output_type": "stream",
     "text": [
      "1\n",
      "1\n",
      "True\n",
      "False\n"
     ]
    }
   ],
   "source": [
    "print(1 and 1)\n",
    "print(1 or 0)\n",
    "print(not 0)\n",
    "print(not 1)"
   ]
  },
  {
   "cell_type": "markdown",
   "id": "a3408e23",
   "metadata": {},
   "source": [
    "## 4.Bitwise Operators"
   ]
  },
  {
   "cell_type": "code",
   "execution_count": 27,
   "id": "c5ac77a3",
   "metadata": {},
   "outputs": [
    {
     "name": "stdout",
     "output_type": "stream",
     "text": [
      "2\n",
      "3\n",
      "7\n"
     ]
    }
   ],
   "source": [
    "print(2 & 3)\n",
    "print(3 | 1)\n",
    "print(4 ^ 3)"
   ]
  },
  {
   "cell_type": "markdown",
   "id": "4e321941",
   "metadata": {},
   "source": [
    "## 5. Assignment Operators"
   ]
  },
  {
   "cell_type": "code",
   "execution_count": 28,
   "id": "8fb199a6",
   "metadata": {},
   "outputs": [
    {
     "name": "stdout",
     "output_type": "stream",
     "text": [
      "1\n"
     ]
    }
   ],
   "source": [
    "a = 0\n",
    "a += 1\n",
    "print(a)"
   ]
  },
  {
   "cell_type": "markdown",
   "id": "edb961a1",
   "metadata": {},
   "source": [
    "## 6. Membership Operators"
   ]
  },
  {
   "cell_type": "code",
   "execution_count": 30,
   "id": "8f15fd4c",
   "metadata": {},
   "outputs": [
    {
     "name": "stdout",
     "output_type": "stream",
     "text": [
      "True\n",
      "True\n"
     ]
    }
   ],
   "source": [
    "print('D' in 'Delhi')\n",
    "print(1 not in [2,3,5,6,7])"
   ]
  },
  {
   "cell_type": "markdown",
   "id": "6fbf4266",
   "metadata": {},
   "source": [
    "#### Find the sum of three number those provide by user"
   ]
  },
  {
   "cell_type": "code",
   "execution_count": 46,
   "id": "51ae0b94",
   "metadata": {},
   "outputs": [
    {
     "name": "stdout",
     "output_type": "stream",
     "text": [
      "Enter Three Number :444\n",
      "Sum of three Number =   12\n"
     ]
    }
   ],
   "source": [
    "user = input('Enter Three Number :')\n",
    "f_n = int(user[0])\n",
    "s_n = int(user[1])\n",
    "t_n = int(user[2])\n",
    "\n",
    "print('Sum of three Number =  ', f_n + s_n + t_n)\n"
   ]
  },
  {
   "cell_type": "markdown",
   "id": "bbe9ecc7",
   "metadata": {},
   "source": [
    "# If-else in Python"
   ]
  },
  {
   "cell_type": "code",
   "execution_count": null,
   "id": "c3a377a2",
   "metadata": {},
   "outputs": [],
   "source": [
    "user_mail = input('Enter Email : ')\n",
    "password = input('Enter Password : ')\n",
    "\n",
    "if user_mail == 'empty@gmail.com' and password == '100':\n",
    "    print('welcome')\n",
    "elif user_mail == 'empty@gmail.com' and password != '100':\n",
    "    print('Incorrect Password')\n",
    "    password = input('Enter Again Password')\n",
    "    if password == '100':\n",
    "        print('Login Successfully')\n",
    "        \n",
    "else:\n",
    "    print('Invalid Details')\n",
    "    "
   ]
  },
  {
   "cell_type": "markdown",
   "id": "38050ee6",
   "metadata": {},
   "source": [
    "####  1. Find the min of 3 given numbers"
   ]
  },
  {
   "cell_type": "code",
   "execution_count": 1,
   "id": "5c6af1c0",
   "metadata": {},
   "outputs": [
    {
     "name": "stdout",
     "output_type": "stream",
     "text": [
      "Enter 1st Number : 9\n",
      "Enter 2nd Number : 4\n",
      "Enter 3rd Number : 5\n",
      "2nd is smaller\n"
     ]
    }
   ],
   "source": [
    "n1 = int(input('Enter 1st Number : '))\n",
    "n2 = int(input('Enter 2nd Number : '))\n",
    "n3 = int(input('Enter 3rd Number : '))\n",
    "\n",
    "if n1 < n2 and n1 <n3:\n",
    "    print('1st is Smaller')\n",
    "elif n2 < n3 and n2<n1:\n",
    "    print('2nd is smaller')\n",
    "else:\n",
    "    print('3rd is smaller')"
   ]
  },
  {
   "cell_type": "markdown",
   "id": "c54e1ffc",
   "metadata": {},
   "source": [
    "#### 2. Menu Driven Programme"
   ]
  },
  {
   "cell_type": "code",
   "execution_count": 5,
   "id": "1171ca3e",
   "metadata": {},
   "outputs": [
    {
     "name": "stdout",
     "output_type": "stream",
     "text": [
      "\n",
      "    Hay! how can i help you\n",
      "    Press 1 to Check Balance\n",
      "    Press 2 to withdrawl\n",
      "    Press 3 to pin check\n",
      "    Press 4 to exit\n",
      "\n",
      "4\n",
      "Thank you ! \n"
     ]
    }
   ],
   "source": [
    "menu = input(\"\"\"\n",
    "    Hay! how can i help you\n",
    "    Press 1 to Check Balance\n",
    "    Press 2 to withdrawl\n",
    "    Press 3 to pin check\n",
    "    Press 4 to exit\n",
    "\n",
    "\"\"\")\n",
    "\n",
    "if menu == '1':\n",
    "    print('Amount is 0')\n",
    "elif menu == '2':\n",
    "    print('No WithDrawl')\n",
    "elif menu =='3':\n",
    "    print('Empty Pin')\n",
    "else:\n",
    "    print('Thank you ! ')"
   ]
  },
  {
   "cell_type": "markdown",
   "id": "5c97b393",
   "metadata": {},
   "source": [
    "#### 3. Calculate the number those given by user "
   ]
  },
  {
   "cell_type": "code",
   "execution_count": 11,
   "id": "447297a6",
   "metadata": {},
   "outputs": [
    {
     "name": "stdout",
     "output_type": "stream",
     "text": [
      "Enter 1st Number : 2\n",
      "Enter 2nd Number : 2\n",
      "Which Operations you want to perform :  + - * //\n",
      "Divisions of the number is =  1.0\n"
     ]
    }
   ],
   "source": [
    "user_f_num = int(input('Enter 1st Number : '))\n",
    "user_s_num = int(input('Enter 2nd Number : '))\n",
    "\n",
    "user_operations = input('Which Operations you want to perform :  + - * /')\n",
    "\n",
    "if user_operations == \"+\":\n",
    "    print('Addition of the number is = ', user_f_num + user_s_num)\n",
    "elif user_operations ==\"-\":\n",
    "    print('Subtraction of the number is = ', user_f_num - user_s_num)\n",
    "\n",
    "elif user_operations ==\"*\":\n",
    "    print('Multiplications of the number is = ', user_f_num * user_s_num)\n",
    "    \n",
    "elif user_operations ==\"/\":\n",
    "    print('Divisions of the number is = ', user_f_num / user_s_num)\n",
    "else:\n",
    "    print('Incorrect')"
   ]
  },
  {
   "cell_type": "markdown",
   "id": "39972cd1",
   "metadata": {},
   "source": [
    "# Loops in Python"
   ]
  },
  {
   "cell_type": "markdown",
   "id": "37e1daec",
   "metadata": {},
   "source": [
    "### While Loops"
   ]
  },
  {
   "cell_type": "code",
   "execution_count": 15,
   "id": "41b40668",
   "metadata": {},
   "outputs": [
    {
     "name": "stdout",
     "output_type": "stream",
     "text": [
      "Enter a Number : 2\n",
      "2 * 1 = 2\n",
      "2 * 2 = 4\n",
      "2 * 3 = 6\n",
      "2 * 4 = 8\n",
      "2 * 5 = 10\n",
      "2 * 6 = 12\n",
      "2 * 7 = 14\n",
      "2 * 8 = 16\n",
      "2 * 9 = 18\n",
      "2 * 10 = 20\n"
     ]
    }
   ],
   "source": [
    "user = int(input('Enter a Number : '))\n",
    "\n",
    "i = 1\n",
    "\n",
    "while i <11:\n",
    "    print(user,'*',i,'=',user*i)\n",
    "    \n",
    "    i +=1\n",
    "\n"
   ]
  },
  {
   "cell_type": "markdown",
   "id": "4571e07c",
   "metadata": {},
   "source": [
    "#### Build guessing game using while loop"
   ]
  },
  {
   "cell_type": "code",
   "execution_count": 2,
   "id": "18630dde",
   "metadata": {},
   "outputs": [
    {
     "name": "stdout",
     "output_type": "stream",
     "text": [
      "Guess the Number : 34\n",
      "NO!  Guess Lower\n",
      "Guess the Number : 30\n",
      "NO!  Guess Lower\n",
      "Guess the Number : 25\n",
      "NO!  Guess Lower\n",
      "Guess the Number : 20\n",
      "NO!  Guess Lower\n",
      "Guess the Number : 10\n",
      "NO! Guess Higher\n",
      "Guess the Number : 15\n",
      "NO!  Guess Lower\n",
      "Guess the Number : 12\n",
      "NO! Guess Higher\n",
      "Guess the Number : 13\n",
      "Congratulations Your Guess is right  13\n",
      "Your Number of Attempt :  8\n"
     ]
    }
   ],
   "source": [
    "import random\n",
    "\n",
    "jackpot = random.randint(1,100)\n",
    "\n",
    "user = int(input('Guess the Number : '))\n",
    "counter = 1\n",
    "\n",
    "while user != jackpot:\n",
    "    if user > jackpot:\n",
    "        print('NO!  Guess Lower')\n",
    "    else:\n",
    "        print('NO! Guess Higher')\n",
    "        \n",
    "        \n",
    "    user = int(input('Guess the Number : '))\n",
    "    counter +=1\n",
    "    \n",
    "else:\n",
    "    print('Congratulations Your Guess is right ', user)\n",
    "    print('Your Number of Attempt : ',counter)\n",
    "    \n",
    "    \n",
    "    \n",
    "    "
   ]
  },
  {
   "cell_type": "markdown",
   "id": "fb59e7cb",
   "metadata": {},
   "source": [
    "# For Loop"
   ]
  },
  {
   "cell_type": "code",
   "execution_count": 4,
   "id": "3bce9769",
   "metadata": {},
   "outputs": [
    {
     "name": "stdout",
     "output_type": "stream",
     "text": [
      "1\n",
      "2\n",
      "3\n",
      "4\n",
      "5\n",
      "6\n",
      "7\n",
      "8\n",
      "9\n",
      "K\n",
      "o\n",
      "l\n",
      "k\n",
      "a\n",
      "t\n",
      "a\n"
     ]
    }
   ],
   "source": [
    "for i in range(1,10):\n",
    "    print(i)\n",
    "    \n",
    "for i in 'Kolkata':\n",
    "    print(i)"
   ]
  },
  {
   "cell_type": "code",
   "execution_count": null,
   "id": "79d9c7fd",
   "metadata": {},
   "outputs": [],
   "source": []
  }
 ],
 "metadata": {
  "kernelspec": {
   "display_name": "Python 3 (ipykernel)",
   "language": "python",
   "name": "python3"
  },
  "language_info": {
   "codemirror_mode": {
    "name": "ipython",
    "version": 3
   },
   "file_extension": ".py",
   "mimetype": "text/x-python",
   "name": "python",
   "nbconvert_exporter": "python",
   "pygments_lexer": "ipython3",
   "version": "3.11.2"
  }
 },
 "nbformat": 4,
 "nbformat_minor": 5
}

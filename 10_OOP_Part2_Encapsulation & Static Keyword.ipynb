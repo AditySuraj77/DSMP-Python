{
 "cells": [
  {
   "cell_type": "markdown",
   "id": "76eb05b0",
   "metadata": {},
   "source": [
    "## How objects access attributes"
   ]
  },
  {
   "cell_type": "code",
   "execution_count": 1,
   "id": "41d24b88",
   "metadata": {},
   "outputs": [],
   "source": [
    "class Phone:\n",
    "    def __init__(self,name,price):\n",
    "        self.name = name\n",
    "        self.price = price\n",
    "        \n",
    "        "
   ]
  },
  {
   "cell_type": "code",
   "execution_count": 2,
   "id": "ac4a9a67",
   "metadata": {},
   "outputs": [],
   "source": [
    "obj = Phone('Moto','23000')"
   ]
  },
  {
   "cell_type": "code",
   "execution_count": 19,
   "id": "2e71b5f0",
   "metadata": {},
   "outputs": [
    {
     "data": {
      "text/plain": [
       "'23000'"
      ]
     },
     "execution_count": 19,
     "metadata": {},
     "output_type": "execute_result"
    }
   ],
   "source": [
    "obj.name # accessing attributes from the class\n",
    "obj.price # accessing attributes from the class\n"
   ]
  },
  {
   "cell_type": "markdown",
   "id": "6b7aacc8",
   "metadata": {},
   "source": [
    "## Attribute creation from outside of the class"
   ]
  },
  {
   "cell_type": "code",
   "execution_count": 20,
   "id": "dd83d49a",
   "metadata": {},
   "outputs": [],
   "source": [
    "obj.battries = '6000mAH'"
   ]
  },
  {
   "cell_type": "code",
   "execution_count": 21,
   "id": "4c267e2c",
   "metadata": {},
   "outputs": [
    {
     "data": {
      "text/plain": [
       "'6000mAH'"
      ]
     },
     "execution_count": 21,
     "metadata": {},
     "output_type": "execute_result"
    }
   ],
   "source": [
    "obj.battries"
   ]
  },
  {
   "cell_type": "code",
   "execution_count": 22,
   "id": "bd4eb2c1",
   "metadata": {},
   "outputs": [],
   "source": [
    "def display():\n",
    "    return 'Hello'"
   ]
  },
  {
   "cell_type": "code",
   "execution_count": 23,
   "id": "85dda53b",
   "metadata": {},
   "outputs": [
    {
     "data": {
      "text/plain": [
       "'Hello'"
      ]
     },
     "execution_count": 23,
     "metadata": {},
     "output_type": "execute_result"
    }
   ],
   "source": [
    "display()"
   ]
  },
  {
   "cell_type": "code",
   "execution_count": 24,
   "id": "c6722495",
   "metadata": {},
   "outputs": [],
   "source": [
    "obj.display = display() # creating method outside the class"
   ]
  },
  {
   "cell_type": "code",
   "execution_count": 25,
   "id": "2b4d30f7",
   "metadata": {},
   "outputs": [
    {
     "data": {
      "text/plain": [
       "'Hello'"
      ]
     },
     "execution_count": 25,
     "metadata": {},
     "output_type": "execute_result"
    }
   ],
   "source": [
    "obj.display"
   ]
  },
  {
   "cell_type": "markdown",
   "id": "ad075268",
   "metadata": {},
   "source": [
    "### Reference Variables\n",
    "\n",
    "- Reference variables hold the objects\n",
    "- We can create objects without reference variable as well\n",
    "- An object can have multiple reference variables\n",
    "- Assigning a new reference variable to an existing object does not create a new object"
   ]
  },
  {
   "cell_type": "code",
   "execution_count": 26,
   "id": "1a2d86aa",
   "metadata": {},
   "outputs": [
    {
     "data": {
      "text/plain": [
       "'Hello'"
      ]
     },
     "execution_count": 26,
     "metadata": {},
     "output_type": "execute_result"
    }
   ],
   "source": [
    "obj1 = obj\n",
    "obj1.display"
   ]
  },
  {
   "cell_type": "markdown",
   "id": "89aa3909",
   "metadata": {},
   "source": [
    "# Pass by Reference\n"
   ]
  },
  {
   "cell_type": "code",
   "execution_count": 31,
   "id": "ecd6d347",
   "metadata": {},
   "outputs": [
    {
     "name": "stdout",
     "output_type": "stream",
     "text": [
      "Hay i am Sam and i am 14 year old and my roll number is 432\n"
     ]
    }
   ],
   "source": [
    "# Functions take object as arguments\n",
    "class Student:\n",
    "    def __init__(self,name,age,roll):\n",
    "        self.name = name\n",
    "        self.age = age\n",
    "        self.roll = roll\n",
    "        \n",
    "        \n",
    "# functions creating outside the class\n",
    "\n",
    "def greet(person):\n",
    "    print(f'Hay i am {person.name} and i am {person.age} year old and my roll number is {person.roll}')\n",
    "    \n",
    "\n",
    "s = Student('Sam',14,432)\n",
    "greet(s) # this is functions take objects as arguments"
   ]
  },
  {
   "cell_type": "code",
   "execution_count": 33,
   "id": "21456ca4",
   "metadata": {},
   "outputs": [
    {
     "name": "stdout",
     "output_type": "stream",
     "text": [
      "('Sam', 14, 432)\n"
     ]
    }
   ],
   "source": [
    "# Functions retunrn objects \n",
    "class Student:\n",
    "    def __init__(self,name,age,roll):\n",
    "        self.name = name\n",
    "        self.age = age\n",
    "        self.roll = roll\n",
    "        \n",
    "        \n",
    "# functions creating outside the class\n",
    "\n",
    "def greet(person):\n",
    "    return person.name, person.age, person.roll # this is functions returning objects\n",
    "    \n",
    "\n",
    "s = Student('Sam',14,432)\n",
    "x = greet(s)\n",
    "print(x)"
   ]
  },
  {
   "cell_type": "markdown",
   "id": "17265274",
   "metadata": {},
   "source": [
    "- Basicaly above all game is REFRENCE\n",
    "- A method of passing the address of an argument in the calling function to a corresponding parameter in the called function."
   ]
  },
  {
   "cell_type": "markdown",
   "id": "9b008ed5",
   "metadata": {},
   "source": [
    "# Object ki mutability"
   ]
  },
  {
   "cell_type": "code",
   "execution_count": 38,
   "id": "fcd0a218",
   "metadata": {},
   "outputs": [
    {
     "name": "stdout",
     "output_type": "stream",
     "text": [
      "2215826880976\n",
      "18 Ram 234\n",
      "2215826880976\n"
     ]
    }
   ],
   "source": [
    "# Obect of class is mutable because her object is refer to an particular address\n",
    "class Student:\n",
    "    def __init__(self,name,age,roll):\n",
    "        self.name = name\n",
    "        self.age = age\n",
    "        self.roll = roll\n",
    "        \n",
    "        \n",
    "def greet(person):\n",
    "    person.name = 'Ram'\n",
    "    person.age = 18 # Changing value of attribute\n",
    "    person.roll= 234\n",
    "    \n",
    "    return person\n",
    "    \n",
    "\n",
    "s = Student('Sam',14,432)\n",
    "print(id(s))\n",
    "x = greet(s)\n",
    "print(x.age,x.name,x.roll)\n",
    "print(id(s))"
   ]
  },
  {
   "cell_type": "markdown",
   "id": "650c5974",
   "metadata": {},
   "source": [
    "# Instance Variables\n",
    "- Instance variable is special variable Because For every object the instance variables values are diffrent diffrent"
   ]
  },
  {
   "cell_type": "code",
   "execution_count": 49,
   "id": "9b779cb1",
   "metadata": {},
   "outputs": [],
   "source": [
    "class Notebook:\n",
    "    def __init__(self,Name,OS):\n",
    "    # creating instance variables here self.name is instance variable\n",
    "        self.name = Name\n",
    "        self.os = OS\n",
    "    "
   ]
  },
  {
   "cell_type": "code",
   "execution_count": 50,
   "id": "61d73290",
   "metadata": {},
   "outputs": [],
   "source": [
    "n1 = Notebook('HP','Windows')\n",
    "n2 = Notebook('ChromeBook','ChromeOS')"
   ]
  },
  {
   "cell_type": "code",
   "execution_count": 51,
   "id": "6b42c5ee",
   "metadata": {},
   "outputs": [
    {
     "name": "stdout",
     "output_type": "stream",
     "text": [
      "HP\n",
      "Windows\n",
      "-------------------------------------------------------------------------------\n",
      "ChromeBook\n",
      "ChromeOS\n"
     ]
    }
   ],
   "source": [
    "print(n1.name)\n",
    "print(n1.os)\n",
    "print('-------------------------------------------------------------------------------')\n",
    "print(n2.name)\n",
    "print(n2.os)"
   ]
  },
  {
   "cell_type": "markdown",
   "id": "2e4ad4b0",
   "metadata": {},
   "source": [
    "# Private variable"
   ]
  },
  {
   "cell_type": "code",
   "execution_count": 20,
   "id": "c25df987",
   "metadata": {},
   "outputs": [],
   "source": [
    "class Bank:\n",
    "    def __init__(self):\n",
    "        self.__pin = ''  # if we want create private variables we put __ doubleundersore before creating variables\n",
    "        self.__balance = 0\n",
    "        \n",
    "    def display(self):\n",
    "        return 'Hello Man'\n",
    "    \n",
    "    def surprise(self):\n",
    "        return 'OOP'\n"
   ]
  },
  {
   "cell_type": "code",
   "execution_count": 21,
   "id": "b7d93223",
   "metadata": {},
   "outputs": [],
   "source": [
    "obj = Bank()"
   ]
  },
  {
   "cell_type": "code",
   "execution_count": 23,
   "id": "27591a7f",
   "metadata": {},
   "outputs": [
    {
     "ename": "SyntaxError",
     "evalue": "invalid syntax (1731120645.py, line 1)",
     "output_type": "error",
     "traceback": [
      "\u001b[1;36m  Cell \u001b[1;32mIn[23], line 1\u001b[1;36m\u001b[0m\n\u001b[1;33m    obj.\u001b[0m\n\u001b[1;37m        ^\u001b[0m\n\u001b[1;31mSyntaxError\u001b[0m\u001b[1;31m:\u001b[0m invalid syntax\n"
     ]
    }
   ],
   "source": [
    "obj."
   ]
  },
  {
   "cell_type": "markdown",
   "id": "d766fc59",
   "metadata": {},
   "source": [
    "# getter & setter"
   ]
  },
  {
   "cell_type": "markdown",
   "id": "95523aa7",
   "metadata": {},
   "source": [
    "-  We don't allowed to user changed our private variables \n",
    "- But in the case other one want to change private variables so we write getter & setter method allowed to change "
   ]
  },
  {
   "cell_type": "code",
   "execution_count": 99,
   "id": "c979cbb4",
   "metadata": {},
   "outputs": [],
   "source": [
    "class Auth:\n",
    "    \n",
    "    def __init__(self):\n",
    "        self.username = ''\n",
    "        self.__password = ''\n",
    "        \n",
    "        \n",
    "    def set_username(self):\n",
    "        user_input = input('Set Username : ')\n",
    "        self.username = user_input\n",
    "        print('Set Successfully !')\n",
    "    \n",
    "    def set_password(self,password):\n",
    "        if type(password) == int:\n",
    "            self.__password = password\n",
    "            print('Password set successfully')\n",
    "        else:\n",
    "            print('Invalid Password must be Integer ! ')\n",
    "    \n",
    "    "
   ]
  },
  {
   "cell_type": "code",
   "execution_count": 100,
   "id": "92f56aef",
   "metadata": {},
   "outputs": [],
   "source": [
    "a = Auth()"
   ]
  },
  {
   "cell_type": "code",
   "execution_count": 101,
   "id": "e1ae855c",
   "metadata": {},
   "outputs": [
    {
     "name": "stdout",
     "output_type": "stream",
     "text": [
      "Set Username : ad123\n",
      "Set Successfully !\n"
     ]
    }
   ],
   "source": [
    "a.set_username()"
   ]
  },
  {
   "cell_type": "code",
   "execution_count": 106,
   "id": "cdc9a3f9",
   "metadata": {},
   "outputs": [
    {
     "name": "stdout",
     "output_type": "stream",
     "text": [
      "Password set successfully\n"
     ]
    }
   ],
   "source": [
    "a.set_password(123)"
   ]
  },
  {
   "cell_type": "markdown",
   "id": "e776cb4c",
   "metadata": {},
   "source": [
    "# Encapsulation"
   ]
  },
  {
   "cell_type": "markdown",
   "id": "23c04f13",
   "metadata": {},
   "source": [
    "- We combine and set Private all class attribute and method \n",
    "- And allowed the user to get attributes values by getter & setter method \n",
    "- Not acessing through the variabels"
   ]
  },
  {
   "cell_type": "markdown",
   "id": "6581091f",
   "metadata": {},
   "source": [
    "- Encapsulation is a mechanism of wrapping the data (variables) and code acting on the data (methods) together as a single unit. \n",
    "- In encapsulation, the variables of a class will be hidden from other classes, and can be accessed only through the methods of their current class."
   ]
  },
  {
   "cell_type": "markdown",
   "id": "fed9efc1",
   "metadata": {},
   "source": [
    "# Collection of objects\n",
    "- We contain one or multilple objects in our built in datatype"
   ]
  },
  {
   "cell_type": "code",
   "execution_count": 118,
   "id": "9b58d601",
   "metadata": {},
   "outputs": [],
   "source": [
    "class Detail:\n",
    "    \n",
    "    def __init__(self,name,gender):\n",
    "        self.name = name\n",
    "        self.gender = gender\n",
    "        "
   ]
  },
  {
   "cell_type": "code",
   "execution_count": 119,
   "id": "df2ca19d",
   "metadata": {},
   "outputs": [],
   "source": [
    "O1 = Detail('Rohan','Male')\n",
    "O2 = Detail('Tavshi','Female')\n",
    "O3 =  Detail('Karan','Male')"
   ]
  },
  {
   "cell_type": "code",
   "execution_count": 120,
   "id": "0c58f415",
   "metadata": {},
   "outputs": [
    {
     "name": "stdout",
     "output_type": "stream",
     "text": [
      "[<__main__.Detail object at 0x0000015DD9100150>, <__main__.Detail object at 0x0000015DD9102510>, <__main__.Detail object at 0x0000015DD9102450>]\n"
     ]
    }
   ],
   "source": [
    "# Object on List\n",
    "L = [O1,O2,O3]\n",
    "print(L)"
   ]
  },
  {
   "cell_type": "code",
   "execution_count": 121,
   "id": "ccdb90f2",
   "metadata": {},
   "outputs": [
    {
     "name": "stdout",
     "output_type": "stream",
     "text": [
      "Rohan Male\n",
      "Tavshi Female\n",
      "Karan Male\n"
     ]
    }
   ],
   "source": [
    "# Loop on object\n",
    "\n",
    "for i in L:\n",
    "    print(i.name,i.gender)\n"
   ]
  },
  {
   "cell_type": "code",
   "execution_count": 122,
   "id": "b47fb8c8",
   "metadata": {},
   "outputs": [
    {
     "name": "stdout",
     "output_type": "stream",
     "text": [
      "Rohan\n",
      "Tavshi\n",
      "Karan\n"
     ]
    }
   ],
   "source": [
    "# Object on dictonary\n",
    "\n",
    "dic = {'d1':O1,'d2':O2,'d3':O3}\n",
    "\n",
    "\n",
    "# Loop\n",
    "for i in dic:\n",
    "    print(dic[i].name)"
   ]
  },
  {
   "cell_type": "code",
   "execution_count": 127,
   "id": "03d78e4a",
   "metadata": {},
   "outputs": [
    {
     "name": "stdout",
     "output_type": "stream",
     "text": [
      "Tavshi Female\n",
      "Karan Male\n",
      "Rohan Male\n"
     ]
    }
   ],
   "source": [
    "# objects on set\n",
    "s1 = {O1,O2,O3}\n",
    "\n",
    "#Loop\n",
    "for i in s1:\n",
    "    print(i.name,i.gender)"
   ]
  },
  {
   "cell_type": "markdown",
   "id": "656767e0",
   "metadata": {},
   "source": [
    "# Static\n",
    "\n",
    "- Static variable excute in inside a class\n",
    "- Instance variable excute in inside object\n",
    "- There are two types of method Static and Normal\n",
    "- 1. Accessing Normal method with the help of objects\n",
    "- 2. Where Static method accessable with the help of Class Name \n",
    "- 3. Sign of Static Method -----> @staticmethod"
   ]
  },
  {
   "cell_type": "markdown",
   "id": "a8308777",
   "metadata": {},
   "source": []
  },
  {
   "cell_type": "code",
   "execution_count": 136,
   "id": "92f8ad05",
   "metadata": {},
   "outputs": [],
   "source": [
    "class Detail:\n",
    "    \n",
    "    __counter = 0 # static variables\n",
    "    \n",
    "    def __init__(self,name,gender):\n",
    "        self.name = name # instance variable\n",
    "        self.gender = gender\n",
    "        self.cid = Detail.__counter\n",
    "        Detail.__counter += 1\n",
    "        \n",
    "    @staticmethod\n",
    "    def get_counter():\n",
    "        return Detail.__counter"
   ]
  },
  {
   "cell_type": "code",
   "execution_count": 137,
   "id": "a56d1777",
   "metadata": {},
   "outputs": [],
   "source": [
    "p1 = Detail('Sam','Male')\n",
    "p2 = Detail('TOm','Female')\n",
    "p3 = Detail('kim','Male')"
   ]
  },
  {
   "cell_type": "code",
   "execution_count": 138,
   "id": "02c8891c",
   "metadata": {},
   "outputs": [
    {
     "data": {
      "text/plain": [
       "0"
      ]
     },
     "execution_count": 138,
     "metadata": {},
     "output_type": "execute_result"
    }
   ],
   "source": [
    "p1.cid"
   ]
  },
  {
   "cell_type": "code",
   "execution_count": 139,
   "id": "bd8d3e7c",
   "metadata": {},
   "outputs": [
    {
     "data": {
      "text/plain": [
       "1"
      ]
     },
     "execution_count": 139,
     "metadata": {},
     "output_type": "execute_result"
    }
   ],
   "source": [
    "p2.cid"
   ]
  },
  {
   "cell_type": "code",
   "execution_count": 140,
   "id": "2f6b4cc0",
   "metadata": {},
   "outputs": [
    {
     "data": {
      "text/plain": [
       "2"
      ]
     },
     "execution_count": 140,
     "metadata": {},
     "output_type": "execute_result"
    }
   ],
   "source": [
    "p3.cid"
   ]
  },
  {
   "cell_type": "code",
   "execution_count": 142,
   "id": "47eea93e",
   "metadata": {},
   "outputs": [
    {
     "data": {
      "text/plain": [
       "3"
      ]
     },
     "execution_count": 142,
     "metadata": {},
     "output_type": "execute_result"
    }
   ],
   "source": [
    "Detail.get_counter()"
   ]
  },
  {
   "cell_type": "code",
   "execution_count": 177,
   "id": "0026f473",
   "metadata": {},
   "outputs": [],
   "source": [
    "class D:\n",
    "    \n",
    "    def __init__(self):\n",
    "        \n",
    "        self.database = {}\n",
    "        self.menu()\n",
    "        \n",
    "    def menu(self):\n",
    "        user_input = input(\"\"\"\n",
    "        Press 1 to Register\n",
    "        Press 0 to Exit\n",
    "        \n",
    "        \"\"\")\n",
    "        \n",
    "        if user_input == '1':\n",
    "            self.register()\n",
    "        else:\n",
    "            exit\n",
    "            \n",
    "            \n",
    "    def register(self):\n",
    "        email =input('Enter Email : ')\n",
    "        name = input('Enter name : ')\n",
    "        password = input('Create Password : ')\n",
    "        \n",
    "        if type(name) == str:\n",
    "            self.database[email] = [name, password]\n",
    "            print('Registrations Complete !')\n",
    "            print(self.database)\n",
    "            self.menu()\n",
    "        else:\n",
    "            print('Invalid')"
   ]
  },
  {
   "cell_type": "code",
   "execution_count": 178,
   "id": "9d59a2a2",
   "metadata": {},
   "outputs": [
    {
     "name": "stdout",
     "output_type": "stream",
     "text": [
      "\n",
      "        Press 1 to Register\n",
      "        Press 0 to Exit\n",
      "        \n",
      "        1\n",
      "Enter Email : Aditya@gmail.com\n",
      "Enter name : Aditya\n",
      "Create Password : 1234\n",
      "Registrations Complete !\n",
      "{'Aditya@gmail.com': ['Aditya', '1234']}\n",
      "\n",
      "        Press 1 to Register\n",
      "        Press 0 to Exit\n",
      "        \n",
      "        0\n"
     ]
    }
   ],
   "source": [
    "o = D()"
   ]
  },
  {
   "cell_type": "code",
   "execution_count": null,
   "id": "67bb3628",
   "metadata": {},
   "outputs": [],
   "source": []
  },
  {
   "cell_type": "code",
   "execution_count": null,
   "id": "8836b3b6",
   "metadata": {},
   "outputs": [],
   "source": []
  }
 ],
 "metadata": {
  "kernelspec": {
   "display_name": "Python 3 (ipykernel)",
   "language": "python",
   "name": "python3"
  },
  "language_info": {
   "codemirror_mode": {
    "name": "ipython",
    "version": 3
   },
   "file_extension": ".py",
   "mimetype": "text/x-python",
   "name": "python",
   "nbconvert_exporter": "python",
   "pygments_lexer": "ipython3",
   "version": "3.11.2"
  }
 },
 "nbformat": 4,
 "nbformat_minor": 5
}

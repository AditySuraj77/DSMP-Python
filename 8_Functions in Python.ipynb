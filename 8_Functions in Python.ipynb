{
 "cells": [
  {
   "cell_type": "markdown",
   "id": "4871e030",
   "metadata": {},
   "source": [
    "# Benefits of using a Function\n",
    "\n",
    "- Code Modularity\n",
    "- Code Readibility\n",
    "- Code Reusability"
   ]
  },
  {
   "cell_type": "markdown",
   "id": "a18a6cc2",
   "metadata": {},
   "source": [
    "# Let's create a function"
   ]
  },
  {
   "cell_type": "code",
   "execution_count": 9,
   "id": "daf6bb93",
   "metadata": {},
   "outputs": [],
   "source": [
    "def is_even(num):\n",
    "    \"\"\"\n",
    "    Work of this Functions is given input is odd number or even number\n",
    "    \"\"\"\n",
    "    \n",
    "    if num%2 == 0:\n",
    "        return 'even'\n",
    "    else:\n",
    "        return 'odd'"
   ]
  },
  {
   "cell_type": "code",
   "execution_count": 10,
   "id": "e15d0420",
   "metadata": {},
   "outputs": [
    {
     "data": {
      "text/plain": [
       "'even'"
      ]
     },
     "execution_count": 10,
     "metadata": {},
     "output_type": "execute_result"
    }
   ],
   "source": [
    "is_even(2)"
   ]
  },
  {
   "cell_type": "code",
   "execution_count": 11,
   "id": "3eb5e251",
   "metadata": {},
   "outputs": [
    {
     "name": "stdout",
     "output_type": "stream",
     "text": [
      "odd\n",
      "even\n",
      "odd\n",
      "even\n",
      "odd\n",
      "even\n",
      "odd\n",
      "even\n",
      "odd\n",
      "even\n"
     ]
    }
   ],
   "source": [
    "# with loop\n",
    "\n",
    "for i in range(1,11):\n",
    "    x = is_even(i)\n",
    "    print(x)"
   ]
  },
  {
   "cell_type": "markdown",
   "id": "abf864ed",
   "metadata": {},
   "source": [
    "## Print documentations of functions"
   ]
  },
  {
   "cell_type": "code",
   "execution_count": 12,
   "id": "4da0d6d7",
   "metadata": {},
   "outputs": [
    {
     "name": "stdout",
     "output_type": "stream",
     "text": [
      "\n",
      "    Work of this Functions is given input is odd number or even number\n",
      "    \n"
     ]
    }
   ],
   "source": [
    "print(is_even.__doc__)"
   ]
  },
  {
   "cell_type": "markdown",
   "id": "6090f58c",
   "metadata": {},
   "source": [
    "# Parameters Vs Arguments\n",
    "## Types of Arguments\n",
    "### Default Argument\n",
    "### Positional Argument\n",
    "### Keyword Argument"
   ]
  },
  {
   "cell_type": "code",
   "execution_count": 87,
   "id": "4ca7a223",
   "metadata": {},
   "outputs": [],
   "source": [
    "def multiply(a=1, b=1):\n",
    "    \n",
    "    if type(a) and type(b) == int:\n",
    "        return a**b\n",
    "    else:\n",
    "        'Invalid'\n"
   ]
  },
  {
   "cell_type": "code",
   "execution_count": 78,
   "id": "7de33548",
   "metadata": {},
   "outputs": [],
   "source": [
    "# default arguments\n",
    "multiply()"
   ]
  },
  {
   "cell_type": "code",
   "execution_count": 79,
   "id": "0a833e55",
   "metadata": {},
   "outputs": [],
   "source": [
    "# positional arguments\n",
    "multiply(3,3)"
   ]
  },
  {
   "cell_type": "code",
   "execution_count": 80,
   "id": "73ded125",
   "metadata": {},
   "outputs": [],
   "source": [
    "# keyword arguments\n",
    "multiply(b=2,a=3)\n",
    "multiply(a=2,b=3)"
   ]
  },
  {
   "cell_type": "markdown",
   "id": "bb2c2c05",
   "metadata": {},
   "source": [
    "# *args and **kwargs\n",
    "### *args and **kwargs are special Python keywords that are used to pass the variable length of arguments to a function"
   ]
  },
  {
   "cell_type": "code",
   "execution_count": 48,
   "id": "e037afb9",
   "metadata": {},
   "outputs": [],
   "source": [
    "# if we give large number of argumnets for additions in functions that use *args parameter\n",
    "\n",
    "def add(*args):\n",
    "    sum_n = 0\n",
    "    for i in args:\n",
    "        sum_n += i\n",
    "    return sum_n\n",
    "        "
   ]
  },
  {
   "cell_type": "code",
   "execution_count": 49,
   "id": "ecc627dd",
   "metadata": {},
   "outputs": [
    {
     "data": {
      "text/plain": [
       "10"
      ]
     },
     "execution_count": 49,
     "metadata": {},
     "output_type": "execute_result"
    }
   ],
   "source": [
    "add(5,5)"
   ]
  },
  {
   "cell_type": "code",
   "execution_count": 54,
   "id": "c9269a1f",
   "metadata": {},
   "outputs": [],
   "source": [
    "# **kwargs\n",
    "# **kwargs allows us to pass any number of keyword arguments.\n",
    "# Keyword arguments mean that they contain a key-value pair, like a Python dictionary.\n",
    "\n",
    "def display(**kwargs):\n",
    "    \n",
    "    for (key,value) in kwargs.items():\n",
    "        print(key,':',value)\n",
    "        \n",
    "    "
   ]
  },
  {
   "cell_type": "code",
   "execution_count": 56,
   "id": "11ad3d11",
   "metadata": {},
   "outputs": [
    {
     "name": "stdout",
     "output_type": "stream",
     "text": [
      "india : delhi\n",
      "US : Washington DC\n"
     ]
    }
   ],
   "source": [
    "display(india='delhi',US='Washington DC',)"
   ]
  },
  {
   "cell_type": "markdown",
   "id": "4fda0ed9",
   "metadata": {},
   "source": [
    "#  How functions are executed in memory?\n",
    "\n",
    "### In ram (Random Access Memory) functions accupied special space for excutions"
   ]
  },
  {
   "cell_type": "markdown",
   "id": "73facecc",
   "metadata": {},
   "source": [
    "#  without return statement"
   ]
  },
  {
   "cell_type": "code",
   "execution_count": 10,
   "id": "16cff268",
   "metadata": {
    "scrolled": true
   },
   "outputs": [
    {
     "name": "stdout",
     "output_type": "stream",
     "text": [
      "Hello  Hay\n",
      "Hello  GM\n",
      "None\n"
     ]
    }
   ],
   "source": [
    "# without retunrn statement functions return None\n",
    "\n",
    "def func(x):\n",
    "    print('Hello ',x)\n",
    "    \n",
    "func('Hay')\n",
    "print(func('GM'))"
   ]
  },
  {
   "cell_type": "markdown",
   "id": "1dc85d51",
   "metadata": {},
   "source": [
    "# Variable scope"
   ]
  },
  {
   "cell_type": "code",
   "execution_count": 13,
   "id": "2db78c2b",
   "metadata": {},
   "outputs": [
    {
     "data": {
      "text/plain": [
       "5"
      ]
     },
     "execution_count": 13,
     "metadata": {},
     "output_type": "execute_result"
    }
   ],
   "source": [
    "# global scope\n",
    "def show(x):\n",
    "    return x\n",
    "x = 5 # global variables\n",
    "show(x)"
   ]
  },
  {
   "cell_type": "code",
   "execution_count": 17,
   "id": "e328adef",
   "metadata": {},
   "outputs": [
    {
     "data": {
      "text/plain": [
       "('Hello', 'Hay')"
      ]
     },
     "execution_count": 17,
     "metadata": {},
     "output_type": "execute_result"
    }
   ],
   "source": [
    "# local scope\n",
    "\n",
    "def show(x):\n",
    "    y = 'Hello',x # local variables\n",
    "    return y\n",
    "\n",
    "show('Hay')"
   ]
  },
  {
   "cell_type": "markdown",
   "id": "361c8170",
   "metadata": {},
   "source": [
    "#### Note : Local variable can access global variable but global varible could't access local variable\n",
    "#### Example below:"
   ]
  },
  {
   "cell_type": "code",
   "execution_count": 20,
   "id": "405f09ee",
   "metadata": {},
   "outputs": [
    {
     "data": {
      "text/plain": [
       "3"
      ]
     },
     "execution_count": 20,
     "metadata": {},
     "output_type": "execute_result"
    }
   ],
   "source": [
    "# access and change global variable inside functions\n",
    "def add(x):\n",
    "    global y\n",
    "    \n",
    "    x = 2  # local\n",
    "    return x+1\n",
    "\n",
    "y = 5 # global\n",
    "add(y)\n",
    "\n",
    "# here result are 3 because we access global var as 5 but inside functions we change as 2 using global keywords"
   ]
  },
  {
   "cell_type": "markdown",
   "id": "ef92dafc",
   "metadata": {},
   "source": [
    "# Nested functions"
   ]
  },
  {
   "cell_type": "code",
   "execution_count": 60,
   "id": "d6324511",
   "metadata": {},
   "outputs": [],
   "source": [
    "def outer_func():\n",
    "    def inner_func():\n",
    "        print('Hello World !')\n",
    "    \n",
    "    inner_func()\n",
    "    \n",
    "    "
   ]
  },
  {
   "cell_type": "code",
   "execution_count": 62,
   "id": "43f4b739",
   "metadata": {},
   "outputs": [
    {
     "name": "stdout",
     "output_type": "stream",
     "text": [
      "Hello World !\n"
     ]
    }
   ],
   "source": [
    "outer_func()"
   ]
  },
  {
   "cell_type": "markdown",
   "id": "d1b378f4",
   "metadata": {},
   "source": [
    "# deletion of functions"
   ]
  },
  {
   "cell_type": "code",
   "execution_count": 63,
   "id": "b4849ebb",
   "metadata": {},
   "outputs": [],
   "source": [
    "def sqrt(x):\n",
    "    return x**2\n"
   ]
  },
  {
   "cell_type": "code",
   "execution_count": 64,
   "id": "76a29856",
   "metadata": {},
   "outputs": [
    {
     "data": {
      "text/plain": [
       "16"
      ]
     },
     "execution_count": 64,
     "metadata": {},
     "output_type": "execute_result"
    }
   ],
   "source": [
    "sqrt(4)"
   ]
  },
  {
   "cell_type": "code",
   "execution_count": 65,
   "id": "c9a23c68",
   "metadata": {},
   "outputs": [
    {
     "ename": "NameError",
     "evalue": "name 'sqrt' is not defined",
     "output_type": "error",
     "traceback": [
      "\u001b[1;31m---------------------------------------------------------------------------\u001b[0m",
      "\u001b[1;31mNameError\u001b[0m                                 Traceback (most recent call last)",
      "Cell \u001b[1;32mIn[65], line 3\u001b[0m\n\u001b[0;32m      1\u001b[0m \u001b[38;5;66;03m# delete functions\u001b[39;00m\n\u001b[0;32m      2\u001b[0m \u001b[38;5;28;01mdel\u001b[39;00m sqrt\n\u001b[1;32m----> 3\u001b[0m \u001b[43msqrt\u001b[49m(\u001b[38;5;241m3\u001b[39m)\n",
      "\u001b[1;31mNameError\u001b[0m: name 'sqrt' is not defined"
     ]
    }
   ],
   "source": [
    "# delete functions\n",
    "del sqrt\n",
    "sqrt(3)"
   ]
  },
  {
   "cell_type": "markdown",
   "id": "18408757",
   "metadata": {},
   "source": [
    "# Storing"
   ]
  },
  {
   "cell_type": "code",
   "execution_count": 66,
   "id": "c842340a",
   "metadata": {},
   "outputs": [],
   "source": [
    "def multipy(x,y):\n",
    "    return x*y\n"
   ]
  },
  {
   "cell_type": "code",
   "execution_count": 67,
   "id": "b12d7604",
   "metadata": {},
   "outputs": [
    {
     "data": {
      "text/plain": [
       "25"
      ]
     },
     "execution_count": 67,
     "metadata": {},
     "output_type": "execute_result"
    }
   ],
   "source": [
    "multipy(5,5)"
   ]
  },
  {
   "cell_type": "code",
   "execution_count": 68,
   "id": "b37797b5",
   "metadata": {},
   "outputs": [],
   "source": [
    "L = [1,2,3,4,5,multipy]"
   ]
  },
  {
   "cell_type": "code",
   "execution_count": 69,
   "id": "4ceaf4a1",
   "metadata": {},
   "outputs": [
    {
     "name": "stdout",
     "output_type": "stream",
     "text": [
      "[1, 2, 3, 4, 5, <function multipy at 0x00000195D2592DE0>]\n"
     ]
    }
   ],
   "source": [
    "print(L)"
   ]
  },
  {
   "cell_type": "code",
   "execution_count": 72,
   "id": "087f1093",
   "metadata": {},
   "outputs": [
    {
     "data": {
      "text/plain": [
       "4"
      ]
     },
     "execution_count": 72,
     "metadata": {},
     "output_type": "execute_result"
    }
   ],
   "source": [
    "L[-1](2,2) # call functions inside a list"
   ]
  },
  {
   "cell_type": "markdown",
   "id": "966477e8",
   "metadata": {},
   "source": [
    "# Returning functions"
   ]
  },
  {
   "cell_type": "code",
   "execution_count": 73,
   "id": "7f45ffbc",
   "metadata": {},
   "outputs": [],
   "source": [
    "def f():\n",
    "    def e(x,y):\n",
    "        return x+y\n",
    "    return e\n"
   ]
  },
  {
   "cell_type": "code",
   "execution_count": 76,
   "id": "fbf8b601",
   "metadata": {},
   "outputs": [
    {
     "data": {
      "text/plain": [
       "10"
      ]
     },
     "execution_count": 76,
     "metadata": {},
     "output_type": "execute_result"
    }
   ],
   "source": [
    "f()(5,5) # calling functions"
   ]
  },
  {
   "cell_type": "markdown",
   "id": "f760767e",
   "metadata": {},
   "source": [
    "### Lambda Function\n",
    "\n",
    "A lambda function is a small anonymous function.\n",
    "\n",
    "A lambda function can take any number of arguments, but can only have one expression.\n",
    "\n"
   ]
  },
  {
   "cell_type": "code",
   "execution_count": 84,
   "id": "fd60b020",
   "metadata": {},
   "outputs": [
    {
     "data": {
      "text/plain": [
       "<function __main__.<lambda>(x)>"
      ]
     },
     "execution_count": 84,
     "metadata": {},
     "output_type": "execute_result"
    }
   ],
   "source": [
    "# x -> x^2\n",
    "\n",
    "lambda x: x**2"
   ]
  },
  {
   "cell_type": "code",
   "execution_count": 87,
   "id": "66c0eb3a",
   "metadata": {},
   "outputs": [
    {
     "data": {
      "text/plain": [
       "10"
      ]
     },
     "execution_count": 87,
     "metadata": {},
     "output_type": "execute_result"
    }
   ],
   "source": [
    "# x,y-> x+y\n",
    "add = lambda x,y:x+y\n",
    "add(5,5)\n"
   ]
  },
  {
   "cell_type": "markdown",
   "id": "37a43103",
   "metadata": {},
   "source": [
    "#### Diff between lambda vs Normal Function\n",
    "\n",
    "- No name\n",
    "- lambda has no return value(infact,returns a function)\n",
    "- lambda is written in 1 line\n",
    "- not reusable\n",
    "\n",
    "Then why use lambda functions?<br>\n",
    "**They are used with HOF** High Order Functions\n"
   ]
  },
  {
   "cell_type": "code",
   "execution_count": 89,
   "id": "871a2dd0",
   "metadata": {},
   "outputs": [
    {
     "data": {
      "text/plain": [
       "True"
      ]
     },
     "execution_count": 89,
     "metadata": {},
     "output_type": "execute_result"
    }
   ],
   "source": [
    "# check if string hs \"a\"\n",
    "a = lambda s:'a' in s\n",
    "a('hello')\n",
    "a('apple')"
   ]
  },
  {
   "cell_type": "code",
   "execution_count": 92,
   "id": "bb29f0c2",
   "metadata": {},
   "outputs": [
    {
     "data": {
      "text/plain": [
       "'even'"
      ]
     },
     "execution_count": 92,
     "metadata": {},
     "output_type": "execute_result"
    }
   ],
   "source": [
    "# odd or even\n",
    "od_ev = lambda x: 'even' if x%2 == 0 else 'odd'\n",
    "od_ev(5)\n",
    "od_ev(4)"
   ]
  },
  {
   "cell_type": "markdown",
   "id": "cb02b6df",
   "metadata": {},
   "source": [
    "# Higher Order Functions"
   ]
  },
  {
   "cell_type": "code",
   "execution_count": 97,
   "id": "d17fbd9e",
   "metadata": {},
   "outputs": [
    {
     "name": "stdout",
     "output_type": "stream",
     "text": [
      "[4, 9, 25, 49, 81]\n"
     ]
    }
   ],
   "source": [
    "def square(x):\n",
    "    return x**2\n",
    "\n",
    "def cube(x):\n",
    "    return x**3\n",
    "\n",
    "\n",
    "def transform(f,l):\n",
    "    output = []\n",
    "    \n",
    "    for i in l:\n",
    "        output.append(f(i))\n",
    "    print(output)\n",
    "    \n",
    "\n",
    "\n",
    "l = [2,3,5,7,9]\n",
    "transform(square,l)"
   ]
  },
  {
   "cell_type": "code",
   "execution_count": 98,
   "id": "c46373b2",
   "metadata": {},
   "outputs": [
    {
     "name": "stdout",
     "output_type": "stream",
     "text": [
      "[4, 9, 25, 49, 81]\n"
     ]
    }
   ],
   "source": [
    "# above task doing by help of lambda functions\n",
    "transform(lambda x:x**2,l)"
   ]
  },
  {
   "cell_type": "markdown",
   "id": "abd52498",
   "metadata": {},
   "source": [
    "# Map"
   ]
  },
  {
   "cell_type": "code",
   "execution_count": 100,
   "id": "52a5b936",
   "metadata": {},
   "outputs": [
    {
     "data": {
      "text/plain": [
       "[4, 16, 36, 64]"
      ]
     },
     "execution_count": 100,
     "metadata": {},
     "output_type": "execute_result"
    }
   ],
   "source": [
    "# square the items of a list\n",
    "list(map(lambda x:x**2,[2,4,6,8]))"
   ]
  },
  {
   "cell_type": "code",
   "execution_count": 102,
   "id": "2f93ad71",
   "metadata": {},
   "outputs": [
    {
     "data": {
      "text/plain": [
       "['odd', 'even', 'odd', 'even', 'odd', 'even', 'odd', 'even', 'odd', 'even']"
      ]
     },
     "execution_count": 102,
     "metadata": {},
     "output_type": "execute_result"
    }
   ],
   "source": [
    "# odd/even labelling of list items\n",
    "L = [11,22,33,44,55,66,77,88,99,100]\n",
    "list(map(lambda x: 'even' if x%2 == 0 else 'odd',L))"
   ]
  },
  {
   "cell_type": "code",
   "execution_count": 107,
   "id": "1cfba664",
   "metadata": {},
   "outputs": [
    {
     "data": {
      "text/plain": [
       "['Rahul', 'Nitish', 'Ankita']"
      ]
     },
     "execution_count": 107,
     "metadata": {},
     "output_type": "execute_result"
    }
   ],
   "source": [
    "# fetch names from a list of dict\n",
    "\n",
    "users = [\n",
    "    {\n",
    "        'name':'Rahul',\n",
    "        'age':45,\n",
    "        'gender':'male'\n",
    "    },\n",
    "    {\n",
    "        'name':'Nitish',\n",
    "        'age':33,\n",
    "        'gender':'male'\n",
    "    },\n",
    "    {\n",
    "        'name':'Ankita',\n",
    "        'age':50,\n",
    "        'gender':'female'\n",
    "    }\n",
    "]\n",
    "\n",
    "list(map(lambda users:users['name'],users))"
   ]
  },
  {
   "cell_type": "markdown",
   "id": "6172aefa",
   "metadata": {},
   "source": [
    "# Filter"
   ]
  },
  {
   "cell_type": "code",
   "execution_count": 109,
   "id": "b14d65ce",
   "metadata": {},
   "outputs": [
    {
     "data": {
      "text/plain": [
       "[34, 6, 7, 95, 44]"
      ]
     },
     "execution_count": 109,
     "metadata": {},
     "output_type": "execute_result"
    }
   ],
   "source": [
    "# numbers greater than 5\n",
    "l = [1,2,34,5,6,7,95,44]\n",
    "\n",
    "list(filter(lambda x: x>5,l))"
   ]
  },
  {
   "cell_type": "code",
   "execution_count": 110,
   "id": "7373f458",
   "metadata": {},
   "outputs": [
    {
     "data": {
      "text/plain": [
       "['apple', 'avacado']"
      ]
     },
     "execution_count": 110,
     "metadata": {},
     "output_type": "execute_result"
    }
   ],
   "source": [
    "# fetch the fruits that startswith a letter\n",
    "fruits = ['apple','banana','cheery','avacado']\n",
    "\n",
    "list(filter(lambda x:x.startswith('a'),fruits))"
   ]
  },
  {
   "cell_type": "markdown",
   "id": "6705a65b",
   "metadata": {},
   "source": [
    "# Reduce"
   ]
  },
  {
   "cell_type": "code",
   "execution_count": 113,
   "id": "b5b79075",
   "metadata": {},
   "outputs": [],
   "source": [
    "from functools import reduce"
   ]
  },
  {
   "cell_type": "code",
   "execution_count": 117,
   "id": "0d4a09b6",
   "metadata": {},
   "outputs": [
    {
     "data": {
      "text/plain": [
       "20"
      ]
     },
     "execution_count": 117,
     "metadata": {},
     "output_type": "execute_result"
    }
   ],
   "source": [
    "# sum of all item\n",
    "item = [2,4,6,8]\n",
    "\n",
    "reduce(lambda x,y:x+y,item)\n",
    "\n"
   ]
  },
  {
   "cell_type": "code",
   "execution_count": 121,
   "id": "a165f2f8",
   "metadata": {},
   "outputs": [
    {
     "data": {
      "text/plain": [
       "2"
      ]
     },
     "execution_count": 121,
     "metadata": {},
     "output_type": "execute_result"
    }
   ],
   "source": [
    "# find min\n",
    "item = [2,4,6,8]\n",
    "\n",
    "reduce(lambda x,y:x if x<y else y,item)"
   ]
  },
  {
   "cell_type": "code",
   "execution_count": null,
   "id": "6f1d2b9a",
   "metadata": {},
   "outputs": [],
   "source": []
  }
 ],
 "metadata": {
  "kernelspec": {
   "display_name": "Python 3 (ipykernel)",
   "language": "python",
   "name": "python3"
  },
  "language_info": {
   "codemirror_mode": {
    "name": "ipython",
    "version": 3
   },
   "file_extension": ".py",
   "mimetype": "text/x-python",
   "name": "python",
   "nbconvert_exporter": "python",
   "pygments_lexer": "ipython3",
   "version": "3.11.2"
  }
 },
 "nbformat": 4,
 "nbformat_minor": 5
}

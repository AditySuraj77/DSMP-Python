{
 "cells": [
  {
   "cell_type": "markdown",
   "id": "7ebc3643",
   "metadata": {},
   "source": [
    "# Decorators\n",
    "#### A decorator in python is a function that receives another function as input and adds some functionality(decoration) to and it and returns it.\n",
    "\n",
    "#### This can happen only because python functions are 1st class citizens.\n",
    "\n",
    "## There are 2 types of decorators available in python\n",
    "\n",
    "- Built in decorators like @staticmethod, @classmethod, @abstractmethod and @property etc\n",
    "- User defined decorators that we programmers can create according to our needs"
   ]
  },
  {
   "cell_type": "code",
   "execution_count": 3,
   "id": "10bf9af4",
   "metadata": {},
   "outputs": [],
   "source": [
    "# Creating Simple decorators\n",
    "def my_deco(func):\n",
    "    def wrapper():\n",
    "        print('------------------------------------------------------------------------------------------------')\n",
    "        func()\n",
    "        print('------------------------------------------------------------------------------------------------')\n",
    "    return wrapper"
   ]
  },
  {
   "cell_type": "code",
   "execution_count": 4,
   "id": "670076b6",
   "metadata": {},
   "outputs": [],
   "source": [
    "def hello():\n",
    "    print('hello')\n"
   ]
  },
  {
   "cell_type": "code",
   "execution_count": 8,
   "id": "0409fff4",
   "metadata": {},
   "outputs": [
    {
     "name": "stdout",
     "output_type": "stream",
     "text": [
      "------------------------------------------------------------------------------------------------\n",
      "hello\n",
      "------------------------------------------------------------------------------------------------\n"
     ]
    }
   ],
   "source": [
    "a = my_deco(hello)\n",
    "a()\n"
   ]
  },
  {
   "cell_type": "code",
   "execution_count": 9,
   "id": "89991f57",
   "metadata": {},
   "outputs": [],
   "source": [
    "# better syntax\n",
    "def my_deco(func):\n",
    "    def wrapper():\n",
    "        print('------------------------------------------------------------------------------------------------')\n",
    "        func()\n",
    "        print('------------------------------------------------------------------------------------------------')\n",
    "    return wrapper\n",
    "\n",
    "\n",
    "@my_deco\n",
    "def display():\n",
    "    print('Hello Namaste')"
   ]
  },
  {
   "cell_type": "code",
   "execution_count": 10,
   "id": "761c11ae",
   "metadata": {},
   "outputs": [
    {
     "name": "stdout",
     "output_type": "stream",
     "text": [
      "------------------------------------------------------------------------------------------------\n",
      "Hello Namaste\n",
      "------------------------------------------------------------------------------------------------\n"
     ]
    }
   ],
   "source": [
    "display()"
   ]
  },
  {
   "cell_type": "code",
   "execution_count": null,
   "id": "619ee24f",
   "metadata": {},
   "outputs": [],
   "source": []
  },
  {
   "cell_type": "code",
   "execution_count": null,
   "id": "b1043683",
   "metadata": {},
   "outputs": [],
   "source": []
  }
 ],
 "metadata": {
  "kernelspec": {
   "display_name": "Python 3 (ipykernel)",
   "language": "python",
   "name": "python3"
  },
  "language_info": {
   "codemirror_mode": {
    "name": "ipython",
    "version": 3
   },
   "file_extension": ".py",
   "mimetype": "text/x-python",
   "name": "python",
   "nbconvert_exporter": "python",
   "pygments_lexer": "ipython3",
   "version": "3.11.2"
  }
 },
 "nbformat": 4,
 "nbformat_minor": 5
}

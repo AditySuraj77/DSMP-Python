{
 "cells": [
  {
   "cell_type": "markdown",
   "id": "8b624989",
   "metadata": {},
   "source": [
    "# Create a list in python"
   ]
  },
  {
   "cell_type": "code",
   "execution_count": null,
   "id": "50c153d3",
   "metadata": {},
   "outputs": [
    {
     "name": "stdout",
     "output_type": "stream",
     "text": [
      "[]\n"
     ]
    }
   ],
   "source": [
    "#empty\n",
    "print([])"
   ]
  },
  {
   "cell_type": "code",
   "execution_count": 2,
   "id": "f41acf6e",
   "metadata": {},
   "outputs": [
    {
     "name": "stdout",
     "output_type": "stream",
     "text": [
      "[1, 2, 3, 4, 5]\n"
     ]
    }
   ],
   "source": [
    "#1D - Homo\n",
    "print([1,2,3,4,5])"
   ]
  },
  {
   "cell_type": "code",
   "execution_count": 3,
   "id": "fb93e2c3",
   "metadata": {},
   "outputs": [
    {
     "name": "stdout",
     "output_type": "stream",
     "text": [
      "[1, 2, 3, 4, 5, [5, 9]]\n"
     ]
    }
   ],
   "source": [
    "#2D \n",
    "print([1,2,3,4,5,[5,9]])"
   ]
  },
  {
   "cell_type": "code",
   "execution_count": 4,
   "id": "7ff1b908",
   "metadata": {},
   "outputs": [
    {
     "name": "stdout",
     "output_type": "stream",
     "text": [
      "[[[1, 2], [4, 3]], [[6, 5], [11, 2]]]\n"
     ]
    }
   ],
   "source": [
    "#3D\n",
    "print([[[1,2],[4,3]],[[6,5],[11,2]]])"
   ]
  },
  {
   "cell_type": "code",
   "execution_count": 5,
   "id": "79425f2b",
   "metadata": {},
   "outputs": [
    {
     "name": "stdout",
     "output_type": "stream",
     "text": [
      "[1, 2, 5.4, (5+5j), True]\n"
     ]
    }
   ],
   "source": [
    "# Hetrogenous\n",
    "print([1,2,5.4,5+5j,True])"
   ]
  },
  {
   "cell_type": "code",
   "execution_count": 6,
   "id": "d993dbb5",
   "metadata": {},
   "outputs": [
    {
     "name": "stdout",
     "output_type": "stream",
     "text": [
      "['H', 'e', 'l', 'l', 'o']\n"
     ]
    }
   ],
   "source": [
    "print(list('Hello'))"
   ]
  },
  {
   "cell_type": "markdown",
   "id": "9f043794",
   "metadata": {},
   "source": [
    "# Accessing items from a list"
   ]
  },
  {
   "cell_type": "code",
   "execution_count": 9,
   "id": "e11912ce",
   "metadata": {},
   "outputs": [
    {
     "name": "stdout",
     "output_type": "stream",
     "text": [
      "3\n"
     ]
    }
   ],
   "source": [
    "# 1D List Indexing\n",
    "L = [1,2,3,4,5]\n",
    "print(L[2])"
   ]
  },
  {
   "cell_type": "code",
   "execution_count": 31,
   "id": "0dfeff72",
   "metadata": {},
   "outputs": [
    {
     "name": "stdout",
     "output_type": "stream",
     "text": [
      "[1, 2, 3, 4, 5, [4, 5]]\n",
      "4\n"
     ]
    }
   ],
   "source": [
    "# 2D List Indexing\n",
    "L2 = [1,2,3,4,5,[4,5]]\n",
    "print(L2)\n",
    "print(L2[5][0])"
   ]
  },
  {
   "cell_type": "code",
   "execution_count": 36,
   "id": "1f44ad86",
   "metadata": {},
   "outputs": [
    {
     "name": "stdout",
     "output_type": "stream",
     "text": [
      "[[[1, 2], [4, 3]], [[6, 5], [11, 2]]]\n",
      "11\n"
     ]
    }
   ],
   "source": [
    "# 3D List Indexing\n",
    "L3 = [[[1,2],[4,3]],[[6,5],[11,2]]]\n",
    "\n",
    "print(L3)\n",
    "print(L3[1][1][0])"
   ]
  },
  {
   "cell_type": "code",
   "execution_count": 37,
   "id": "a9d82d50",
   "metadata": {},
   "outputs": [
    {
     "name": "stdout",
     "output_type": "stream",
     "text": [
      "[1, 2, 4]\n"
     ]
    }
   ],
   "source": [
    "# 1D List Slicing\n",
    "L1 = [1,2,4,5,6]\n",
    "\n",
    "print(L1[0:3])"
   ]
  },
  {
   "cell_type": "code",
   "execution_count": 39,
   "id": "f9e36a08",
   "metadata": {},
   "outputs": [
    {
     "name": "stdout",
     "output_type": "stream",
     "text": [
      "[5, 3]\n"
     ]
    }
   ],
   "source": [
    "# 2D List Slicing\n",
    "L2 = [2,4,5,[4,5,3]]\n",
    "print(L2[3][1:3])"
   ]
  },
  {
   "cell_type": "code",
   "execution_count": 46,
   "id": "5d9b4292",
   "metadata": {},
   "outputs": [
    {
     "name": "stdout",
     "output_type": "stream",
     "text": [
      "[[[1, 2], [4, 3]], [[6, 5], [11, 2]]]\n"
     ]
    }
   ],
   "source": [
    "# 3D List Slicing\n",
    "L3 = [[[1,2],[4,3]],[[6,5],[11,2]]]\n",
    "\n",
    "print(L3[0:2])"
   ]
  },
  {
   "cell_type": "code",
   "execution_count": 51,
   "id": "562818ed",
   "metadata": {},
   "outputs": [
    {
     "name": "stdout",
     "output_type": "stream",
     "text": [
      "[3, 5]\n",
      "[67, 5, 3, 2]\n"
     ]
    }
   ],
   "source": [
    "# Negative Indexing AND Negative Slicing\n",
    "\n",
    "l1 = [2,3,5,67]\n",
    "#Slicing\n",
    "print(l1[-3:-1])\n",
    "#Indexing\n",
    "print(l1[::-1])"
   ]
  },
  {
   "cell_type": "markdown",
   "id": "03a09afb",
   "metadata": {},
   "source": [
    "# Adding Items to a List"
   ]
  },
  {
   "cell_type": "code",
   "execution_count": 53,
   "id": "7af91161",
   "metadata": {},
   "outputs": [
    {
     "name": "stdout",
     "output_type": "stream",
     "text": [
      "[1, 2, 3, 4, 5, 6]\n",
      "[1, 2, 3, 4, 5, 6, 500]\n"
     ]
    }
   ],
   "source": [
    "# append\n",
    "ls1 = [1,2,3,4,5,6]\n",
    "print(ls1)\n",
    "ls1.append(500) # append() functions add one item at one a time and add in last positions\n",
    "print(ls1)"
   ]
  },
  {
   "cell_type": "code",
   "execution_count": 59,
   "id": "18ee657a",
   "metadata": {},
   "outputs": [
    {
     "name": "stdout",
     "output_type": "stream",
     "text": [
      "[1, 2, 3, 4, 5, 6]\n",
      "[1, 2, 3, 4, 5, 6, 'N', 'u', 'm', 'b', 'e', 'e', 'r', 's', 200, 300, 'Lists']\n"
     ]
    }
   ],
   "source": [
    "# extend\n",
    "ls1 = [1,2,3,4,5,6]\n",
    "print(ls1)\n",
    "ls1.extend('Numbeers')\n",
    "ls1.extend([200,300,'Lists'])# extend() functions add multiple items at one time but its also add item in last positions\n",
    "print(ls1)"
   ]
  },
  {
   "cell_type": "code",
   "execution_count": null,
   "id": "80351049",
   "metadata": {},
   "outputs": [
    {
     "name": "stdout",
     "output_type": "stream",
     "text": [
      "[1, 2, 3, 4, 5, 6]\n",
      "['ONE', 1, 2, 3, 4, 5, 6]\n"
     ]
    }
   ],
   "source": [
    "# insert\n",
    "ls1 = [1,2,3,4,5,6]\n",
    "print(ls1)\n",
    "\n",
    "ls1.insert(0,'ONE')\n",
    "print(ls1)"
   ]
  },
  {
   "cell_type": "markdown",
   "id": "620c76da",
   "metadata": {},
   "source": [
    "# Editing items in a list"
   ]
  },
  {
   "cell_type": "code",
   "execution_count": 1,
   "id": "46215fd2",
   "metadata": {},
   "outputs": [
    {
     "name": "stdout",
     "output_type": "stream",
     "text": [
      "[1, 2, 3, 4, 5, 600]\n"
     ]
    }
   ],
   "source": [
    "# Editing with index\n",
    "ls1 = [1,2,3,4,5,6]\n",
    "ls1[-1] = 600\n",
    "print(ls1)"
   ]
  },
  {
   "cell_type": "code",
   "execution_count": 2,
   "id": "f3a14231",
   "metadata": {},
   "outputs": [
    {
     "name": "stdout",
     "output_type": "stream",
     "text": [
      "[100, 200, 300, 5, 6]\n"
     ]
    }
   ],
   "source": [
    "# Editing with Slicing\n",
    "ls1 = [1,2,3,4,5,6]\n",
    "ls1[0:4] = [100,200,300]\n",
    "print(ls1)"
   ]
  },
  {
   "cell_type": "markdown",
   "id": "f2490bde",
   "metadata": {},
   "source": [
    "# Deleting items from a list"
   ]
  },
  {
   "cell_type": "code",
   "execution_count": 3,
   "id": "df09587d",
   "metadata": {},
   "outputs": [
    {
     "name": "stdout",
     "output_type": "stream",
     "text": [
      "[1, 2, 3, 4, 5, 6]\n"
     ]
    },
    {
     "ename": "NameError",
     "evalue": "name 'ls1' is not defined",
     "output_type": "error",
     "traceback": [
      "\u001b[1;31m---------------------------------------------------------------------------\u001b[0m",
      "\u001b[1;31mNameError\u001b[0m                                 Traceback (most recent call last)",
      "Cell \u001b[1;32mIn[3], line 5\u001b[0m\n\u001b[0;32m      3\u001b[0m \u001b[38;5;28mprint\u001b[39m(ls1)\n\u001b[0;32m      4\u001b[0m \u001b[38;5;28;01mdel\u001b[39;00m ls1\n\u001b[1;32m----> 5\u001b[0m \u001b[38;5;28mprint\u001b[39m(\u001b[43mls1\u001b[49m)\n",
      "\u001b[1;31mNameError\u001b[0m: name 'ls1' is not defined"
     ]
    }
   ],
   "source": [
    "# del\n",
    "ls1 = [1,2,3,4,5,6]\n",
    "print(ls1)\n",
    "del ls1\n",
    "print(ls1)\n"
   ]
  },
  {
   "cell_type": "code",
   "execution_count": 4,
   "id": "73e18c13",
   "metadata": {},
   "outputs": [
    {
     "name": "stdout",
     "output_type": "stream",
     "text": [
      "[1, 2, 4, 5, 6]\n"
     ]
    }
   ],
   "source": [
    "# remove()\n",
    "ls1 = [1,2,3,4,5,6]\n",
    "ls1.remove(3)\n",
    "print(ls1)"
   ]
  },
  {
   "cell_type": "code",
   "execution_count": 7,
   "id": "73123c9a",
   "metadata": {},
   "outputs": [
    {
     "name": "stdout",
     "output_type": "stream",
     "text": [
      "[1, 2, 3, 4, 5]\n"
     ]
    }
   ],
   "source": [
    "# pop()\n",
    "ls1 = [1,2,3,4,5,6]\n",
    "ls1.pop()\n",
    "print(ls1)"
   ]
  },
  {
   "cell_type": "code",
   "execution_count": 8,
   "id": "fee305ce",
   "metadata": {},
   "outputs": [
    {
     "name": "stdout",
     "output_type": "stream",
     "text": [
      "[]\n"
     ]
    }
   ],
   "source": [
    "# clear()\n",
    "ls1 = [1,2,3,4,5,6]\n",
    "ls1.clear()\n",
    "print(ls1)"
   ]
  },
  {
   "cell_type": "markdown",
   "id": "6b172899",
   "metadata": {},
   "source": [
    "# Operators on Lists"
   ]
  },
  {
   "cell_type": "code",
   "execution_count": 9,
   "id": "5ad2a88b",
   "metadata": {},
   "outputs": [
    {
     "name": "stdout",
     "output_type": "stream",
     "text": [
      "[5, 5, 5, 8, 8, 8]\n"
     ]
    }
   ],
   "source": [
    "# Arthimetic +\n",
    "l1 = [5,5,5]\n",
    "l2 = [8,8,8]\n",
    "print(l1 + l2)"
   ]
  },
  {
   "cell_type": "code",
   "execution_count": 14,
   "id": "fab787f5",
   "metadata": {},
   "outputs": [
    {
     "name": "stdout",
     "output_type": "stream",
     "text": [
      "[5, 5, 5, 5, 5, 5, 5, 5, 5]\n"
     ]
    }
   ],
   "source": [
    "# Arthimetic *\n",
    "l1 = [5,5,5]\n",
    "l2 = [8,8,8]\n",
    "print(l1*3)"
   ]
  },
  {
   "cell_type": "code",
   "execution_count": 16,
   "id": "8b866925",
   "metadata": {},
   "outputs": [
    {
     "name": "stdout",
     "output_type": "stream",
     "text": [
      "True\n",
      "True\n"
     ]
    }
   ],
   "source": [
    "# Membership \n",
    "l1 = [5,9,8,7,6]\n",
    "l2 = [7,9,8,5,[8,9,8]]\n",
    "\n",
    "print(10 not in l1)\n",
    "print([8,9,8] in l2)"
   ]
  },
  {
   "cell_type": "code",
   "execution_count": 17,
   "id": "93c638d7",
   "metadata": {},
   "outputs": [
    {
     "name": "stdout",
     "output_type": "stream",
     "text": [
      "2\n",
      "4\n",
      "6\n",
      "8\n",
      "10\n",
      "12\n",
      "14\n",
      "16\n",
      "18\n",
      "20\n"
     ]
    }
   ],
   "source": [
    "# Loop\n",
    "\n",
    "l3 = [2,4,6,8,10,12,14,16,18,20]\n",
    "\n",
    "for i in l3:\n",
    "    print(i)"
   ]
  },
  {
   "cell_type": "markdown",
   "id": "0d6d0d2c",
   "metadata": {},
   "source": [
    "# List Function"
   ]
  },
  {
   "cell_type": "code",
   "execution_count": 18,
   "id": "453e79f2",
   "metadata": {},
   "outputs": [
    {
     "data": {
      "text/plain": [
       "9"
      ]
     },
     "execution_count": 18,
     "metadata": {},
     "output_type": "execute_result"
    }
   ],
   "source": [
    "# len()\n",
    "ls5 = [0,9,8,7,6,5,4,2,1]\n",
    "len(ls5)"
   ]
  },
  {
   "cell_type": "code",
   "execution_count": 19,
   "id": "e0ae9aaf",
   "metadata": {},
   "outputs": [
    {
     "data": {
      "text/plain": [
       "0"
      ]
     },
     "execution_count": 19,
     "metadata": {},
     "output_type": "execute_result"
    }
   ],
   "source": [
    "# min()\n",
    "ls5 = [0,9,8,7,6,5,4,2,1]\n",
    "min(ls5)"
   ]
  },
  {
   "cell_type": "code",
   "execution_count": 20,
   "id": "cd69cf1c",
   "metadata": {},
   "outputs": [
    {
     "data": {
      "text/plain": [
       "9"
      ]
     },
     "execution_count": 20,
     "metadata": {},
     "output_type": "execute_result"
    }
   ],
   "source": [
    "#max()\n",
    "ls5 = [0,9,8,7,6,5,4,2,1]\n",
    "max(ls5)"
   ]
  },
  {
   "cell_type": "code",
   "execution_count": 32,
   "id": "da9c81b6",
   "metadata": {},
   "outputs": [
    {
     "name": "stdout",
     "output_type": "stream",
     "text": [
      "[0, 1, 2, 4, 5, 6, 7, 8, 9]\n",
      "[0, 9, 8, 7, 6, 5, 4, 2, 1]\n"
     ]
    }
   ],
   "source": [
    "# sorted\n",
    "ls5 = [0,9,8,7,6,5,4,2,1]\n",
    "print(sorted(ls5))\n",
    "print(ls5)"
   ]
  },
  {
   "cell_type": "code",
   "execution_count": 33,
   "id": "cd02ffd8",
   "metadata": {},
   "outputs": [
    {
     "data": {
      "text/plain": [
       "1"
      ]
     },
     "execution_count": 33,
     "metadata": {},
     "output_type": "execute_result"
    }
   ],
   "source": [
    "# count()\n",
    "ls5 = [0,9,8,7,6,5,4,2,1]\n",
    "ls5.count(9)"
   ]
  },
  {
   "cell_type": "code",
   "execution_count": 25,
   "id": "7513e26a",
   "metadata": {},
   "outputs": [
    {
     "data": {
      "text/plain": [
       "8"
      ]
     },
     "execution_count": 25,
     "metadata": {},
     "output_type": "execute_result"
    }
   ],
   "source": [
    "# index()\n",
    "ls5 = [0,9,8,7,6,5,4,2,1]\n",
    "ls5.index(1)"
   ]
  },
  {
   "cell_type": "code",
   "execution_count": 27,
   "id": "90ef31e5",
   "metadata": {},
   "outputs": [
    {
     "name": "stdout",
     "output_type": "stream",
     "text": [
      "[1, 2, 4, 5, 6, 7, 8, 9, 0]\n"
     ]
    }
   ],
   "source": [
    "# reverse\n",
    "ls5 = [0,9,8,7,6,5,4,2,1]\n",
    "ls5.reverse()\n",
    "print(ls5)"
   ]
  },
  {
   "cell_type": "code",
   "execution_count": 35,
   "id": "2b5d8a0e",
   "metadata": {},
   "outputs": [
    {
     "name": "stdout",
     "output_type": "stream",
     "text": [
      "[0, 9, 8, 7, 6, 5, 4, 2, 1]\n",
      "[0, 1, 2, 4, 5, 6, 7, 8, 9]\n"
     ]
    }
   ],
   "source": [
    "# sort()\n",
    "ls5 = [0,9,8,7,6,5,4,2,1]\n",
    "print(ls5)\n",
    "ls5.sort()\n",
    "print(ls5)"
   ]
  },
  {
   "cell_type": "code",
   "execution_count": 38,
   "id": "5fe037ad",
   "metadata": {},
   "outputs": [
    {
     "name": "stdout",
     "output_type": "stream",
     "text": [
      "[0, 9, 8, 7, 6, 5, 4, 2, 1]\n"
     ]
    }
   ],
   "source": [
    "# copy\n",
    "ls5 = [0,9,8,7,6,5,4,2,1]\n",
    "ls6 = ls5.copy()\n",
    "print(ls6)\n"
   ]
  },
  {
   "cell_type": "markdown",
   "id": "e3ef9bcb",
   "metadata": {},
   "source": [
    "# List Comprehension\n",
    "#### List Comprehension provides a concise way of creating lists.\n",
    "\n",
    "## newlist = [expression for item in iterable if condition == True]\n",
    "\n",
    "## Advantages of List Comprehension\n",
    "\n",
    "#### More time-efficient and space-efficient than loops.\n",
    "#### Require fewer lines of code.\n",
    "#### Transforms iterative statement into a formula."
   ]
  },
  {
   "cell_type": "code",
   "execution_count": 41,
   "id": "10cae8a8",
   "metadata": {},
   "outputs": [
    {
     "name": "stdout",
     "output_type": "stream",
     "text": [
      "[1, 2, 3, 4, 5, 6, 7, 8, 9, 10]\n"
     ]
    }
   ],
   "source": [
    "# Add 1 to 10 numbers to a list\n",
    "l = [i for i in range(1,11)]\n",
    "print(l)"
   ]
  },
  {
   "cell_type": "code",
   "execution_count": 43,
   "id": "42a6ccb0",
   "metadata": {},
   "outputs": [
    {
     "data": {
      "text/plain": [
       "[-6, -21, -15]"
      ]
     },
     "execution_count": 43,
     "metadata": {},
     "output_type": "execute_result"
    }
   ],
   "source": [
    "# scalar multiplication on a vector\n",
    "v = [2,7,5]\n",
    "s = -3\n",
    "[s*i for i in v]"
   ]
  },
  {
   "cell_type": "code",
   "execution_count": 44,
   "id": "794cd040",
   "metadata": {},
   "outputs": [
    {
     "data": {
      "text/plain": [
       "[4, 16, 36, 64]"
      ]
     },
     "execution_count": 44,
     "metadata": {},
     "output_type": "execute_result"
    }
   ],
   "source": [
    "#  Add squares\n",
    "S = [2,4,6,8]\n",
    "[i**2 for i in S]"
   ]
  },
  {
   "cell_type": "code",
   "execution_count": 45,
   "id": "f2d865ed",
   "metadata": {},
   "outputs": [
    {
     "data": {
      "text/plain": [
       "[5, 10, 15, 20, 25, 30, 35, 40, 45, 50]"
      ]
     },
     "execution_count": 45,
     "metadata": {},
     "output_type": "execute_result"
    }
   ],
   "source": [
    "# Print all numbers divisible by 5 in the range of 1 to 50\n",
    "[i for i in range(1,51) if i%5 == 0]"
   ]
  },
  {
   "cell_type": "code",
   "execution_count": 47,
   "id": "457b0338",
   "metadata": {},
   "outputs": [
    {
     "data": {
      "text/plain": [
       "['python', 'php']"
      ]
     },
     "execution_count": 47,
     "metadata": {},
     "output_type": "execute_result"
    }
   ],
   "source": [
    "# find languages which start with letter p\n",
    "languages = ['java','python','php','c','javascript']\n",
    "[language for language in languages if language.startswith('p')]"
   ]
  },
  {
   "cell_type": "markdown",
   "id": "72318a09",
   "metadata": {},
   "source": [
    "# 2 ways to traverse a list\n",
    "### 1.itemwise\n",
    "### 2.indexwise"
   ]
  },
  {
   "cell_type": "code",
   "execution_count": 49,
   "id": "0861bec0",
   "metadata": {},
   "outputs": [
    {
     "name": "stdout",
     "output_type": "stream",
     "text": [
      "6\n",
      "9\n",
      "8\n",
      "7\n"
     ]
    }
   ],
   "source": [
    "# itemwise\n",
    "l = [6,9,8,7]\n",
    "for i in l:\n",
    "    print(i)"
   ]
  },
  {
   "cell_type": "code",
   "execution_count": 50,
   "id": "fe29ef37",
   "metadata": {},
   "outputs": [
    {
     "name": "stdout",
     "output_type": "stream",
     "text": [
      "0\n",
      "1\n",
      "2\n",
      "3\n"
     ]
    }
   ],
   "source": [
    "# indexwise\n",
    "l = [6,9,8,7]\n",
    "for i in range(0,len(l)):\n",
    "    print(i)"
   ]
  },
  {
   "cell_type": "markdown",
   "id": "d9e3fd5f",
   "metadata": {},
   "source": [
    "# Zip\n",
    "#### The zip() function returns a zip object, which is an iterator of tuples where the first item in each passed iterator is paired together, and then the second item in each passed iterator are paired together.\n",
    "\n",
    "#### If the passed iterators have different lengths, the iterator with the least items decides the length of the new iterator."
   ]
  },
  {
   "cell_type": "code",
   "execution_count": 53,
   "id": "a5c8a4dc",
   "metadata": {},
   "outputs": [
    {
     "data": {
      "text/plain": [
       "[('A', 'a'), ('B', 'b'), ('C', 'c'), ('D', 'd')]"
      ]
     },
     "execution_count": 53,
     "metadata": {},
     "output_type": "execute_result"
    }
   ],
   "source": [
    "lz1 = ['A','B','C','D']\n",
    "lz2 = ['a','b','c','d']\n",
    "\n",
    "z = zip(lz1,lz2)\n",
    "list(z)"
   ]
  },
  {
   "cell_type": "markdown",
   "id": "6fe7b299",
   "metadata": {},
   "source": [
    "## List can contain any kind of objects in Python"
   ]
  },
  {
   "cell_type": "code",
   "execution_count": 57,
   "id": "5554f3f6",
   "metadata": {},
   "outputs": [
    {
     "name": "stdout",
     "output_type": "stream",
     "text": [
      "[5.6, 55, True, (6+8j), 'Hello', <built-in function print>, <built-in function len>]\n"
     ]
    }
   ],
   "source": [
    "lst = [5.6,55,True,6+8j,'Hello',print,len]\n",
    "print(lst)"
   ]
  },
  {
   "cell_type": "code",
   "execution_count": null,
   "id": "d6db3153",
   "metadata": {},
   "outputs": [],
   "source": []
  }
 ],
 "metadata": {
  "kernelspec": {
   "display_name": "Python 3 (ipykernel)",
   "language": "python",
   "name": "python3"
  },
  "language_info": {
   "codemirror_mode": {
    "name": "ipython",
    "version": 3
   },
   "file_extension": ".py",
   "mimetype": "text/x-python",
   "name": "python",
   "nbconvert_exporter": "python",
   "pygments_lexer": "ipython3",
   "version": "3.11.2"
  }
 },
 "nbformat": 4,
 "nbformat_minor": 5
}

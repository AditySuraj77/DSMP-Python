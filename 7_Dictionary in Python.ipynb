{
 "cells": [
  {
   "cell_type": "markdown",
   "id": "79ef41d8",
   "metadata": {},
   "source": [
    "# Dictionary\n",
    "#### Dictionary in Python is a collection of keys values, used to store data values like a map, which, unlike other data types which hold only a single value as an element.\n",
    "\n",
    "### In some languages it is known as map or assosiative arrays.\n",
    "\n",
    "### dict = { 'name' : 'nitish' , 'age' : 33 , 'gender' : 'male' }\n",
    "\n",
    "## Characterstics:\n",
    "\n",
    "#### Mutable\n",
    "#### Indexing has no meaning\n",
    "#### keys can't be duplicated\n",
    "#### keys can't be mutable items"
   ]
  },
  {
   "cell_type": "code",
   "execution_count": 10,
   "id": "90ee9b64",
   "metadata": {},
   "outputs": [
    {
     "name": "stdout",
     "output_type": "stream",
     "text": [
      "{}\n",
      "<class 'dict'>\n",
      "{'name': 'Python', 'Language': 'Programming'}\n",
      "{'Name': 'Felix', 'Age': 24, 'Job': 'Programmer', 'Skills': {1: 'Python', 2: 'ML', 3: 'Django', 4: 'HTML', 5: 'CSS', 6: 'Genrative AI'}}\n",
      "{'Name': 'Sam', 'Work': 'Shopkeeper'}\n",
      "{'name': 'hales'}\n",
      "{'name': 'Classen', (22, 3, 4): 'Jersy_number'}\n"
     ]
    }
   ],
   "source": [
    "# empty dictionary\n",
    "dic1 = {}\n",
    "print(dic1)\n",
    "print(type(dic1))\n",
    "\n",
    "# 1D Dictionary\n",
    "dic2 = {'name':'Python',\"Language\":'Programming'}\n",
    "print(dic2)\n",
    "\n",
    "# 2D Dictionary\n",
    "dic3 = {'Name':'Felix',\n",
    "        'Age':24,\n",
    "        'Job':'Programmer',\n",
    "        'Skills':{\n",
    "            1:'Python',\n",
    "            2:'ML',\n",
    "            3:'Django',\n",
    "            4:'HTML',\n",
    "            5:'CSS',\n",
    "            6:'Genrative AI'\n",
    "        }\n",
    "       }\n",
    "print(dic3)\n",
    "\n",
    "# using sequence and dict function\n",
    "dic4 = dict([('Name','Sam'),('Work','Shopkeeper')])\n",
    "print(dic4)\n",
    "\n",
    "# duplicate keys\n",
    "dic5 = {'name':'root','name':'hales'}\n",
    "print(dic5)\n",
    "# mutable item\n",
    "dic6 = {'name':'Classen',(22,3,4):'Jersy_number'}\n",
    "print(dic6)"
   ]
  },
  {
   "cell_type": "markdown",
   "id": "25ac73f0",
   "metadata": {},
   "source": [
    "# accessing items"
   ]
  },
  {
   "cell_type": "code",
   "execution_count": 13,
   "id": "ffc296db",
   "metadata": {},
   "outputs": [
    {
     "name": "stdout",
     "output_type": "stream",
     "text": [
      "Programming\n",
      "Genrative AI\n"
     ]
    }
   ],
   "source": [
    "dic2 = {'name':'Python',\"Language\":'Programming'}\n",
    "print(dic2['Language'])\n",
    "\n",
    "dic3 = {'Name':'Felix',\n",
    "        'Age':24,\n",
    "        'Job':'Programmer',\n",
    "        'Skills':{\n",
    "            1:'Python',\n",
    "            2:'ML',\n",
    "            3:'Django',\n",
    "            4:'HTML',\n",
    "            5:'CSS',\n",
    "            6:'Genrative AI'\n",
    "        }\n",
    "       }\n",
    "\n",
    "print(dic3['Skills'][6])"
   ]
  },
  {
   "cell_type": "markdown",
   "id": "7226c34c",
   "metadata": {},
   "source": [
    "# adding key-value pair"
   ]
  },
  {
   "cell_type": "code",
   "execution_count": 16,
   "id": "7d7a7d4a",
   "metadata": {},
   "outputs": [
    {
     "name": "stdout",
     "output_type": "stream",
     "text": [
      "{'name': 'Python', 'Language': 'Programming', 'Leanring-mode': 'Online'}\n",
      "{'Name': 'Felix', 'Age': 24, 'Job': 'Programmer', 'Skills': {1: 'Python', 2: 'ML', 3: 'Django', 4: 'HTML', 5: 'CSS', 6: 'Genrative AI', 7: 'Langchain'}}\n"
     ]
    }
   ],
   "source": [
    "dic2 = {'name':'Python',\"Language\":'Programming'}\n",
    "dic2['Leanring-mode'] = 'Online'\n",
    "print(dic2)\n",
    "\n",
    "dic3 = {'Name':'Felix',\n",
    "        'Age':24,\n",
    "        'Job':'Programmer',\n",
    "        'Skills':{\n",
    "            1:'Python',\n",
    "            2:'ML',\n",
    "            3:'Django',\n",
    "            4:'HTML',\n",
    "            5:'CSS',\n",
    "            6:'Genrative AI'\n",
    "        }\n",
    "       }\n",
    "\n",
    "\n",
    "dic3['Skills'][7] = 'Langchain'\n",
    "print(dic3)"
   ]
  },
  {
   "cell_type": "markdown",
   "id": "b197b1fd",
   "metadata": {},
   "source": [
    "# remove key-value pair"
   ]
  },
  {
   "cell_type": "code",
   "execution_count": 23,
   "id": "0078791e",
   "metadata": {},
   "outputs": [
    {
     "name": "stdout",
     "output_type": "stream",
     "text": [
      "{'Language': 'Programming', 'Leanring-mode': 'Online'}\n"
     ]
    }
   ],
   "source": [
    "# pop/pop-item/del/clear\n",
    "\n",
    "#pop\n",
    "d = {'name': 'Python', 'Language': 'Programming', 'Leanring-mode': 'Online'}\n",
    "d.pop('name')\n",
    "print(d)"
   ]
  },
  {
   "cell_type": "code",
   "execution_count": 26,
   "id": "6165b72f",
   "metadata": {},
   "outputs": [
    {
     "name": "stdout",
     "output_type": "stream",
     "text": [
      "{'name': 'Python'}\n"
     ]
    }
   ],
   "source": [
    "# pop-item\n",
    "d = {'name': 'Python', 'Language': 'Programming', 'Leanring-mode': 'Online'}\n",
    "d.popitem()\n",
    "d.popitem() # deleting random key values\n",
    "print(d)"
   ]
  },
  {
   "cell_type": "code",
   "execution_count": 27,
   "id": "36161cfb",
   "metadata": {},
   "outputs": [
    {
     "name": "stdout",
     "output_type": "stream",
     "text": [
      "{'name': 'Python', 'Language': 'Programming', 'Leanring-mode': 'Online'}\n"
     ]
    },
    {
     "ename": "NameError",
     "evalue": "name 'd' is not defined",
     "output_type": "error",
     "traceback": [
      "\u001b[1;31m---------------------------------------------------------------------------\u001b[0m",
      "\u001b[1;31mNameError\u001b[0m                                 Traceback (most recent call last)",
      "Cell \u001b[1;32mIn[27], line 5\u001b[0m\n\u001b[0;32m      3\u001b[0m \u001b[38;5;28mprint\u001b[39m(d)\n\u001b[0;32m      4\u001b[0m \u001b[38;5;28;01mdel\u001b[39;00m d\n\u001b[1;32m----> 5\u001b[0m \u001b[38;5;28mprint\u001b[39m(\u001b[43md\u001b[49m)\n",
      "\u001b[1;31mNameError\u001b[0m: name 'd' is not defined"
     ]
    }
   ],
   "source": [
    "# del\n",
    "d = {'name': 'Python', 'Language': 'Programming', 'Leanring-mode': 'Online'}\n",
    "print(d)\n",
    "del d\n",
    "print(d)"
   ]
  },
  {
   "cell_type": "code",
   "execution_count": 28,
   "id": "8b12898d",
   "metadata": {},
   "outputs": [
    {
     "name": "stdout",
     "output_type": "stream",
     "text": [
      "{'name': 'Python', 'Language': 'Programming', 'Leanring-mode': 'Online'}\n",
      "{'name': 'Python', 'Leanring-mode': 'Online'}\n"
     ]
    }
   ],
   "source": [
    "# del\n",
    "d = {'name': 'Python', 'Language': 'Programming', 'Leanring-mode': 'Online'}\n",
    "print(d)\n",
    "del d['Language']\n",
    "print(d)"
   ]
  },
  {
   "cell_type": "code",
   "execution_count": 29,
   "id": "e9026567",
   "metadata": {},
   "outputs": [
    {
     "name": "stdout",
     "output_type": "stream",
     "text": [
      "{}\n"
     ]
    }
   ],
   "source": [
    "# clear\n",
    "dic3 = {'Name':'Felix',\n",
    "        'Age':24,\n",
    "        'Job':'Programmer',\n",
    "        'Skills':{\n",
    "            1:'Python',\n",
    "            2:'ML',\n",
    "            3:'Django',\n",
    "            4:'HTML',\n",
    "            5:'CSS',\n",
    "            6:'Genrative AI'\n",
    "        }\n",
    "       }\n",
    "\n",
    "dic3.clear()\n",
    "print(dic3)"
   ]
  },
  {
   "cell_type": "markdown",
   "id": "1b276d11",
   "metadata": {},
   "source": [
    "# editing key-value pair"
   ]
  },
  {
   "cell_type": "code",
   "execution_count": 55,
   "id": "ba5b750f",
   "metadata": {},
   "outputs": [
    {
     "name": "stdout",
     "output_type": "stream",
     "text": [
      "{'name': 'JaVa', 'Language': 'Programming', 'Leanring-mode': 'Online'}\n",
      "--------------------------------------------------------------------------------------------------------------------------------\n",
      "{'Name': 'Felix', 'Age': 24, 'Job': 'Programmer', 'Skills': {1: 'R', 2: 'ML', 3: 'Django', 4: 'HTML', 5: 'CSS', 6: 'Genrative AI'}}\n"
     ]
    }
   ],
   "source": [
    "d = {'name': 'Python', 'Language': 'Programming', 'Leanring-mode': 'Online'}\n",
    "d['name'] = 'JaVa'\n",
    "print(d)\n",
    "print('--------------------------------------------------------------------------------------------------------------------------------')\n",
    "\n",
    "dic3 = {'Name':'Felix',\n",
    "        'Age':24,\n",
    "        'Job':'Programmer',\n",
    "        'Skills':{\n",
    "            1:'Python',\n",
    "            2:'ML',\n",
    "            3:'Django',\n",
    "            4:'HTML',\n",
    "            5:'CSS',\n",
    "            6:'Genrative AI'\n",
    "        }\n",
    "       }\n",
    "\n",
    "dic3['Skills'][1] = 'R'\n",
    "print(dic3)"
   ]
  },
  {
   "cell_type": "markdown",
   "id": "be921f95",
   "metadata": {},
   "source": [
    "# dictionary operations"
   ]
  },
  {
   "cell_type": "code",
   "execution_count": 34,
   "id": "8ad0994a",
   "metadata": {},
   "outputs": [
    {
     "name": "stdout",
     "output_type": "stream",
     "text": [
      "True\n"
     ]
    }
   ],
   "source": [
    "# Membership\n",
    "dic3 = {'Name':'Felix',\n",
    "        'Age':24,\n",
    "        'Job':'Programmer',\n",
    "        'Skills':{\n",
    "            1:'Python',\n",
    "            2:'ML',\n",
    "            3:'Django',\n",
    "            4:'HTML',\n",
    "            5:'CSS',\n",
    "            6:'Genrative AI'\n",
    "        }\n",
    "       }\n",
    "\n",
    "print('Name' in dic3)"
   ]
  },
  {
   "cell_type": "code",
   "execution_count": 38,
   "id": "28b2fbde",
   "metadata": {},
   "outputs": [
    {
     "name": "stdout",
     "output_type": "stream",
     "text": [
      "Name Felix\n",
      "Age 24\n",
      "Job Programmer\n",
      "Skills {1: 'Python', 2: 'ML', 3: 'Django', 4: 'HTML', 5: 'CSS', 6: 'Genrative AI'}\n"
     ]
    }
   ],
   "source": [
    "# loop\n",
    "dic3 = {'Name':'Felix',\n",
    "        'Age':24,\n",
    "        'Job':'Programmer',\n",
    "        'Skills':{\n",
    "            1:'Python',\n",
    "            2:'ML',\n",
    "            3:'Django',\n",
    "            4:'HTML',\n",
    "            5:'CSS',\n",
    "            6:'Genrative AI'\n",
    "        }\n",
    "       }\n",
    "\n",
    "for i in dic3:\n",
    "    print(i,dic3[i])"
   ]
  },
  {
   "cell_type": "markdown",
   "id": "b9ef47a1",
   "metadata": {},
   "source": [
    "# Dictionary Functions"
   ]
  },
  {
   "cell_type": "code",
   "execution_count": 44,
   "id": "32e9fec8",
   "metadata": {},
   "outputs": [
    {
     "data": {
      "text/plain": [
       "'name'"
      ]
     },
     "execution_count": 44,
     "metadata": {},
     "output_type": "execute_result"
    }
   ],
   "source": [
    "# len/sorted/min/max\n",
    "d = {'name': 'Python', 'Language': 'Programming', 'Leanring-mode': 'Online'}\n",
    "\n",
    "len(d)\n",
    "sorted(d)\n",
    "min(d)\n",
    "max(d)\n",
    "\n"
   ]
  },
  {
   "cell_type": "code",
   "execution_count": 52,
   "id": "b5762dc5",
   "metadata": {},
   "outputs": [
    {
     "name": "stdout",
     "output_type": "stream",
     "text": [
      "dict_items([('Name', 'Felix'), ('Age', 24), ('Job', 'Programmer'), ('Skills', {1: 'Python', 2: 'ML', 3: 'Django', 4: 'HTML', 5: 'CSS', 6: 'Genrative AI'})])\n",
      "-----------------------------------------------------------------------------------------------------------------------------------\n",
      "dict_values(['Felix', 24, 'Programmer', {1: 'Python', 2: 'ML', 3: 'Django', 4: 'HTML', 5: 'CSS', 6: 'Genrative AI'}])\n",
      "-----------------------------------------------------------------------------------------------------------------------------------\n",
      "dict_keys(['Name', 'Age', 'Job', 'Skills'])\n"
     ]
    }
   ],
   "source": [
    "# items/keys/values\n",
    "\n",
    "dic3 = {'Name':'Felix',\n",
    "        'Age':24,\n",
    "        'Job':'Programmer',\n",
    "        'Skills':{\n",
    "            1:'Python',\n",
    "            2:'ML',\n",
    "            3:'Django',\n",
    "            4:'HTML',\n",
    "            5:'CSS',\n",
    "            6:'Genrative AI'\n",
    "        }\n",
    "       }\n",
    "\n",
    "print(dic3.items())\n",
    "print('-----------------------------------------------------------------------------------------------------------------------------------')\n",
    "print(dic3.values())\n",
    "print('-----------------------------------------------------------------------------------------------------------------------------------')\n",
    "print(dic3.keys())\n"
   ]
  },
  {
   "cell_type": "code",
   "execution_count": 62,
   "id": "c53d0ca2",
   "metadata": {},
   "outputs": [
    {
     "name": "stdout",
     "output_type": "stream",
     "text": [
      "{1: 2, 3: 4, 4: 7, 6: 8}\n"
     ]
    }
   ],
   "source": [
    "# # update\n",
    "\n",
    "d1 = {1:2,3:4,4:5}\n",
    "d2 = {4:7,6:8}\n",
    "\n",
    "d1.update(d2)\n",
    "print(d1)"
   ]
  },
  {
   "cell_type": "markdown",
   "id": "c1caf358",
   "metadata": {},
   "source": [
    "# Dictionary Comprehension"
   ]
  },
  {
   "cell_type": "code",
   "execution_count": 63,
   "id": "ebc8acc3",
   "metadata": {},
   "outputs": [
    {
     "data": {
      "text/plain": [
       "{1: 1, 2: 4, 3: 9, 4: 16, 5: 25, 6: 36, 7: 49, 8: 64, 9: 81, 10: 100}"
      ]
     },
     "execution_count": 63,
     "metadata": {},
     "output_type": "execute_result"
    }
   ],
   "source": [
    "# print 1st 10 numbers and their squares\n",
    "{i:i**2 for i in range(1,11)}"
   ]
  },
  {
   "cell_type": "code",
   "execution_count": 64,
   "id": "e9b9e7bc",
   "metadata": {},
   "outputs": [
    {
     "name": "stdout",
     "output_type": "stream",
     "text": [
      "dict_items([('delhi', 1000), ('mumbai', 2000), ('bangalore', 3000)])\n"
     ]
    }
   ],
   "source": [
    "distances = {'delhi':1000,'mumbai':2000,'bangalore':3000}\n",
    "print(distances.items())"
   ]
  },
  {
   "cell_type": "code",
   "execution_count": 65,
   "id": "8cbf0a71",
   "metadata": {},
   "outputs": [
    {
     "data": {
      "text/plain": [
       "{'delhi': 2000, 'mumbai': 4000, 'bangalore': 6000}"
      ]
     },
     "execution_count": 65,
     "metadata": {},
     "output_type": "execute_result"
    }
   ],
   "source": [
    "{key:value*2 for (key,value) in distances.items()}"
   ]
  },
  {
   "cell_type": "code",
   "execution_count": 68,
   "id": "b11caeaf",
   "metadata": {},
   "outputs": [
    {
     "data": {
      "text/plain": [
       "{'phone': 10, 'charger': 32}"
      ]
     },
     "execution_count": 68,
     "metadata": {},
     "output_type": "execute_result"
    }
   ],
   "source": [
    "# using if condition fetch the item number above 5\n",
    "products = {'phone':10,'laptop':0,'charger':32,'tablet':0}\n",
    "\n",
    "{key:value for (key,value) in products.items() if value >5}"
   ]
  },
  {
   "cell_type": "markdown",
   "id": "c89b91cc",
   "metadata": {},
   "source": [
    "# Nested Comprehension\n"
   ]
  },
  {
   "cell_type": "code",
   "execution_count": 70,
   "id": "28746d7e",
   "metadata": {},
   "outputs": [
    {
     "data": {
      "text/plain": [
       "{2: {1: 2, 2: 4, 3: 6, 4: 8, 5: 10, 6: 12, 7: 14, 8: 16, 9: 18, 10: 20},\n",
       " 3: {1: 3, 2: 6, 3: 9, 4: 12, 5: 15, 6: 18, 7: 21, 8: 24, 9: 27, 10: 30},\n",
       " 4: {1: 4, 2: 8, 3: 12, 4: 16, 5: 20, 6: 24, 7: 28, 8: 32, 9: 36, 10: 40}}"
      ]
     },
     "execution_count": 70,
     "metadata": {},
     "output_type": "execute_result"
    }
   ],
   "source": [
    "# print tables of number from 2 to 4\n",
    "\n",
    "{i:{j:i*j for j in range(1,11)} for i in range(2,5)}"
   ]
  },
  {
   "cell_type": "markdown",
   "id": "de4c07e4",
   "metadata": {},
   "source": [
    "# zip"
   ]
  },
  {
   "cell_type": "code",
   "execution_count": 67,
   "id": "f6ee7ec2",
   "metadata": {},
   "outputs": [
    {
     "data": {
      "text/plain": [
       "{'Sunday': 30.5,\n",
       " 'Monday': 32.6,\n",
       " 'Tuesday': 31.8,\n",
       " 'Wednesday': 33.4,\n",
       " 'Thursday': 29.8,\n",
       " 'Friday': 30.2,\n",
       " 'Saturday': 29.9}"
      ]
     },
     "execution_count": 67,
     "metadata": {},
     "output_type": "execute_result"
    }
   ],
   "source": [
    "# using zip\n",
    "days = [\"Sunday\", \"Monday\",\"Tuesday\",\"Wednesday\",\"Thursday\",\"Friday\",\"Saturday\"]\n",
    "temp_C = [30.5,32.6,31.8,33.4,29.8,30.2,29.9]\n",
    "\n",
    "{i:j for (i,j) in zip(days,temp_C)}"
   ]
  },
  {
   "cell_type": "code",
   "execution_count": null,
   "id": "fd0d4959",
   "metadata": {},
   "outputs": [],
   "source": []
  }
 ],
 "metadata": {
  "kernelspec": {
   "display_name": "Python 3 (ipykernel)",
   "language": "python",
   "name": "python3"
  },
  "language_info": {
   "codemirror_mode": {
    "name": "ipython",
    "version": 3
   },
   "file_extension": ".py",
   "mimetype": "text/x-python",
   "name": "python",
   "nbconvert_exporter": "python",
   "pygments_lexer": "ipython3",
   "version": "3.11.2"
  }
 },
 "nbformat": 4,
 "nbformat_minor": 5
}

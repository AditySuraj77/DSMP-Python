{
 "cells": [
  {
   "cell_type": "markdown",
   "id": "072d203d",
   "metadata": {},
   "source": [
    "### Find the length of a given string without using the len() function\n"
   ]
  },
  {
   "cell_type": "code",
   "execution_count": 1,
   "id": "c33a8ea7",
   "metadata": {},
   "outputs": [
    {
     "name": "stdout",
     "output_type": "stream",
     "text": [
      "Enter a String : jgjhcv\n",
      "6\n"
     ]
    }
   ],
   "source": [
    "s = input('Enter a String : ')\n",
    "\n",
    "count =0\n",
    "\n",
    "for i in s:\n",
    "    count += 1\n",
    "    \n",
    "print(count)"
   ]
  },
  {
   "cell_type": "markdown",
   "id": "814840f9",
   "metadata": {},
   "source": [
    "### Extract username from a given email. "
   ]
  },
  {
   "cell_type": "code",
   "execution_count": 3,
   "id": "a9d339f7",
   "metadata": {},
   "outputs": [
    {
     "name": "stdout",
     "output_type": "stream",
     "text": [
      "Enter a String : nbvbvbj@gmail.com\n",
      "nbvbvbj\n"
     ]
    }
   ],
   "source": [
    "s = input('Enter a String : ')\n",
    "pos = s.find('@')\n",
    "print(s[0:pos])"
   ]
  },
  {
   "cell_type": "markdown",
   "id": "ff7a4007",
   "metadata": {},
   "source": [
    "### Count the frequency of a particular character in a provided string."
   ]
  },
  {
   "cell_type": "code",
   "execution_count": 4,
   "id": "e7c6f6be",
   "metadata": {},
   "outputs": [
    {
     "name": "stdout",
     "output_type": "stream",
     "text": [
      "Enter a String : hello hay how are you\n",
      "What would you like to search : o\n",
      "Frequency of o is 3\n"
     ]
    }
   ],
   "source": [
    "s = input('Enter a String : ')\n",
    "search = input('What would you like to search : ')\n",
    "\n",
    "counter = 0\n",
    "\n",
    "for i in s:\n",
    "    if i == search:\n",
    "        counter += 1\n",
    "        \n",
    "print(f'Frequency of {search} is {counter}')"
   ]
  },
  {
   "cell_type": "markdown",
   "id": "641d4f35",
   "metadata": {},
   "source": [
    "### Write a program which can remove a particular character from a string."
   ]
  },
  {
   "cell_type": "code",
   "execution_count": 6,
   "id": "4a438566",
   "metadata": {},
   "outputs": [
    {
     "name": "stdout",
     "output_type": "stream",
     "text": [
      "Enter a String : aditya\n",
      "What would you like to Remove : a\n",
      "dity\n"
     ]
    }
   ],
   "source": [
    "s = input('Enter a String : ')\n",
    "search = input('What would you like to Remove : ')\n",
    "\n",
    "result= ''\n",
    "\n",
    "for i in s:\n",
    "    if i != search:\n",
    "        result+= i\n",
    "print(result)"
   ]
  },
  {
   "cell_type": "code",
   "execution_count": null,
   "id": "b45fcae1",
   "metadata": {},
   "outputs": [],
   "source": []
  }
 ],
 "metadata": {
  "kernelspec": {
   "display_name": "Python 3 (ipykernel)",
   "language": "python",
   "name": "python3"
  },
  "language_info": {
   "codemirror_mode": {
    "name": "ipython",
    "version": 3
   },
   "file_extension": ".py",
   "mimetype": "text/x-python",
   "name": "python",
   "nbconvert_exporter": "python",
   "pygments_lexer": "ipython3",
   "version": "3.11.2"
  }
 },
 "nbformat": 4,
 "nbformat_minor": 5
}

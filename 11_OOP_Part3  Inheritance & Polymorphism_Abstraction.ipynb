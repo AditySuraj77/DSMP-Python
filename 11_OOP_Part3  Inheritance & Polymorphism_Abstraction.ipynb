{
 "cells": [
  {
   "cell_type": "markdown",
   "id": "27cbdc2b",
   "metadata": {},
   "source": [
    "# Inheritance"
   ]
  },
  {
   "cell_type": "code",
   "execution_count": 31,
   "id": "533a360c",
   "metadata": {},
   "outputs": [],
   "source": [
    "class Parent:\n",
    "    def __init__(self):\n",
    "        self.name = 'GOOGLE'\n",
    "        self.stablish = '4 September 1998'\n",
    "        \n",
    "    def print_p(self):\n",
    "        print('Google')\n",
    "        \n",
    "\n",
    "\n",
    "class Children(Parent):\n",
    "    def print_c(self):\n",
    "        print('Chlidren Class')\n",
    "    \n",
    "\n",
    "        \n",
    "\n"
   ]
  },
  {
   "cell_type": "code",
   "execution_count": 32,
   "id": "466f70b1",
   "metadata": {},
   "outputs": [
    {
     "name": "stdout",
     "output_type": "stream",
     "text": [
      "Google\n",
      "Chlidren Class\n"
     ]
    }
   ],
   "source": [
    "c =  Children()\n",
    "c.print_p()\n",
    "c.print_c()"
   ]
  },
  {
   "cell_type": "markdown",
   "id": "4a2cff2e",
   "metadata": {},
   "source": [
    "## What gets inherited?\n",
    "- Constructor\n",
    "- Non Private Attributes\n",
    "- Non Private Methods"
   ]
  },
  {
   "cell_type": "code",
   "execution_count": 39,
   "id": "2515acf9",
   "metadata": {},
   "outputs": [],
   "source": [
    "class Phone:\n",
    "    def __init__(self):\n",
    "        print('Phone Class')\n",
    "        \n",
    "\n",
    "class SmartPhone(Phone):\n",
    "    def __init__(self):\n",
    "        print('SmartPhone Class')\n",
    "        \n",
    "        \n",
    "    "
   ]
  },
  {
   "cell_type": "markdown",
   "id": "63dd8640",
   "metadata": {},
   "source": [
    "### Note-\n",
    "- If Parent class has constructor and children class don't has constructor then parent class constructor was excuted\n",
    "- If Parent and children class both have constructor so children class constructor was excuted"
   ]
  },
  {
   "cell_type": "code",
   "execution_count": 40,
   "id": "4ac53467",
   "metadata": {},
   "outputs": [
    {
     "name": "stdout",
     "output_type": "stream",
     "text": [
      "SmartPhone Class\n"
     ]
    }
   ],
   "source": [
    "s = SmartPhone()"
   ]
  },
  {
   "cell_type": "code",
   "execution_count": 44,
   "id": "783241c8",
   "metadata": {},
   "outputs": [],
   "source": [
    "class Phone:\n",
    "    def __init__(self):\n",
    "        self.name = 'Moto'\n",
    "        self.price = 11,999\n",
    "        self.__release_date = 'Upcoming this Months'\n",
    "        # Children class not acess parent class private attributes\n",
    "        \n",
    "\n",
    "class SmartPhone(Phone):\n",
    "    def display():\n",
    "        print('SmartPhone Class')"
   ]
  },
  {
   "cell_type": "code",
   "execution_count": 46,
   "id": "850ba7e8",
   "metadata": {},
   "outputs": [],
   "source": [
    "p = SmartPhone()"
   ]
  },
  {
   "cell_type": "code",
   "execution_count": 50,
   "id": "32f03018",
   "metadata": {},
   "outputs": [
    {
     "name": "stdout",
     "output_type": "stream",
     "text": [
      "Moto\n",
      "(11, 999)\n"
     ]
    }
   ],
   "source": [
    "print(p.name)\n",
    "print(p.price)"
   ]
  },
  {
   "cell_type": "code",
   "execution_count": 58,
   "id": "6cff173f",
   "metadata": {},
   "outputs": [],
   "source": [
    "class Phone:\n",
    "    def __init__(self):\n",
    "        self.name = 'Moto'\n",
    "        self.price = 11,999\n",
    "        self.release_date = 'Upcoming this Months'\n",
    "        \n",
    "    \n",
    "    def __display_p(self):# Children class not acess parent class private Methods\n",
    "        print('Phone Class')\n",
    "\n",
    "class SmartPhone(Phone):\n",
    "    def display_c(self):\n",
    "        print('SmartPhone Class')"
   ]
  },
  {
   "cell_type": "code",
   "execution_count": 59,
   "id": "32c3500e",
   "metadata": {},
   "outputs": [],
   "source": [
    "d = SmartPhone()"
   ]
  },
  {
   "cell_type": "code",
   "execution_count": 60,
   "id": "2f9d6705",
   "metadata": {},
   "outputs": [
    {
     "name": "stdout",
     "output_type": "stream",
     "text": [
      "SmartPhone Class\n"
     ]
    }
   ],
   "source": [
    "d.display_c()"
   ]
  },
  {
   "cell_type": "code",
   "execution_count": 61,
   "id": "490a4dd6",
   "metadata": {},
   "outputs": [
    {
     "data": {
      "text/plain": [
       "'Upcoming this Months'"
      ]
     },
     "execution_count": 61,
     "metadata": {},
     "output_type": "execute_result"
    }
   ],
   "source": [
    "d.release_date"
   ]
  },
  {
   "cell_type": "markdown",
   "id": "e73f8589",
   "metadata": {},
   "source": [
    "## Method Overriding"
   ]
  },
  {
   "cell_type": "code",
   "execution_count": 62,
   "id": "7fd0e33e",
   "metadata": {},
   "outputs": [],
   "source": [
    "class Phone:\n",
    "    def __init__(self):\n",
    "        self.name = 'Moto'\n",
    "        self.price = 11,999\n",
    "        self.release_date = 'Upcoming this Months'\n",
    "        \n",
    "    \n",
    "    def display(self):\n",
    "        print('Phone Class')\n",
    "\n",
    "class SmartPhone(Phone):\n",
    "    def display(self):\n",
    "        print('SmartPhone Class')"
   ]
  },
  {
   "cell_type": "markdown",
   "id": "98dd0ee0",
   "metadata": {},
   "source": [
    "### Note-\n",
    "- If Parent and chidren class have same type of method or name is same So According Inheritance Rule Children class method are excuted \n",
    "- Its called Method Overriding"
   ]
  },
  {
   "cell_type": "code",
   "execution_count": 64,
   "id": "c97ce62d",
   "metadata": {},
   "outputs": [],
   "source": [
    "obj = SmartPhone()"
   ]
  },
  {
   "cell_type": "code",
   "execution_count": 91,
   "id": "1e2f3568",
   "metadata": {},
   "outputs": [
    {
     "name": "stdout",
     "output_type": "stream",
     "text": [
      "SmartPhone Class\n"
     ]
    }
   ],
   "source": [
    "obj.display()"
   ]
  },
  {
   "cell_type": "markdown",
   "id": "3b09c452",
   "metadata": {},
   "source": [
    "# SuperKeyword"
   ]
  },
  {
   "cell_type": "markdown",
   "id": "2f9ab777",
   "metadata": {},
   "source": [
    "- The super() function is used to give access to methods and properties of a parent or sibling class."
   ]
  },
  {
   "cell_type": "code",
   "execution_count": 88,
   "id": "ac57a06f",
   "metadata": {},
   "outputs": [],
   "source": [
    "class Paperback:\n",
    "    def __init__(self):\n",
    "        self.book_1 = 'People'\n",
    "        self.book_2 = 'Ones'\n",
    "        self.book_3 = 'Mindful'\n",
    "        \n",
    "    def book(self):\n",
    "        print('None')\n",
    "        \n",
    "class AudioBook(Paperback):\n",
    "    def book(self):\n",
    "        print('AudioNone')\n",
    "    \n",
    "        super().book()"
   ]
  },
  {
   "cell_type": "code",
   "execution_count": 89,
   "id": "9520d6e7",
   "metadata": {},
   "outputs": [],
   "source": [
    "obj1 = AudioBook()"
   ]
  },
  {
   "cell_type": "code",
   "execution_count": 90,
   "id": "dcdb929f",
   "metadata": {},
   "outputs": [
    {
     "name": "stdout",
     "output_type": "stream",
     "text": [
      "AudioNone\n",
      "None\n"
     ]
    }
   ],
   "source": [
    "obj1.book()"
   ]
  },
  {
   "cell_type": "markdown",
   "id": "6c86a919",
   "metadata": {},
   "source": [
    "- Inherited Parent class constructor using super() keyword"
   ]
  },
  {
   "cell_type": "code",
   "execution_count": 99,
   "id": "f131b071",
   "metadata": {},
   "outputs": [],
   "source": [
    "class Phone:\n",
    "    def __init__(self,brand):\n",
    "        print('Parent Class Constructor')\n",
    "        self.brand = brand\n",
    "        \n",
    "\n",
    "\n",
    "class SmartPhone(Phone):\n",
    "    def __init__(self,price,camera,brand,os,ram):\n",
    "        print('Children Class Constructor')\n",
    "        super().__init__(brand)\n",
    "        self.os = os\n",
    "        self.ram = ram"
   ]
  },
  {
   "cell_type": "code",
   "execution_count": 103,
   "id": "d64a9642",
   "metadata": {},
   "outputs": [
    {
     "name": "stdout",
     "output_type": "stream",
     "text": [
      "Children Class Constructor\n",
      "Parent Class Constructor\n"
     ]
    }
   ],
   "source": [
    "obj2 = SmartPhone(5000,'50MP','Redmi','Android','8GB')"
   ]
  },
  {
   "cell_type": "code",
   "execution_count": 104,
   "id": "eacc31fd",
   "metadata": {},
   "outputs": [
    {
     "data": {
      "text/plain": [
       "'Redmi'"
      ]
     },
     "execution_count": 104,
     "metadata": {},
     "output_type": "execute_result"
    }
   ],
   "source": [
    "obj2.brand"
   ]
  },
  {
   "cell_type": "markdown",
   "id": "f4d45d6c",
   "metadata": {},
   "source": [
    "## Inheritance in summary\n",
    "- A class can inherit from another class.\n",
    "\n",
    "- Inheritance improves code reuse\n",
    "\n",
    "- Constructor, attributes, methods get inherited to the child class\n",
    "\n",
    "- The parent has no access to the child class\n",
    "\n",
    "- Private properties of parent are not accessible directly in child class\n",
    "\n",
    "- Child class can override the attributes or methods. This is called method overriding\n",
    "\n",
    "- super() is an inbuilt function which is used to invoke the parent class methods and constructor"
   ]
  },
  {
   "cell_type": "markdown",
   "id": "11812843",
   "metadata": {},
   "source": [
    "# Types of Inheritance\n",
    "- Single Inheritance\n",
    "- Multilevel Inheritance\n",
    "- Hierarchical Inheritance\n",
    "- Multiple Inheritance(Diamond Problem)\n",
    "- Hybrid Inheritance# "
   ]
  },
  {
   "cell_type": "code",
   "execution_count": 1,
   "id": "2a7b1645",
   "metadata": {},
   "outputs": [],
   "source": [
    "# Single Inheritance\n",
    "class Parent:\n",
    "    def __init__(self):\n",
    "        print('Parent Class')\n",
    "        \n",
    "class Child(Parent):\n",
    "    def display(self):\n",
    "        print('Chaildren Class')\n",
    "        \n"
   ]
  },
  {
   "cell_type": "code",
   "execution_count": 2,
   "id": "a24258a1",
   "metadata": {},
   "outputs": [
    {
     "name": "stdout",
     "output_type": "stream",
     "text": [
      "Parent Class\n"
     ]
    }
   ],
   "source": [
    "obj4 = Child()"
   ]
  },
  {
   "cell_type": "code",
   "execution_count": 3,
   "id": "33ff25ee",
   "metadata": {},
   "outputs": [
    {
     "name": "stdout",
     "output_type": "stream",
     "text": [
      "Chaildren Class\n"
     ]
    }
   ],
   "source": [
    "obj4.display()"
   ]
  },
  {
   "cell_type": "code",
   "execution_count": 9,
   "id": "f51ed236",
   "metadata": {},
   "outputs": [],
   "source": [
    "# Multilevel Inheritance\n",
    "class Product:\n",
    "    def display_P(self):\n",
    "        print('Product Class')\n",
    "        \n",
    "class Phone(Product):\n",
    "    def __init__(self):\n",
    "        print('')\n",
    "    def display_PH(self):\n",
    "        print('Phone class')\n",
    "        \n",
    "\n",
    "class SmartPhone(Phone):\n",
    "    def __init__(self,price,brand):\n",
    "        self.price = 0\n",
    "        self.brand = ''\n",
    "    def display_S(self):\n",
    "        print('SmartPhone Class')"
   ]
  },
  {
   "cell_type": "code",
   "execution_count": 10,
   "id": "1101ff5e",
   "metadata": {},
   "outputs": [],
   "source": [
    "obj5 = SmartPhone(10000,'MOTO')"
   ]
  },
  {
   "cell_type": "code",
   "execution_count": 11,
   "id": "f80e4435",
   "metadata": {},
   "outputs": [
    {
     "name": "stdout",
     "output_type": "stream",
     "text": [
      "Product Class\n"
     ]
    }
   ],
   "source": [
    "obj5.display_P()"
   ]
  },
  {
   "cell_type": "code",
   "execution_count": 12,
   "id": "61a4c55b",
   "metadata": {},
   "outputs": [
    {
     "name": "stdout",
     "output_type": "stream",
     "text": [
      "Phone class\n"
     ]
    }
   ],
   "source": [
    "obj5.display_PH()"
   ]
  },
  {
   "cell_type": "code",
   "execution_count": 13,
   "id": "71b2fbf0",
   "metadata": {},
   "outputs": [],
   "source": [
    "# Hierarchical Inheritance\n",
    "class SmartPhone:\n",
    "    def __init__(self,Brand,Price):\n",
    "        self.Brand = ''\n",
    "        self.Price = 0\n",
    "        \n",
    "    def buy(self):\n",
    "        print('Buying a Phone')\n",
    "        \n",
    "class Brand1(SmartPhone):\n",
    "    pass\n",
    "\n",
    "class Brand2(SmartPhone):\n",
    "    pass"
   ]
  },
  {
   "cell_type": "code",
   "execution_count": 14,
   "id": "09050a93",
   "metadata": {},
   "outputs": [
    {
     "name": "stdout",
     "output_type": "stream",
     "text": [
      "Buying a Phone\n",
      "Buying a Phone\n"
     ]
    }
   ],
   "source": [
    "Brand1('Realme',19000).buy()\n",
    "Brand2('VIVO',15000).buy()"
   ]
  },
  {
   "cell_type": "code",
   "execution_count": 24,
   "id": "3c4164a0",
   "metadata": {},
   "outputs": [],
   "source": [
    "# Multiple Inheritance\n",
    "class Price:\n",
    "    def __init__(self,price):\n",
    "        self.price = price\n",
    "        \n",
    "class Brand:\n",
    "    def review(self):\n",
    "        print('Reviews')\n",
    "class SmartPhone(Price,Brand):\n",
    "    pass\n",
    "\n",
    "        "
   ]
  },
  {
   "cell_type": "code",
   "execution_count": 26,
   "id": "8e50daf6",
   "metadata": {},
   "outputs": [],
   "source": [
    "s = SmartPhone(5000)"
   ]
  },
  {
   "cell_type": "code",
   "execution_count": 27,
   "id": "5f35d0e1",
   "metadata": {},
   "outputs": [
    {
     "name": "stdout",
     "output_type": "stream",
     "text": [
      "Reviews\n"
     ]
    }
   ],
   "source": [
    "s.review()"
   ]
  },
  {
   "cell_type": "code",
   "execution_count": 28,
   "id": "7d3e9f7b",
   "metadata": {},
   "outputs": [
    {
     "data": {
      "text/plain": [
       "5000"
      ]
     },
     "execution_count": 28,
     "metadata": {},
     "output_type": "execute_result"
    }
   ],
   "source": [
    "s.price"
   ]
  },
  {
   "cell_type": "markdown",
   "id": "8008feab",
   "metadata": {},
   "source": [
    "# Polymorphism\n",
    "- Method Overriding\n",
    "- Method Overloading\n",
    "- Operator Overloading"
   ]
  },
  {
   "cell_type": "code",
   "execution_count": 34,
   "id": "9b7c3ba4",
   "metadata": {},
   "outputs": [],
   "source": [
    "class Shape:\n",
    "    def area(self,a,b=0):\n",
    "        if b == 0:\n",
    "            return 3.14*a*a\n",
    "        else:\n",
    "            a*b"
   ]
  },
  {
   "cell_type": "code",
   "execution_count": 35,
   "id": "4f88e867",
   "metadata": {},
   "outputs": [],
   "source": [
    "shp = Shape()"
   ]
  },
  {
   "cell_type": "code",
   "execution_count": 41,
   "id": "0dad905a",
   "metadata": {},
   "outputs": [
    {
     "name": "stdout",
     "output_type": "stream",
     "text": [
      "12.56\n",
      "None\n"
     ]
    }
   ],
   "source": [
    "print(shp.area(2))\n",
    "print(shp.area(2,2))"
   ]
  },
  {
   "cell_type": "markdown",
   "id": "3146f233",
   "metadata": {},
   "source": [
    "# Abstraction\n",
    "- An abstract class in Python is typically created to declare a set of methods that must be created in any child class built on top of this abstract class. \n",
    "- Similarly, an abstract method is one that doesn't have any implementation."
   ]
  },
  {
   "cell_type": "code",
   "execution_count": 42,
   "id": "3ee6d246",
   "metadata": {},
   "outputs": [],
   "source": [
    "from abc import ABC, abstractmethod"
   ]
  },
  {
   "cell_type": "code",
   "execution_count": 43,
   "id": "d48a0887",
   "metadata": {},
   "outputs": [],
   "source": [
    "class BankAPP(ABC):\n",
    "    def database(self):\n",
    "        print('Connected to DataBases')\n",
    "        \n",
    "    @abstractmethod\n",
    "    def security(self):\n",
    "        pass"
   ]
  },
  {
   "cell_type": "code",
   "execution_count": 44,
   "id": "4188a06c",
   "metadata": {},
   "outputs": [],
   "source": [
    "class WebAPP(BankAPP):\n",
    "    def Webapp(self):\n",
    "        print('Webapp')"
   ]
  },
  {
   "cell_type": "code",
   "execution_count": 45,
   "id": "99953c49",
   "metadata": {},
   "outputs": [
    {
     "ename": "TypeError",
     "evalue": "Can't instantiate abstract class WebAPP with abstract method security",
     "output_type": "error",
     "traceback": [
      "\u001b[1;31m---------------------------------------------------------------------------\u001b[0m",
      "\u001b[1;31mTypeError\u001b[0m                                 Traceback (most recent call last)",
      "Cell \u001b[1;32mIn[45], line 1\u001b[0m\n\u001b[1;32m----> 1\u001b[0m ab_st \u001b[38;5;241m=\u001b[39m \u001b[43mWebAPP\u001b[49m\u001b[43m(\u001b[49m\u001b[43m)\u001b[49m\n",
      "\u001b[1;31mTypeError\u001b[0m: Can't instantiate abstract class WebAPP with abstract method security"
     ]
    }
   ],
   "source": [
    "ab_st = WebAPP()"
   ]
  },
  {
   "cell_type": "markdown",
   "id": "98b9e057",
   "metadata": {},
   "source": [
    "## After implement security method in Children class"
   ]
  },
  {
   "cell_type": "code",
   "execution_count": 59,
   "id": "c2f5f729",
   "metadata": {},
   "outputs": [],
   "source": [
    "class WebAPP(BankAPP):\n",
    "    def Webapp(self):\n",
    "        return print('Webapp')\n",
    "        \n",
    "    def security(self):\n",
    "        return print('Web Security')"
   ]
  },
  {
   "cell_type": "code",
   "execution_count": 60,
   "id": "0c0fe760",
   "metadata": {},
   "outputs": [],
   "source": [
    "abs_ = WebAPP()"
   ]
  },
  {
   "cell_type": "code",
   "execution_count": 61,
   "id": "6574ed1d",
   "metadata": {},
   "outputs": [
    {
     "name": "stdout",
     "output_type": "stream",
     "text": [
      "Connected to DataBases\n",
      "None\n",
      "Web Security\n",
      "None\n",
      "Webapp\n",
      "None\n"
     ]
    }
   ],
   "source": [
    "print(abs_.database())\n",
    "print(abs_.security())\n",
    "print(abs_.Webapp())"
   ]
  },
  {
   "cell_type": "code",
   "execution_count": null,
   "id": "57631be3",
   "metadata": {},
   "outputs": [],
   "source": []
  },
  {
   "cell_type": "code",
   "execution_count": null,
   "id": "230dd03e",
   "metadata": {},
   "outputs": [],
   "source": []
  }
 ],
 "metadata": {
  "kernelspec": {
   "display_name": "Python 3 (ipykernel)",
   "language": "python",
   "name": "python3"
  },
  "language_info": {
   "codemirror_mode": {
    "name": "ipython",
    "version": 3
   },
   "file_extension": ".py",
   "mimetype": "text/x-python",
   "name": "python",
   "nbconvert_exporter": "python",
   "pygments_lexer": "ipython3",
   "version": "3.11.2"
  }
 },
 "nbformat": 4,
 "nbformat_minor": 5
}

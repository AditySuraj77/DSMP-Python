{
 "cells": [
  {
   "cell_type": "markdown",
   "id": "ef39a9e3",
   "metadata": {},
   "source": [
    "# Some Theory\n",
    "## Types of data used for I/O:\n",
    "- Text - '12345' as a sequence of unicode chars\n",
    "- Binary - 12345 as a sequence of bytes of its binary equivalent\n",
    "## Hence there are 2 file types to deal with\n",
    "- Text files - All program files are text files\n",
    "- Binary Files - Images,music,video,exe files\n",
    "# How File I/O is done in most programming languages\n",
    "- Open a file\n",
    "- Read/Write data\n",
    "- Close the file"
   ]
  },
  {
   "cell_type": "markdown",
   "id": "b69a5c64",
   "metadata": {},
   "source": [
    "# Writing files"
   ]
  },
  {
   "cell_type": "code",
   "execution_count": 1,
   "id": "0e7acd64",
   "metadata": {},
   "outputs": [],
   "source": [
    "f = open('sample.txt','w')\n",
    "f.write('Hello World')\n",
    "f.close()"
   ]
  },
  {
   "cell_type": "code",
   "execution_count": 3,
   "id": "1360ea64",
   "metadata": {},
   "outputs": [],
   "source": [
    "# write multiline string\n",
    "f = open('sample1.txt','w')\n",
    "f.write('Hi')\n",
    "f.write('\\n How are you?')\n",
    "f.close()"
   ]
  },
  {
   "cell_type": "code",
   "execution_count": 4,
   "id": "52164bf2",
   "metadata": {},
   "outputs": [],
   "source": [
    "# if file is already present\n",
    "f = open('sample.txt','w')\n",
    "f.write('Good Morning')\n",
    "f.close()"
   ]
  },
  {
   "cell_type": "code",
   "execution_count": 5,
   "id": "37e580d3",
   "metadata": {},
   "outputs": [],
   "source": [
    "# append mode\n",
    "f = open('sample1.txt','a')\n",
    "f.write('\\ni am fine')\n",
    "f.close()"
   ]
  },
  {
   "cell_type": "code",
   "execution_count": 7,
   "id": "3dd32532",
   "metadata": {},
   "outputs": [],
   "source": [
    "# Write many lines\n",
    "l = ['Hay\\n','we good to see\\n','Antrtica']\n",
    "f = open('many_lines.txt','w')\n",
    "f.writelines(l)\n",
    "f.close()"
   ]
  },
  {
   "cell_type": "markdown",
   "id": "65e634d5",
   "metadata": {},
   "source": [
    "# Reading"
   ]
  },
  {
   "cell_type": "code",
   "execution_count": 8,
   "id": "2e5dc019",
   "metadata": {},
   "outputs": [
    {
     "name": "stdout",
     "output_type": "stream",
     "text": [
      "Hi\n",
      " How are you?\n",
      "i am fine\n"
     ]
    }
   ],
   "source": [
    "f = open('sample1.txt','r')\n",
    "s = f.read()\n",
    "print(s)\n",
    "f.close()"
   ]
  },
  {
   "cell_type": "code",
   "execution_count": 9,
   "id": "153f0754",
   "metadata": {},
   "outputs": [
    {
     "name": "stdout",
     "output_type": "stream",
     "text": [
      "Hi\n",
      " How\n"
     ]
    }
   ],
   "source": [
    "# read chr by char\n",
    "\n",
    "f = open('sample1.txt','r')\n",
    "s = f.read(7)\n",
    "print(s)\n",
    "f.close()"
   ]
  },
  {
   "cell_type": "code",
   "execution_count": 10,
   "id": "b8b75417",
   "metadata": {},
   "outputs": [
    {
     "name": "stdout",
     "output_type": "stream",
     "text": [
      "Hay\n",
      "we good to see\n"
     ]
    }
   ],
   "source": [
    "# Read line by line\n",
    "f = open('many_lines.txt','r')\n",
    "print(f.readline(),end='')\n",
    "print(f.readline(),end='')\n",
    "f.close()"
   ]
  },
  {
   "cell_type": "code",
   "execution_count": 13,
   "id": "c956530b",
   "metadata": {},
   "outputs": [
    {
     "name": "stdout",
     "output_type": "stream",
     "text": [
      "Hay\n",
      "we good to see\n",
      "Antrtica"
     ]
    }
   ],
   "source": [
    "# reading entire using readlines\n",
    "\n",
    "f = open('many_lines.txt','r')\n",
    "\n",
    "while True:\n",
    "    data = f.readline()\n",
    "    \n",
    "    if data == '':\n",
    "        break\n",
    "    else:\n",
    "        print(data,end='')"
   ]
  },
  {
   "cell_type": "markdown",
   "id": "103b4ac9",
   "metadata": {},
   "source": [
    "# Using Context Manager (With)\n",
    "- It's a good idea to close a file after usage as it will free up the resources\n",
    "- If we dont close it, garbage collector would close it\n",
    "- with keyword closes the file as soon as the usage is over"
   ]
  },
  {
   "cell_type": "code",
   "execution_count": 1,
   "id": "0815248b",
   "metadata": {},
   "outputs": [
    {
     "name": "stdout",
     "output_type": "stream",
     "text": [
      "Good Morning\n"
     ]
    }
   ],
   "source": [
    "# with\n",
    "with open('sample.txt','r') as f:\n",
    "    print(f.read())"
   ]
  },
  {
   "cell_type": "code",
   "execution_count": 4,
   "id": "2d8eaede",
   "metadata": {},
   "outputs": [
    {
     "name": "stdout",
     "output_type": "stream",
     "text": [
      "Hay\n",
      "we good to see\n",
      "\n"
     ]
    }
   ],
   "source": [
    "# readline\n",
    "with open('many_lines.txt','r') as f:\n",
    "    print(f.readline(),end='')\n",
    "    print(f.readline())\n",
    "    "
   ]
  },
  {
   "cell_type": "code",
   "execution_count": 8,
   "id": "ba54691e",
   "metadata": {},
   "outputs": [
    {
     "name": "stdout",
     "output_type": "stream",
     "text": [
      "Hay\n",
      "we good to \n"
     ]
    }
   ],
   "source": [
    "# moving within a file -> 10 char then 10 char# \n",
    "with open('many_lines.txt','r') as f:\n",
    "    print(f.read(5),end='')\n",
    "    print(f.read(5),end='')\n",
    "    print(f.read(5))"
   ]
  },
  {
   "cell_type": "code",
   "execution_count": 10,
   "id": "37f2a4f6",
   "metadata": {},
   "outputs": [],
   "source": [
    "# benefit? -> to load a big file in memory\n",
    "lst = ['Hello World' for i in range(1000)]\n",
    "\n",
    "with open('bigdata.txt','w') as f:\n",
    "    f.writelines(lst)"
   ]
  },
  {
   "cell_type": "code",
   "execution_count": 12,
   "id": "d263c212",
   "metadata": {},
   "outputs": [
    {
     "name": "stdout",
     "output_type": "stream",
     "text": [
      "dHello WororldHello o WorldHelello WorldldHello WoWorldHellolo WorldHeHello WorlrldHello W WorldHellllo WorldHdHello WororldHello o WorldHelello WorldldHello WoWorldHellolo WorldHeHello WorlrldHello W WorldHellllo WorldHdHello WororldHello o WorldHelello WorldldHello WoWorldHellolo WorldHeHello WorlrldHello W WorldHellllo WorldHdHello WororldHello o WorldHelello WorldldHello WoWorldHellolo WorldHeHello WorlrldHello W WorldHellllo WorldHdHello WororldHello o WorldHelello WorldldHello WoWorldHellolo WorldHeHello WorlrldHello W WorldHellllo WorldHdHello WororldHello o WorldHelello WorldldHello WoWorldHellolo WorldHeHello WorlrldHello W WorldHellllo WorldHdHello WororldHello o WorldHelello WorldldHello WoWorldHellolo WorldHeHello WorlrldHello W WorldHellllo WorldHdHello WororldHello o WorldHelello WorldldHello WoWorldHellolo WorldHeHello WorlrldHello W WorldHellllo WorldHdHello WororldHello o WorldHelello WorldldHello WoWorldHellolo WorldHeHello WorlrldHello W WorldHellllo WorldHdHello WororldHello o WorldHelello WorldldHello WoWorldHellolo WorldHeHello WorlrldHello W WorldHellllo WorldHdHello WororldHello o WorldHelello WorldldHello WoWorldHellolo WorldHeHello WorlrldHello W WorldHellllo WorldHdHello WororldHello o WorldHelello WorldldHello WoWorldHellolo WorldHeHello WorlrldHello W WorldHellllo WorldHdHello WororldHello o WorldHelello WorldldHello WoWorldHellolo WorldHeHello WorlrldHello W WorldHellllo WorldHdHello WororldHello o WorldHelello WorldldHello WoWorldHellolo WorldHeHello WorlrldHello W WorldHellllo WorldHdHello WororldHello o WorldHelello WorldldHello WoWorldHellolo WorldHeHello WorlrldHello W WorldHellllo WorldHdHello WororldHello o WorldHelello WorldldHello WoWorldHellolo WorldHeHello WorlrldHello W WorldHellllo WorldHdHello WororldHello o WorldHelello WorldldHello WoWorldHellolo WorldHeHello WorlrldHello W WorldHellllo WorldHdHello WororldHello o WorldHelello WorldldHello WoWorldHellolo WorldHeHello WorlrldHello W WorldHellllo WorldHdHello WororldHello o WorldHelello WorldldHello WoWorldHellolo WorldHeHello WorlrldHello W WorldHellllo WorldHdHello WororldHello o WorldHelello WorldldHello WoWorldHellolo WorldHeHello WorlrldHello W WorldHellllo WorldHdHello WororldHello o WorldHelello WorldldHello WoWorldHellolo WorldHeHello WorlrldHello W WorldHellllo WorldHdHello WororldHello o WorldHelello WorldldHello WoWorldHellolo WorldHeHello WorlrldHello W WorldHellllo WorldHdHello WororldHello o WorldHelello WorldldHello WoWorldHellolo WorldHeHello WorlrldHello W WorldHellllo WorldHdHello WororldHello o WorldHelello WorldldHello WoWorldHellolo WorldHeHello WorlrldHello W WorldHellllo WorldHdHello WororldHello o WorldHelello WorldldHello WoWorldHellolo WorldHeHello WorlrldHello W WorldHellllo WorldHdHello WororldHello o WorldHelello WorldldHello WoWorldHellolo WorldHeHello WorlrldHello W WorldHellllo WorldHdHello WororldHello o WorldHelello WorldldHello WoWorldHellolo WorldHeHello WorlrldHello W WorldHellllo WorldHdHello WororldHello o WorldHelello WorldldHello WoWorldHellolo WorldHeHello WorlrldHello W WorldHellllo WorldHdHello WororldHello o WorldHelello WorldldHello WoWorldHellolo WorldHeHello WorlrldHello W WorldHellllo WorldHdHello WororldHello o WorldHelello WorldldHello WoWorldHellolo WorldHeHello WorlrldHello W WorldHellllo WorldHdHello WororldHello o WorldHelello WorldldHello WoWorldHellolo WorldHeHello WorlrldHello W WorldHellllo WorldHdHello WororldHello o WorldHelello WorldldHello WoWorldHellolo WorldHeHello WorlrldHello W WorldHellllo WorldHdHello WororldHello o WorldHelello WorldldHello WoWorldHellolo WorldHeHello WorlrldHello W WorldHellllo WorldHdHello WororldHello o WorldHelello World"
     ]
    }
   ],
   "source": [
    "# read big data\n",
    "\n",
    "with open('bigdata.txt','r') as f:\n",
    "    \n",
    "    chunk_size = 10\n",
    "    \n",
    "    while len(f.read(chunk_size)) > 0:\n",
    "        print(f.read(chunk_size),end='')\n",
    "        f.read(chunk_size)"
   ]
  },
  {
   "cell_type": "markdown",
   "id": "7442ed62",
   "metadata": {},
   "source": [
    "## Seek functions"
   ]
  },
  {
   "cell_type": "code",
   "execution_count": 13,
   "id": "81f16e02",
   "metadata": {},
   "outputs": [
    {
     "name": "stdout",
     "output_type": "stream",
     "text": [
      "ay\n",
      "we good to see\n",
      "Antrtica\n"
     ]
    }
   ],
   "source": [
    "with open('many_lines.txt','r') as f:\n",
    "    f.seek(1)\n",
    "    print(f.read())"
   ]
  },
  {
   "cell_type": "code",
   "execution_count": 15,
   "id": "7db2d6f3",
   "metadata": {},
   "outputs": [],
   "source": [
    "with open('many_lines.txt','w') as f:\n",
    "    f.write('Hello')\n",
    "    f.seek(0)\n",
    "    f.write('ICE')\n",
    "    "
   ]
  },
  {
   "cell_type": "markdown",
   "id": "f4066601",
   "metadata": {},
   "source": [
    "# tell Functions"
   ]
  },
  {
   "cell_type": "code",
   "execution_count": 17,
   "id": "3acc6738",
   "metadata": {},
   "outputs": [
    {
     "name": "stdout",
     "output_type": "stream",
     "text": [
      "5\n",
      "27\n"
     ]
    }
   ],
   "source": [
    "with open('many_lines.txt','w') as f:\n",
    "    f.write('Hello')\n",
    "    print(f.tell())\n",
    "    f.write('Welcome to another day')\n",
    "    print(f.tell())\n",
    "    "
   ]
  },
  {
   "cell_type": "markdown",
   "id": "ca04d6e8",
   "metadata": {},
   "source": [
    "# Problems with working in text mode\n",
    "- can't work with binary files like images\n",
    "- not good for other data types like int/float/list/tuples"
   ]
  },
  {
   "cell_type": "code",
   "execution_count": 18,
   "id": "aa8d778f",
   "metadata": {},
   "outputs": [
    {
     "ename": "UnicodeDecodeError",
     "evalue": "'charmap' codec can't decode byte 0x90 in position 207: character maps to <undefined>",
     "output_type": "error",
     "traceback": [
      "\u001b[1;31m---------------------------------------------------------------------------\u001b[0m",
      "\u001b[1;31mUnicodeDecodeError\u001b[0m                        Traceback (most recent call last)",
      "Cell \u001b[1;32mIn[18], line 3\u001b[0m\n\u001b[0;32m      1\u001b[0m \u001b[38;5;66;03m# working with binary files\u001b[39;00m\n\u001b[0;32m      2\u001b[0m \u001b[38;5;28;01mwith\u001b[39;00m \u001b[38;5;28mopen\u001b[39m(\u001b[38;5;124m'\u001b[39m\u001b[38;5;124mimg.png\u001b[39m\u001b[38;5;124m'\u001b[39m,\u001b[38;5;124m'\u001b[39m\u001b[38;5;124mr\u001b[39m\u001b[38;5;124m'\u001b[39m) \u001b[38;5;28;01mas\u001b[39;00m f:\n\u001b[1;32m----> 3\u001b[0m     \u001b[43mf\u001b[49m\u001b[38;5;241;43m.\u001b[39;49m\u001b[43mread\u001b[49m\u001b[43m(\u001b[49m\u001b[43m)\u001b[49m\n",
      "File \u001b[1;32m~\\AppData\\Local\\Programs\\Python\\Python311\\Lib\\encodings\\cp1252.py:23\u001b[0m, in \u001b[0;36mIncrementalDecoder.decode\u001b[1;34m(self, input, final)\u001b[0m\n\u001b[0;32m     22\u001b[0m \u001b[38;5;28;01mdef\u001b[39;00m \u001b[38;5;21mdecode\u001b[39m(\u001b[38;5;28mself\u001b[39m, \u001b[38;5;28minput\u001b[39m, final\u001b[38;5;241m=\u001b[39m\u001b[38;5;28;01mFalse\u001b[39;00m):\n\u001b[1;32m---> 23\u001b[0m     \u001b[38;5;28;01mreturn\u001b[39;00m codecs\u001b[38;5;241m.\u001b[39mcharmap_decode(\u001b[38;5;28minput\u001b[39m,\u001b[38;5;28mself\u001b[39m\u001b[38;5;241m.\u001b[39merrors,decoding_table)[\u001b[38;5;241m0\u001b[39m]\n",
      "\u001b[1;31mUnicodeDecodeError\u001b[0m: 'charmap' codec can't decode byte 0x90 in position 207: character maps to <undefined>"
     ]
    }
   ],
   "source": [
    "# Problem with binary files\n",
    "with open('img.png','r') as f:\n",
    "    f.read()"
   ]
  },
  {
   "cell_type": "code",
   "execution_count": 22,
   "id": "0466eb4c",
   "metadata": {},
   "outputs": [],
   "source": [
    "# Working with binary files\n",
    "with open('img.png','rb') as f:\n",
    "    with open('new_img.png','wb') as wf:\n",
    "        wf.write(f.read())"
   ]
  },
  {
   "cell_type": "markdown",
   "id": "b99750bc",
   "metadata": {},
   "source": [
    "- Working with other datatype"
   ]
  },
  {
   "cell_type": "code",
   "execution_count": 25,
   "id": "8ab25efc",
   "metadata": {},
   "outputs": [
    {
     "ename": "TypeError",
     "evalue": "write() argument must be str, not int",
     "output_type": "error",
     "traceback": [
      "\u001b[1;31m---------------------------------------------------------------------------\u001b[0m",
      "\u001b[1;31mTypeError\u001b[0m                                 Traceback (most recent call last)",
      "Cell \u001b[1;32mIn[25], line 2\u001b[0m\n\u001b[0;32m      1\u001b[0m \u001b[38;5;28;01mwith\u001b[39;00m \u001b[38;5;28mopen\u001b[39m(\u001b[38;5;124m'\u001b[39m\u001b[38;5;124mint_data\u001b[39m\u001b[38;5;124m'\u001b[39m,\u001b[38;5;124m'\u001b[39m\u001b[38;5;124mw\u001b[39m\u001b[38;5;124m'\u001b[39m)\u001b[38;5;28;01mas\u001b[39;00m f:\n\u001b[1;32m----> 2\u001b[0m     \u001b[43mf\u001b[49m\u001b[38;5;241;43m.\u001b[39;49m\u001b[43mwrite\u001b[49m\u001b[43m(\u001b[49m\u001b[38;5;241;43m5\u001b[39;49m\u001b[43m)\u001b[49m\n\u001b[0;32m      3\u001b[0m \u001b[38;5;66;03m# we cannot use int datatypes with io files if we try to use int basically convert int to string\u001b[39;00m\n",
      "\u001b[1;31mTypeError\u001b[0m: write() argument must be str, not int"
     ]
    }
   ],
   "source": [
    "with open('int_data','w')as f:\n",
    "    f.write(5)\n",
    "# we cannot use int datatypes with io files if we try to use int basically convert int to string"
   ]
  },
  {
   "cell_type": "code",
   "execution_count": 26,
   "id": "2f3ea6c6",
   "metadata": {},
   "outputs": [],
   "source": [
    "with open('int_data','w')as f:\n",
    "    f.write('5')"
   ]
  },
  {
   "cell_type": "code",
   "execution_count": 30,
   "id": "945acf49",
   "metadata": {},
   "outputs": [
    {
     "name": "stdout",
     "output_type": "stream",
     "text": [
      "5\n",
      "<class 'str'>\n"
     ]
    }
   ],
   "source": [
    "# acess int datatype files\n",
    "with open('int_data','r') as f:\n",
    "    print(f.read())\n",
    "    print(type(f.read()))"
   ]
  },
  {
   "cell_type": "markdown",
   "id": "19d44b95",
   "metadata": {},
   "source": [
    "# Note-\n",
    "- I/O files does't support python datatypes\n",
    "- if we want to use python datatypes as i/o files we use [ JSON JavaScript Object Notation ]"
   ]
  },
  {
   "cell_type": "markdown",
   "id": "76a5a0a7",
   "metadata": {},
   "source": [
    "# Serialization and Deserialization\n",
    "- Serialization - process of converting python data types to JSON format\n",
    "- Deserialization - process of converting JSON to python data types"
   ]
  },
  {
   "cell_type": "code",
   "execution_count": 33,
   "id": "780f0bd6",
   "metadata": {},
   "outputs": [],
   "source": [
    "import json\n",
    "# serialization using json module\n",
    "# list\n",
    "\n",
    "L = [1,2,3,4,5]\n",
    "\n",
    "with open('lstdemo.json','w') as f:\n",
    "    json.dump(L,f)\n",
    "    "
   ]
  },
  {
   "cell_type": "code",
   "execution_count": 34,
   "id": "53f8b091",
   "metadata": {},
   "outputs": [
    {
     "name": "stdout",
     "output_type": "stream",
     "text": [
      "[1, 2, 3, 4, 5]\n",
      "<class 'list'>\n"
     ]
    }
   ],
   "source": [
    "# Deserialization using json module\n",
    "# list\n",
    "\n",
    "with open('lstdemo.json','r') as f:\n",
    "    d = json.load(f)\n",
    "    print(d)\n",
    "    print(type(d))"
   ]
  },
  {
   "cell_type": "code",
   "execution_count": 35,
   "id": "2a6d266f",
   "metadata": {},
   "outputs": [],
   "source": [
    "import json\n",
    "# serialization using json module\n",
    "# dictionary\n",
    "\n",
    "D = {'name':'Suraj','Age':21,'Gender':'Male'}\n",
    "\n",
    "with open('dicrdemo.json','w') as f:\n",
    "    json.dump(D,f)"
   ]
  },
  {
   "cell_type": "code",
   "execution_count": 36,
   "id": "ba7ad134",
   "metadata": {},
   "outputs": [
    {
     "name": "stdout",
     "output_type": "stream",
     "text": [
      "{'name': 'Suraj', 'Age': 21, 'Gender': 'Male'}\n",
      "<class 'dict'>\n"
     ]
    }
   ],
   "source": [
    "# Deserialization using json module\n",
    "# dictionary\n",
    "\n",
    "with open('dicrdemo.json','r') as f:\n",
    "    d = json.load(f)\n",
    "    print(d)\n",
    "    print(type(d))"
   ]
  },
  {
   "cell_type": "code",
   "execution_count": 38,
   "id": "47afba12",
   "metadata": {},
   "outputs": [],
   "source": [
    "# serialize and deserialize a nested dict\n",
    "\n",
    "ns_dict = {'name':'Coursera','Courses':['Cybersecurity','ML','GENAI','DL','MORE...']}\n",
    "\n",
    "with open('nes_dict.json','w') as f:\n",
    "    json.dump(ns_dict,f)"
   ]
  },
  {
   "cell_type": "code",
   "execution_count": 41,
   "id": "ca034262",
   "metadata": {},
   "outputs": [
    {
     "name": "stdout",
     "output_type": "stream",
     "text": [
      "{'name': 'Coursera', 'Courses': ['Cybersecurity', 'ML', 'GENAI', 'DL', 'MORE...']}\n",
      "<class 'dict'>\n"
     ]
    }
   ],
   "source": [
    "with open('nes_dict.json','r') as f:\n",
    "    d = json.load(f)\n",
    "    print(d)\n",
    "    print(type(d))"
   ]
  },
  {
   "cell_type": "markdown",
   "id": "17f08437",
   "metadata": {},
   "source": [
    "# Serializing and Deserializing custom objects"
   ]
  },
  {
   "cell_type": "code",
   "execution_count": 48,
   "id": "7e90888d",
   "metadata": {},
   "outputs": [],
   "source": [
    "class Person:\n",
    "    def __init__(self,name,age,gender):\n",
    "        self.name= name\n",
    "        self.age = age\n",
    "        self.gender = gender\n",
    "        "
   ]
  },
  {
   "cell_type": "code",
   "execution_count": 49,
   "id": "f78fc8d7",
   "metadata": {},
   "outputs": [],
   "source": [
    "person = Person('Suraj',21,'Male')"
   ]
  },
  {
   "cell_type": "code",
   "execution_count": 52,
   "id": "2499a636",
   "metadata": {},
   "outputs": [],
   "source": [
    "# Serializing objects\n",
    "def obj_pers(person):\n",
    "    if isinstance(person,Person):\n",
    "        return f'{person.name},{person.age},{person.gender}'\n",
    "    \n",
    "    \n",
    "with open('obj.json','w')as f:\n",
    "    json.dump(person,f,default=obj_pers)"
   ]
  },
  {
   "cell_type": "code",
   "execution_count": 53,
   "id": "e80cfe0a",
   "metadata": {},
   "outputs": [
    {
     "name": "stdout",
     "output_type": "stream",
     "text": [
      "Suraj,21,Male\n",
      "<class 'str'>\n"
     ]
    }
   ],
   "source": [
    "# Deserializing objects\n",
    "\n",
    "with open('obj.json','r')as f:\n",
    "    d = json.load(f)\n",
    "    print(d)\n",
    "    print(type(d))\n",
    "    "
   ]
  },
  {
   "cell_type": "code",
   "execution_count": null,
   "id": "d63b364d",
   "metadata": {},
   "outputs": [],
   "source": []
  }
 ],
 "metadata": {
  "kernelspec": {
   "display_name": "Python 3 (ipykernel)",
   "language": "python",
   "name": "python3"
  },
  "language_info": {
   "codemirror_mode": {
    "name": "ipython",
    "version": 3
   },
   "file_extension": ".py",
   "mimetype": "text/x-python",
   "name": "python",
   "nbconvert_exporter": "python",
   "pygments_lexer": "ipython3",
   "version": "3.11.2"
  }
 },
 "nbformat": 4,
 "nbformat_minor": 5
}

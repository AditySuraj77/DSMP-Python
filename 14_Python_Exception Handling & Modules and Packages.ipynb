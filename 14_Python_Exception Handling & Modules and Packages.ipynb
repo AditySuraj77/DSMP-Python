{
 "cells": [
  {
   "cell_type": "markdown",
   "id": "8c983814",
   "metadata": {},
   "source": [
    "# There are 2 stages where error may happen in a program\n",
    "\n",
    "- During compilation -> Syntax Error\n",
    "- During execution -> Exceptions\n",
    "## Syntax Error\n",
    "- Something in the program is not written according to the program grammar.\n",
    "- Error is raised by the interpreter/compiler\n",
    "- You can solve it by rectifying the program"
   ]
  },
  {
   "cell_type": "code",
   "execution_count": 1,
   "id": "19b8f537",
   "metadata": {},
   "outputs": [
    {
     "ename": "SyntaxError",
     "evalue": "Missing parentheses in call to 'print'. Did you mean print(...)? (635859728.py, line 2)",
     "output_type": "error",
     "traceback": [
      "\u001b[1;36m  Cell \u001b[1;32mIn[1], line 2\u001b[1;36m\u001b[0m\n\u001b[1;33m    print 'helo'\u001b[0m\n\u001b[1;37m    ^\u001b[0m\n\u001b[1;31mSyntaxError\u001b[0m\u001b[1;31m:\u001b[0m Missing parentheses in call to 'print'. Did you mean print(...)?\n"
     ]
    }
   ],
   "source": [
    "# example of syntex error\n",
    "print 'helo'"
   ]
  },
  {
   "cell_type": "markdown",
   "id": "74c8b0c6",
   "metadata": {},
   "source": [
    "## Other examples of syntax error\n",
    "- Leaving symbols like colon,brackets\n",
    "- Misspelling a keyword\n",
    "- Incorrect indentation\n",
    "- empty if/else/loops/class/functions"
   ]
  },
  {
   "cell_type": "code",
   "execution_count": 2,
   "id": "6244d9b7",
   "metadata": {},
   "outputs": [
    {
     "ename": "SyntaxError",
     "evalue": "expected ':' (1446220943.py, line 2)",
     "output_type": "error",
     "traceback": [
      "\u001b[1;36m  Cell \u001b[1;32mIn[2], line 2\u001b[1;36m\u001b[0m\n\u001b[1;33m    if a == 5\u001b[0m\n\u001b[1;37m             ^\u001b[0m\n\u001b[1;31mSyntaxError\u001b[0m\u001b[1;31m:\u001b[0m expected ':'\n"
     ]
    }
   ],
   "source": [
    "a = 5\n",
    "if a == 5\n",
    "    print('True')"
   ]
  },
  {
   "cell_type": "code",
   "execution_count": 3,
   "id": "4aec443d",
   "metadata": {},
   "outputs": [
    {
     "ename": "IndentationError",
     "evalue": "expected an indented block after 'if' statement on line 3 (563388092.py, line 4)",
     "output_type": "error",
     "traceback": [
      "\u001b[1;36m  Cell \u001b[1;32mIn[3], line 4\u001b[1;36m\u001b[0m\n\u001b[1;33m    print('True')\u001b[0m\n\u001b[1;37m    ^\u001b[0m\n\u001b[1;31mIndentationError\u001b[0m\u001b[1;31m:\u001b[0m expected an indented block after 'if' statement on line 3\n"
     ]
    }
   ],
   "source": [
    "#IndentationError\n",
    "a = 5\n",
    "if a == 5:\n",
    "print('True')"
   ]
  },
  {
   "cell_type": "code",
   "execution_count": 4,
   "id": "f0ac6bbb",
   "metadata": {},
   "outputs": [
    {
     "ename": "IndexError",
     "evalue": "list index out of range",
     "output_type": "error",
     "traceback": [
      "\u001b[1;31m---------------------------------------------------------------------------\u001b[0m",
      "\u001b[1;31mIndexError\u001b[0m                                Traceback (most recent call last)",
      "Cell \u001b[1;32mIn[4], line 3\u001b[0m\n\u001b[0;32m      1\u001b[0m \u001b[38;5;66;03m# index error\u001b[39;00m\n\u001b[0;32m      2\u001b[0m l \u001b[38;5;241m=\u001b[39m [\u001b[38;5;241m1\u001b[39m,\u001b[38;5;241m23\u001b[39m,\u001b[38;5;241m4\u001b[39m]\n\u001b[1;32m----> 3\u001b[0m \u001b[43ml\u001b[49m\u001b[43m[\u001b[49m\u001b[38;5;241;43m100\u001b[39;49m\u001b[43m]\u001b[49m\n",
      "\u001b[1;31mIndexError\u001b[0m: list index out of range"
     ]
    }
   ],
   "source": [
    "# index error\n",
    "l = [1,23,4]\n",
    "l[100]"
   ]
  },
  {
   "cell_type": "code",
   "execution_count": 5,
   "id": "bf2a3c91",
   "metadata": {},
   "outputs": [
    {
     "ename": "ModuleNotFoundError",
     "evalue": "No module named 'mathi'",
     "output_type": "error",
     "traceback": [
      "\u001b[1;31m---------------------------------------------------------------------------\u001b[0m",
      "\u001b[1;31mModuleNotFoundError\u001b[0m                       Traceback (most recent call last)",
      "Cell \u001b[1;32mIn[5], line 2\u001b[0m\n\u001b[0;32m      1\u001b[0m \u001b[38;5;66;03m# ModuleNotFoundError\u001b[39;00m\n\u001b[1;32m----> 2\u001b[0m \u001b[38;5;28;01mimport\u001b[39;00m \u001b[38;5;21;01mmathi\u001b[39;00m\n\u001b[0;32m      3\u001b[0m p \u001b[38;5;241m=\u001b[39m math\u001b[38;5;241m.\u001b[39mfloor()\n\u001b[0;32m      4\u001b[0m \u001b[38;5;28mprint\u001b[39m(p)\n",
      "\u001b[1;31mModuleNotFoundError\u001b[0m: No module named 'mathi'"
     ]
    }
   ],
   "source": [
    "# ModuleNotFoundError\n",
    "import mathi\n",
    "p = math.floor()\n",
    "print(p)"
   ]
  },
  {
   "cell_type": "code",
   "execution_count": 7,
   "id": "dcc35769",
   "metadata": {},
   "outputs": [
    {
     "ename": "KeyError",
     "evalue": "'age'",
     "output_type": "error",
     "traceback": [
      "\u001b[1;31m---------------------------------------------------------------------------\u001b[0m",
      "\u001b[1;31mKeyError\u001b[0m                                  Traceback (most recent call last)",
      "Cell \u001b[1;32mIn[7], line 3\u001b[0m\n\u001b[0;32m      1\u001b[0m \u001b[38;5;66;03m# key error\u001b[39;00m\n\u001b[0;32m      2\u001b[0m dicr \u001b[38;5;241m=\u001b[39m {\u001b[38;5;124m'\u001b[39m\u001b[38;5;124mname\u001b[39m\u001b[38;5;124m'\u001b[39m:\u001b[38;5;124m'\u001b[39m\u001b[38;5;124mdussen\u001b[39m\u001b[38;5;124m'\u001b[39m,\u001b[38;5;124m\"\u001b[39m\u001b[38;5;124mteam\u001b[39m\u001b[38;5;124m\"\u001b[39m:\u001b[38;5;124m'\u001b[39m\u001b[38;5;124mSA\u001b[39m\u001b[38;5;124m'\u001b[39m}\n\u001b[1;32m----> 3\u001b[0m \u001b[38;5;28mprint\u001b[39m(\u001b[43mdicr\u001b[49m\u001b[43m[\u001b[49m\u001b[38;5;124;43m'\u001b[39;49m\u001b[38;5;124;43mage\u001b[39;49m\u001b[38;5;124;43m'\u001b[39;49m\u001b[43m]\u001b[49m)\n",
      "\u001b[1;31mKeyError\u001b[0m: 'age'"
     ]
    }
   ],
   "source": [
    "# key error\n",
    "dicr = {'name':'dussen',\"team\":'SA'}\n",
    "print(dicr['age'])"
   ]
  },
  {
   "cell_type": "code",
   "execution_count": 8,
   "id": "b98935b0",
   "metadata": {},
   "outputs": [
    {
     "ename": "NameError",
     "evalue": "name 'a' is not defined",
     "output_type": "error",
     "traceback": [
      "\u001b[1;31m---------------------------------------------------------------------------\u001b[0m",
      "\u001b[1;31mNameError\u001b[0m                                 Traceback (most recent call last)",
      "Cell \u001b[1;32mIn[8], line 2\u001b[0m\n\u001b[0;32m      1\u001b[0m \u001b[38;5;66;03m# Type Error\u001b[39;00m\n\u001b[1;32m----> 2\u001b[0m \u001b[43ma\u001b[49m \u001b[38;5;241m+\u001b[39m \u001b[38;5;241m5\u001b[39m\n",
      "\u001b[1;31mNameError\u001b[0m: name 'a' is not defined"
     ]
    }
   ],
   "source": [
    "# Type Error\n",
    "a + 5"
   ]
  },
  {
   "cell_type": "code",
   "execution_count": 9,
   "id": "b70b9ace",
   "metadata": {},
   "outputs": [
    {
     "ename": "ValueError",
     "evalue": "invalid literal for int() with base 10: 's'",
     "output_type": "error",
     "traceback": [
      "\u001b[1;31m---------------------------------------------------------------------------\u001b[0m",
      "\u001b[1;31mValueError\u001b[0m                                Traceback (most recent call last)",
      "Cell \u001b[1;32mIn[9], line 2\u001b[0m\n\u001b[0;32m      1\u001b[0m \u001b[38;5;66;03m# value error\u001b[39;00m\n\u001b[1;32m----> 2\u001b[0m \u001b[38;5;28;43mint\u001b[39;49m\u001b[43m(\u001b[49m\u001b[38;5;124;43m'\u001b[39;49m\u001b[38;5;124;43ms\u001b[39;49m\u001b[38;5;124;43m'\u001b[39;49m\u001b[43m)\u001b[49m\n",
      "\u001b[1;31mValueError\u001b[0m: invalid literal for int() with base 10: 's'"
     ]
    }
   ],
   "source": [
    "# value error\n",
    "int('s')"
   ]
  },
  {
   "cell_type": "code",
   "execution_count": 10,
   "id": "a1e99d5d",
   "metadata": {},
   "outputs": [
    {
     "ename": "NameError",
     "evalue": "name 'k' is not defined",
     "output_type": "error",
     "traceback": [
      "\u001b[1;31m---------------------------------------------------------------------------\u001b[0m",
      "\u001b[1;31mNameError\u001b[0m                                 Traceback (most recent call last)",
      "Cell \u001b[1;32mIn[10], line 2\u001b[0m\n\u001b[0;32m      1\u001b[0m \u001b[38;5;66;03m# NameError\u001b[39;00m\n\u001b[1;32m----> 2\u001b[0m \u001b[38;5;28mprint\u001b[39m(\u001b[43mk\u001b[49m)\n",
      "\u001b[1;31mNameError\u001b[0m: name 'k' is not defined"
     ]
    }
   ],
   "source": [
    "# NameError\n",
    "print(k)"
   ]
  },
  {
   "cell_type": "code",
   "execution_count": 11,
   "id": "a0eb9a74",
   "metadata": {},
   "outputs": [
    {
     "ename": "AttributeError",
     "evalue": "'list' object has no attribute 'upper'",
     "output_type": "error",
     "traceback": [
      "\u001b[1;31m---------------------------------------------------------------------------\u001b[0m",
      "\u001b[1;31mAttributeError\u001b[0m                            Traceback (most recent call last)",
      "Cell \u001b[1;32mIn[11], line 3\u001b[0m\n\u001b[0;32m      1\u001b[0m \u001b[38;5;66;03m# AttributeError\u001b[39;00m\n\u001b[0;32m      2\u001b[0m lst \u001b[38;5;241m=\u001b[39m [\u001b[38;5;241m4\u001b[39m,\u001b[38;5;241m32\u001b[39m,\u001b[38;5;241m2\u001b[39m,\u001b[38;5;241m3\u001b[39m]\n\u001b[1;32m----> 3\u001b[0m \u001b[43mlst\u001b[49m\u001b[38;5;241;43m.\u001b[39;49m\u001b[43mupper\u001b[49m()\n",
      "\u001b[1;31mAttributeError\u001b[0m: 'list' object has no attribute 'upper'"
     ]
    }
   ],
   "source": [
    "# AttributeError\n",
    "lst = [4,32,2,3]\n",
    "lst.upper()"
   ]
  },
  {
   "cell_type": "markdown",
   "id": "f074abb9",
   "metadata": {},
   "source": [
    "# Exceptions\n",
    "### If things go wrong during the execution of the program(runtime). It generally happens when something unforeseen has happened.\n",
    "\n",
    "- Exceptions are raised by python runtime\n",
    "- You have to takle is on the fly\n",
    "## Examples\n",
    "- Memory overflow\n",
    "- Divide by 0 -> logical error\n",
    "- Database error"
   ]
  },
  {
   "cell_type": "code",
   "execution_count": 15,
   "id": "f2672ce3",
   "metadata": {},
   "outputs": [
    {
     "name": "stdout",
     "output_type": "stream",
     "text": [
      "File Not Found\n"
     ]
    }
   ],
   "source": [
    "# try except block\n",
    "try:\n",
    "    with open('sample4.txt','r') as f:\n",
    "        print(f.read())\n",
    "except:\n",
    "    print('File Not Found')"
   ]
  },
  {
   "cell_type": "code",
   "execution_count": 35,
   "id": "f47b9ddc",
   "metadata": {},
   "outputs": [
    {
     "name": "stdout",
     "output_type": "stream",
     "text": [
      "Good Morning\n",
      "5\n",
      "list index out of range\n"
     ]
    }
   ],
   "source": [
    "# catching specific exception\n",
    "try:\n",
    "    m = 5\n",
    "    f = open('sample.txt','r')\n",
    "    print(f.read())\n",
    "    print(m)\n",
    "    l = [124,433,34]\n",
    "    l[100]\n",
    "    \n",
    "except FileNotFoundError:\n",
    "    print('FileNotFoundError')\n",
    "except NameError:\n",
    "    print('name var is not found')\n",
    "except Exception as e:\n",
    "    print(e)"
   ]
  },
  {
   "cell_type": "code",
   "execution_count": 47,
   "id": "94336944",
   "metadata": {},
   "outputs": [
    {
     "name": "stdout",
     "output_type": "stream",
     "text": [
      "Enter a 1st Number : f\n",
      "Only Integer are allowed\n"
     ]
    }
   ],
   "source": [
    "# else\n",
    "try:\n",
    "    num1 = int(input('Enter a 1st Number : '))\n",
    "    num2 = int(input('Enter a 2nd Number : '))\n",
    "except ValueError:\n",
    "    print('Only Integer are allowed')\n",
    "    \n",
    "else:\n",
    "    print(f'Here is number {num1} and {num2}')"
   ]
  },
  {
   "cell_type": "code",
   "execution_count": 46,
   "id": "4ad3793b",
   "metadata": {},
   "outputs": [
    {
     "name": "stdout",
     "output_type": "stream",
     "text": [
      "[Errno 2] No such file or directory: 'sample45.txt'\n",
      "Thankyou For Using BYE Programme Closed....\n"
     ]
    }
   ],
   "source": [
    "# finally\n",
    "try:\n",
    "    f = open('sample45.txt','r')\n",
    "except Exception as e:\n",
    "    print(e)\n",
    "else:\n",
    "    print(f.read())\n",
    "finally:\n",
    "    print('Thankyou For Using BYE Programme Closed....')"
   ]
  },
  {
   "cell_type": "markdown",
   "id": "cd3ad73a",
   "metadata": {},
   "source": [
    "# Raise"
   ]
  },
  {
   "cell_type": "code",
   "execution_count": 107,
   "id": "1981ce31",
   "metadata": {},
   "outputs": [],
   "source": [
    "def add(a):\n",
    "    if type(a)!= int:\n",
    "        raise Exception('Only Integer are allowed')\n",
    "    else:\n",
    "        for i in range(0,a):\n",
    "            print(i)\n"
   ]
  },
  {
   "cell_type": "code",
   "execution_count": 109,
   "id": "d284bd24",
   "metadata": {},
   "outputs": [
    {
     "ename": "Exception",
     "evalue": "Only Integer are allowed",
     "output_type": "error",
     "traceback": [
      "\u001b[1;31m---------------------------------------------------------------------------\u001b[0m",
      "\u001b[1;31mException\u001b[0m                                 Traceback (most recent call last)",
      "Cell \u001b[1;32mIn[109], line 1\u001b[0m\n\u001b[1;32m----> 1\u001b[0m \u001b[38;5;28mprint\u001b[39m(\u001b[43madd\u001b[49m\u001b[43m(\u001b[49m\u001b[38;5;124;43m'\u001b[39;49m\u001b[38;5;124;43mf\u001b[39;49m\u001b[38;5;124;43m'\u001b[39;49m\u001b[43m)\u001b[49m)\n",
      "Cell \u001b[1;32mIn[107], line 3\u001b[0m, in \u001b[0;36madd\u001b[1;34m(a)\u001b[0m\n\u001b[0;32m      1\u001b[0m \u001b[38;5;28;01mdef\u001b[39;00m \u001b[38;5;21madd\u001b[39m(a):\n\u001b[0;32m      2\u001b[0m     \u001b[38;5;28;01mif\u001b[39;00m \u001b[38;5;28mtype\u001b[39m(a)\u001b[38;5;241m!=\u001b[39m \u001b[38;5;28mint\u001b[39m:\n\u001b[1;32m----> 3\u001b[0m         \u001b[38;5;28;01mraise\u001b[39;00m \u001b[38;5;167;01mException\u001b[39;00m(\u001b[38;5;124m'\u001b[39m\u001b[38;5;124mOnly Integer are allowed\u001b[39m\u001b[38;5;124m'\u001b[39m)\n\u001b[0;32m      4\u001b[0m     \u001b[38;5;28;01melse\u001b[39;00m:\n\u001b[0;32m      5\u001b[0m         \u001b[38;5;28;01mfor\u001b[39;00m i \u001b[38;5;129;01min\u001b[39;00m \u001b[38;5;28mrange\u001b[39m(\u001b[38;5;241m0\u001b[39m,a):\n",
      "\u001b[1;31mException\u001b[0m: Only Integer are allowed"
     ]
    }
   ],
   "source": [
    "print(add('f'))"
   ]
  },
  {
   "cell_type": "code",
   "execution_count": 131,
   "id": "f8a5ea43",
   "metadata": {},
   "outputs": [],
   "source": [
    "class Bank:\n",
    "    def __init__(self,balance):\n",
    "        self.balance = balance\n",
    "        \n",
    "    def withdraw(self,amount):\n",
    "        if amount < 0: \n",
    "            raise Exception('Negative amount unsupported ! ')\n",
    "        if amount > self.balance:\n",
    "            raise Exception('Not enough balance to withdraw ! ')\n",
    "        else:\n",
    "            self.balance = self.balance -  amount\n",
    "            print('Balance Withdraw')\n",
    "            "
   ]
  },
  {
   "cell_type": "code",
   "execution_count": 132,
   "id": "461cfb49",
   "metadata": {},
   "outputs": [],
   "source": [
    "obj = Bank(500)"
   ]
  },
  {
   "cell_type": "code",
   "execution_count": 133,
   "id": "7a27a64e",
   "metadata": {},
   "outputs": [
    {
     "data": {
      "text/plain": [
       "500"
      ]
     },
     "execution_count": 133,
     "metadata": {},
     "output_type": "execute_result"
    }
   ],
   "source": [
    "obj.balance"
   ]
  },
  {
   "cell_type": "code",
   "execution_count": 134,
   "id": "25362de1",
   "metadata": {},
   "outputs": [
    {
     "name": "stdout",
     "output_type": "stream",
     "text": [
      "Balance Withdraw\n"
     ]
    }
   ],
   "source": [
    "try:\n",
    "    obj.withdraw(200)\n",
    "except Exception as e:\n",
    "    print(e)"
   ]
  },
  {
   "cell_type": "code",
   "execution_count": 135,
   "id": "a00facdf",
   "metadata": {},
   "outputs": [
    {
     "data": {
      "text/plain": [
       "300"
      ]
     },
     "execution_count": 135,
     "metadata": {},
     "output_type": "execute_result"
    }
   ],
   "source": [
    "obj.balance"
   ]
  },
  {
   "cell_type": "markdown",
   "id": "37b234dc",
   "metadata": {},
   "source": [
    "# Creating custom exceptions"
   ]
  },
  {
   "cell_type": "code",
   "execution_count": 149,
   "id": "6c7d5d37",
   "metadata": {},
   "outputs": [],
   "source": [
    "class SecurityError(Exception):\n",
    "    def __init__(self,name):\n",
    "        print(name)\n",
    "        \n",
    "    def logout(self):\n",
    "        print('logout')\n",
    "\n",
    "\n",
    "\n",
    "class Google:\n",
    "    def __init__(self,name,email,password,devices):\n",
    "        self.name = name\n",
    "        self.email = email\n",
    "        self.password =password\n",
    "        self.devices = devices\n",
    "        \n",
    "    def login(self,email,password,devices):\n",
    "        if devices != self.devices:\n",
    "            raise SecurityError('You are Already Log in another Devices ! Please Logout there ? ')\n",
    "        if email == self.email and password == self.password:\n",
    "            print('Welcome You are Login.')\n",
    "        else:\n",
    "            print('Login Error')"
   ]
  },
  {
   "cell_type": "code",
   "execution_count": 150,
   "id": "1f6a0b55",
   "metadata": {},
   "outputs": [],
   "source": [
    "obj = Google('Adi','life_mid@yahoo.com',123,'Window')"
   ]
  },
  {
   "cell_type": "code",
   "execution_count": 151,
   "id": "2033fa7c",
   "metadata": {},
   "outputs": [
    {
     "name": "stdout",
     "output_type": "stream",
     "text": [
      "You are Already Log in another Devices ! Please Logout there ? \n",
      "logout\n",
      "None\n",
      "Programme Closed\n"
     ]
    }
   ],
   "source": [
    "try:\n",
    "     obj.login('life_mid@yahoo.com',123,'Android')\n",
    "except SecurityError as e:\n",
    "    print(e.logout())\n",
    "else:\n",
    "    print(obj.name)\n",
    "finally:\n",
    "    print('Programme Closed')"
   ]
  },
  {
   "cell_type": "code",
   "execution_count": null,
   "id": "56137f45",
   "metadata": {},
   "outputs": [],
   "source": []
  }
 ],
 "metadata": {
  "kernelspec": {
   "display_name": "Python 3 (ipykernel)",
   "language": "python",
   "name": "python3"
  },
  "language_info": {
   "codemirror_mode": {
    "name": "ipython",
    "version": 3
   },
   "file_extension": ".py",
   "mimetype": "text/x-python",
   "name": "python",
   "nbconvert_exporter": "python",
   "pygments_lexer": "ipython3",
   "version": "3.11.2"
  }
 },
 "nbformat": 4,
 "nbformat_minor": 5
}

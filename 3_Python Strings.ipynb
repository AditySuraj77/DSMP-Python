{
 "cells": [
  {
   "cell_type": "markdown",
   "id": "3e90738a",
   "metadata": {},
   "source": [
    "# Python Strings"
   ]
  },
  {
   "cell_type": "code",
   "execution_count": 2,
   "id": "f5ad05c2",
   "metadata": {},
   "outputs": [
    {
     "name": "stdout",
     "output_type": "stream",
     "text": [
      "Hello\n"
     ]
    }
   ],
   "source": [
    "s = 'Hello'\n",
    "s = \"Hello\"\n",
    "s = \"\"\"Hello\"\"\"\n",
    "s = '''Hello'''\n",
    "print(s)"
   ]
  },
  {
   "cell_type": "code",
   "execution_count": 4,
   "id": "23d29919",
   "metadata": {},
   "outputs": [
    {
     "data": {
      "text/plain": [
       "\"it's raining outside\""
      ]
     },
     "execution_count": 4,
     "metadata": {},
     "output_type": "execute_result"
    }
   ],
   "source": [
    "\"it's raining outside\""
   ]
  },
  {
   "cell_type": "markdown",
   "id": "c5d844cc",
   "metadata": {},
   "source": [
    "## Indexing"
   ]
  },
  {
   "cell_type": "code",
   "execution_count": 5,
   "id": "8031c1e7",
   "metadata": {},
   "outputs": [
    {
     "name": "stdout",
     "output_type": "stream",
     "text": [
      "l\n"
     ]
    }
   ],
   "source": [
    "# Positive indexing\n",
    "s = \"Hello\"\n",
    "print(s[3])"
   ]
  },
  {
   "cell_type": "code",
   "execution_count": 6,
   "id": "cd96dcd9",
   "metadata": {},
   "outputs": [
    {
     "name": "stdout",
     "output_type": "stream",
     "text": [
      "l\n"
     ]
    }
   ],
   "source": [
    "# Negative indexing\n",
    "s = \"Hello\"\n",
    "print(s[-2])"
   ]
  },
  {
   "cell_type": "markdown",
   "id": "17b4e6b9",
   "metadata": {},
   "source": [
    "## Slicing"
   ]
  },
  {
   "cell_type": "code",
   "execution_count": 7,
   "id": "6ee8d840",
   "metadata": {},
   "outputs": [
    {
     "name": "stdout",
     "output_type": "stream",
     "text": [
      "Python Programm\n"
     ]
    }
   ],
   "source": [
    "st = \"Python Programming Language\"\n",
    "print(st[0:15])"
   ]
  },
  {
   "cell_type": "code",
   "execution_count": 10,
   "id": "1f4de3ac",
   "metadata": {},
   "outputs": [
    {
     "name": "stdout",
     "output_type": "stream",
     "text": [
      "Pto rgamn agae\n"
     ]
    }
   ],
   "source": [
    "st = \"Python Programming Language\"\n",
    "print(st[0:30:2]) # start - end - step"
   ]
  },
  {
   "cell_type": "code",
   "execution_count": 24,
   "id": "10134b26",
   "metadata": {},
   "outputs": [
    {
     "name": "stdout",
     "output_type": "stream",
     "text": [
      "Pto rgamn aga\n"
     ]
    }
   ],
   "source": [
    "st = \"Python Programming Language\"\n",
    "print(st[-30:-1:2])"
   ]
  },
  {
   "cell_type": "code",
   "execution_count": 25,
   "id": "0418cc2d",
   "metadata": {},
   "outputs": [
    {
     "name": "stdout",
     "output_type": "stream",
     "text": [
      "egaugnaL gnimmargorP nohtyP\n"
     ]
    }
   ],
   "source": [
    "st = \"Python Programming Language\"\n",
    "print(st[::-1])"
   ]
  },
  {
   "cell_type": "markdown",
   "id": "7aa6eb5f",
   "metadata": {},
   "source": [
    "# Editing and Deleting in Strings"
   ]
  },
  {
   "cell_type": "code",
   "execution_count": 26,
   "id": "cf95f0bd",
   "metadata": {},
   "outputs": [
    {
     "ename": "TypeError",
     "evalue": "'str' object does not support item assignment",
     "output_type": "error",
     "traceback": [
      "\u001b[1;31m---------------------------------------------------------------------------\u001b[0m",
      "\u001b[1;31mTypeError\u001b[0m                                 Traceback (most recent call last)",
      "Cell \u001b[1;32mIn[26], line 2\u001b[0m\n\u001b[0;32m      1\u001b[0m st \u001b[38;5;241m=\u001b[39m \u001b[38;5;124m\"\u001b[39m\u001b[38;5;124mPython Programming Language\u001b[39m\u001b[38;5;124m\"\u001b[39m\n\u001b[1;32m----> 2\u001b[0m \u001b[43mst\u001b[49m\u001b[43m[\u001b[49m\u001b[38;5;241;43m0\u001b[39;49m\u001b[43m:\u001b[49m\u001b[38;5;241;43m6\u001b[39;49m\u001b[43m]\u001b[49m \u001b[38;5;241m=\u001b[39m \u001b[38;5;124m\"\u001b[39m\u001b[38;5;124mJAVA\u001b[39m\u001b[38;5;124m\"\u001b[39m\n\u001b[0;32m      3\u001b[0m \u001b[38;5;28mprint\u001b[39m(st)\n",
      "\u001b[1;31mTypeError\u001b[0m: 'str' object does not support item assignment"
     ]
    }
   ],
   "source": [
    "# Editing\n",
    "st = \"Python Programming Language\"\n",
    "st[0:6] = \"JAVA\"  # String are immutable this can not be changed\n",
    "print(st)  "
   ]
  },
  {
   "cell_type": "code",
   "execution_count": 27,
   "id": "7d75f8d6",
   "metadata": {},
   "outputs": [
    {
     "ename": "NameError",
     "evalue": "name 'st' is not defined",
     "output_type": "error",
     "traceback": [
      "\u001b[1;31m---------------------------------------------------------------------------\u001b[0m",
      "\u001b[1;31mNameError\u001b[0m                                 Traceback (most recent call last)",
      "Cell \u001b[1;32mIn[27], line 6\u001b[0m\n\u001b[0;32m      2\u001b[0m st \u001b[38;5;241m=\u001b[39m \u001b[38;5;124m\"\u001b[39m\u001b[38;5;124mPython Programming Language\u001b[39m\u001b[38;5;124m\"\u001b[39m\n\u001b[0;32m      4\u001b[0m \u001b[38;5;28;01mdel\u001b[39;00m st\n\u001b[1;32m----> 6\u001b[0m \u001b[38;5;28mprint\u001b[39m(\u001b[43mst\u001b[49m)\n",
      "\u001b[1;31mNameError\u001b[0m: name 'st' is not defined"
     ]
    }
   ],
   "source": [
    "# deleting\n",
    "st = \"Python Programming Language\"\n",
    "\n",
    "del st\n",
    "\n",
    "print(st)"
   ]
  },
  {
   "cell_type": "code",
   "execution_count": 29,
   "id": "5541b154",
   "metadata": {},
   "outputs": [
    {
     "ename": "TypeError",
     "evalue": "'str' object does not support item deletion",
     "output_type": "error",
     "traceback": [
      "\u001b[1;31m---------------------------------------------------------------------------\u001b[0m",
      "\u001b[1;31mTypeError\u001b[0m                                 Traceback (most recent call last)",
      "Cell \u001b[1;32mIn[29], line 3\u001b[0m\n\u001b[0;32m      1\u001b[0m st \u001b[38;5;241m=\u001b[39m \u001b[38;5;124m\"\u001b[39m\u001b[38;5;124mPython Programming Language\u001b[39m\u001b[38;5;124m\"\u001b[39m\n\u001b[1;32m----> 3\u001b[0m \u001b[38;5;28;01mdel\u001b[39;00m \u001b[43mst\u001b[49m\u001b[43m[\u001b[49m\u001b[38;5;241;43m0\u001b[39;49m\u001b[43m:\u001b[49m\u001b[38;5;241;43m6\u001b[39;49m\u001b[43m]\u001b[49m  \u001b[38;5;66;03m# this method are not be work because string are immmutable and we try to delete some slice of string that not possible\u001b[39;00m\n\u001b[0;32m      5\u001b[0m \u001b[38;5;28mprint\u001b[39m(st)\n",
      "\u001b[1;31mTypeError\u001b[0m: 'str' object does not support item deletion"
     ]
    }
   ],
   "source": [
    "st = \"Python Programming Language\"\n",
    "\n",
    "del st[0:6]  # this method are not be work because string are immmutable and we try to delete some slice of string that not possible\n",
    "\n",
    "print(st)"
   ]
  },
  {
   "cell_type": "markdown",
   "id": "a966f8d5",
   "metadata": {},
   "source": [
    "# Operations on Strings\n",
    "\n",
    "#### Arithmetic Operations\n",
    "#### Relational Operations\n",
    "#### Logical Operations\n",
    "#### Loops on Strings\n",
    "#### Membership Operations"
   ]
  },
  {
   "cell_type": "code",
   "execution_count": 37,
   "id": "3f8de4ed",
   "metadata": {},
   "outputs": [
    {
     "name": "stdout",
     "output_type": "stream",
     "text": [
      "deldeldeldeldel\n",
      "Delhi Mumbai\n"
     ]
    }
   ],
   "source": [
    "#Arithmetic Operations\n",
    "\n",
    "add_st = 'Delhi ' + 'Mumbai'\n",
    "\n",
    "Ar = 'del'*5\n",
    "print(Ar)\n",
    "print(add_st)"
   ]
  },
  {
   "cell_type": "code",
   "execution_count": 46,
   "id": "01f3cc8f",
   "metadata": {},
   "outputs": [
    {
     "data": {
      "text/plain": [
       "False"
      ]
     },
     "execution_count": 46,
     "metadata": {},
     "output_type": "execute_result"
    }
   ],
   "source": [
    "# Relational Operations\n",
    "\n",
    "\n",
    "#'delhi' == 'mumabi'\n",
    "\n",
    "\n",
    "#'delhi' < 'pune'\n",
    "\n",
    "#'P' < 'p'\n",
    "\n",
    "# 'S' != 'S'"
   ]
  },
  {
   "cell_type": "markdown",
   "id": "8231dc6f",
   "metadata": {},
   "source": [
    "#### Note: In the Logical operator if string are empty so its True and string are not empty means False"
   ]
  },
  {
   "cell_type": "code",
   "execution_count": 57,
   "id": "a0d4fc8d",
   "metadata": {},
   "outputs": [
    {
     "data": {
      "text/plain": [
       "False"
      ]
     },
     "execution_count": 57,
     "metadata": {},
     "output_type": "execute_result"
    }
   ],
   "source": [
    "# Logical Operations\n",
    "\n",
    "#'Hello' and 'world'\n",
    "\n",
    "#'hello' and ''\n",
    "\n",
    "#'Hello' or ''\n",
    "\n",
    "#not ''\n",
    "\n",
    "#not 'Hello'\n"
   ]
  },
  {
   "cell_type": "code",
   "execution_count": 59,
   "id": "699de25d",
   "metadata": {},
   "outputs": [
    {
     "name": "stdout",
     "output_type": "stream",
     "text": [
      "M\n",
      "o\n",
      "u\n",
      "n\n",
      "t\n",
      "a\n",
      "i\n",
      "n\n",
      "Answer\n",
      "Answer\n",
      "Answer\n",
      "Answer\n",
      "Answer\n",
      "Answer\n",
      "Answer\n",
      "Answer\n",
      "Answer\n"
     ]
    }
   ],
   "source": [
    "# Loops in string\n",
    "\n",
    "for i in 'Mountain':\n",
    "    print(i)\n",
    "    \n",
    "    \n",
    "for i in 'Questions':\n",
    "    print('Answer')"
   ]
  },
  {
   "cell_type": "code",
   "execution_count": 63,
   "id": "536ecaf5",
   "metadata": {},
   "outputs": [
    {
     "data": {
      "text/plain": [
       "True"
      ]
     },
     "execution_count": 63,
     "metadata": {},
     "output_type": "execute_result"
    }
   ],
   "source": [
    "# Membership Operations\n",
    "\n",
    "#'D'in 'Delhi\n",
    "\n",
    "\n",
    "#'D' in 'delhi'\n",
    "\n",
    "'D' not in 'delhi'"
   ]
  },
  {
   "cell_type": "markdown",
   "id": "a4dff649",
   "metadata": {},
   "source": [
    "# Common Functions\n",
    "### len\n",
    "### max\n",
    "### min\n",
    "### sorted"
   ]
  },
  {
   "cell_type": "code",
   "execution_count": 1,
   "id": "1756eda3",
   "metadata": {},
   "outputs": [
    {
     "data": {
      "text/plain": [
       "11"
      ]
     },
     "execution_count": 1,
     "metadata": {},
     "output_type": "execute_result"
    }
   ],
   "source": [
    "len('Hello world')"
   ]
  },
  {
   "cell_type": "code",
   "execution_count": 2,
   "id": "1f1dcc96",
   "metadata": {},
   "outputs": [
    {
     "data": {
      "text/plain": [
       "'o'"
      ]
     },
     "execution_count": 2,
     "metadata": {},
     "output_type": "execute_result"
    }
   ],
   "source": [
    "max('hello')"
   ]
  },
  {
   "cell_type": "code",
   "execution_count": 3,
   "id": "4ff6e680",
   "metadata": {},
   "outputs": [
    {
     "data": {
      "text/plain": [
       "'d'"
      ]
     },
     "execution_count": 3,
     "metadata": {},
     "output_type": "execute_result"
    }
   ],
   "source": [
    "min('world')"
   ]
  },
  {
   "cell_type": "code",
   "execution_count": 4,
   "id": "6aa25832",
   "metadata": {},
   "outputs": [
    {
     "data": {
      "text/plain": [
       "['e', 'h', 'l', 'l', 'o']"
      ]
     },
     "execution_count": 4,
     "metadata": {},
     "output_type": "execute_result"
    }
   ],
   "source": [
    "sorted('hello')"
   ]
  },
  {
   "cell_type": "code",
   "execution_count": 6,
   "id": "6063b2e3",
   "metadata": {},
   "outputs": [
    {
     "data": {
      "text/plain": [
       "['o', 'l', 'l', 'h', 'e']"
      ]
     },
     "execution_count": 6,
     "metadata": {},
     "output_type": "execute_result"
    }
   ],
   "source": [
    "sorted('hello',reverse=True)"
   ]
  },
  {
   "cell_type": "markdown",
   "id": "705179ea",
   "metadata": {},
   "source": [
    "# Capitalize/Title/Upper/Lower/Swapcase"
   ]
  },
  {
   "cell_type": "code",
   "execution_count": 8,
   "id": "a4a3ceb8",
   "metadata": {},
   "outputs": [
    {
     "data": {
      "text/plain": [
       "'Windows'"
      ]
     },
     "execution_count": 8,
     "metadata": {},
     "output_type": "execute_result"
    }
   ],
   "source": [
    "'windows'.capitalize()"
   ]
  },
  {
   "cell_type": "code",
   "execution_count": 9,
   "id": "19426b04",
   "metadata": {},
   "outputs": [
    {
     "data": {
      "text/plain": [
       "'Windows Operating'"
      ]
     },
     "execution_count": 9,
     "metadata": {},
     "output_type": "execute_result"
    }
   ],
   "source": [
    "'windows Operating'.title()"
   ]
  },
  {
   "cell_type": "code",
   "execution_count": 11,
   "id": "e3fbb710",
   "metadata": {},
   "outputs": [
    {
     "data": {
      "text/plain": [
       "'windows'"
      ]
     },
     "execution_count": 11,
     "metadata": {},
     "output_type": "execute_result"
    }
   ],
   "source": [
    "'WiNdoWs'.lower()"
   ]
  },
  {
   "cell_type": "code",
   "execution_count": 13,
   "id": "f7fefbde",
   "metadata": {},
   "outputs": [
    {
     "data": {
      "text/plain": [
       "'WINDOWS'"
      ]
     },
     "execution_count": 13,
     "metadata": {},
     "output_type": "execute_result"
    }
   ],
   "source": [
    "'windows'.upper()"
   ]
  },
  {
   "cell_type": "code",
   "execution_count": 15,
   "id": "69cd0004",
   "metadata": {},
   "outputs": [
    {
     "data": {
      "text/plain": [
       "'wInDoWs'"
      ]
     },
     "execution_count": 15,
     "metadata": {},
     "output_type": "execute_result"
    }
   ],
   "source": [
    "'WiNdOwS'.swapcase()"
   ]
  },
  {
   "cell_type": "markdown",
   "id": "9d12e301",
   "metadata": {},
   "source": [
    "# Count/Find/Index"
   ]
  },
  {
   "cell_type": "code",
   "execution_count": 17,
   "id": "fbcb0cee",
   "metadata": {},
   "outputs": [
    {
     "data": {
      "text/plain": [
       "2"
      ]
     },
     "execution_count": 17,
     "metadata": {},
     "output_type": "execute_result"
    }
   ],
   "source": [
    "'Writers'.count('r')"
   ]
  },
  {
   "cell_type": "code",
   "execution_count": 20,
   "id": "df450a45",
   "metadata": {},
   "outputs": [
    {
     "data": {
      "text/plain": [
       "1"
      ]
     },
     "execution_count": 20,
     "metadata": {},
     "output_type": "execute_result"
    }
   ],
   "source": [
    "'Cricketer'.find('r')"
   ]
  },
  {
   "cell_type": "code",
   "execution_count": 22,
   "id": "9ff08dce",
   "metadata": {},
   "outputs": [
    {
     "data": {
      "text/plain": [
       "6"
      ]
     },
     "execution_count": 22,
     "metadata": {},
     "output_type": "execute_result"
    }
   ],
   "source": [
    "'Cricketer'.index('t')"
   ]
  },
  {
   "cell_type": "markdown",
   "id": "51fd907a",
   "metadata": {},
   "source": [
    "# endswith/startswith"
   ]
  },
  {
   "cell_type": "code",
   "execution_count": 23,
   "id": "51ea86bb",
   "metadata": {},
   "outputs": [
    {
     "data": {
      "text/plain": [
       "True"
      ]
     },
     "execution_count": 23,
     "metadata": {},
     "output_type": "execute_result"
    }
   ],
   "source": [
    "'Cricketer'.endswith('ter')"
   ]
  },
  {
   "cell_type": "code",
   "execution_count": 24,
   "id": "f0c64afe",
   "metadata": {},
   "outputs": [
    {
     "data": {
      "text/plain": [
       "False"
      ]
     },
     "execution_count": 24,
     "metadata": {},
     "output_type": "execute_result"
    }
   ],
   "source": [
    "'Cricketer'.startswith('c')"
   ]
  },
  {
   "cell_type": "markdown",
   "id": "7ba569ed",
   "metadata": {},
   "source": [
    "# Format"
   ]
  },
  {
   "cell_type": "code",
   "execution_count": 25,
   "id": "34558270",
   "metadata": {},
   "outputs": [
    {
     "data": {
      "text/plain": [
       "'hi my name is Daniel Vettori and i play cricket for NZ country'"
      ]
     },
     "execution_count": 25,
     "metadata": {},
     "output_type": "execute_result"
    }
   ],
   "source": [
    "name = 'Daniel Vettori'\n",
    "team = 'NZ'\n",
    "\n",
    "'hi my name is {} and i play cricket for {} country'.format(name,team)"
   ]
  },
  {
   "cell_type": "markdown",
   "id": "c3ab1d07",
   "metadata": {},
   "source": [
    "# isalnum/ isalpha/ isdigit/ isidentifier"
   ]
  },
  {
   "cell_type": "code",
   "execution_count": 26,
   "id": "04c5ba0b",
   "metadata": {},
   "outputs": [
    {
     "data": {
      "text/plain": [
       "True"
      ]
     },
     "execution_count": 26,
     "metadata": {},
     "output_type": "execute_result"
    }
   ],
   "source": [
    "'daniel54'.isalnum()"
   ]
  },
  {
   "cell_type": "code",
   "execution_count": 27,
   "id": "96fd5fea",
   "metadata": {},
   "outputs": [
    {
     "data": {
      "text/plain": [
       "True"
      ]
     },
     "execution_count": 27,
     "metadata": {},
     "output_type": "execute_result"
    }
   ],
   "source": [
    "'Daniel'.isalpha()"
   ]
  },
  {
   "cell_type": "code",
   "execution_count": 28,
   "id": "e1743a5b",
   "metadata": {},
   "outputs": [
    {
     "data": {
      "text/plain": [
       "True"
      ]
     },
     "execution_count": 28,
     "metadata": {},
     "output_type": "execute_result"
    }
   ],
   "source": [
    "'657'.isdigit()"
   ]
  },
  {
   "cell_type": "code",
   "execution_count": 31,
   "id": "63401919",
   "metadata": {},
   "outputs": [
    {
     "data": {
      "text/plain": [
       "False"
      ]
     },
     "execution_count": 31,
     "metadata": {},
     "output_type": "execute_result"
    }
   ],
   "source": [
    "'h-f'.isidentifier()"
   ]
  },
  {
   "cell_type": "code",
   "execution_count": 32,
   "id": "2f75a8ba",
   "metadata": {},
   "outputs": [
    {
     "data": {
      "text/plain": [
       "True"
      ]
     },
     "execution_count": 32,
     "metadata": {},
     "output_type": "execute_result"
    }
   ],
   "source": [
    "'f_name'.isidentifier()"
   ]
  },
  {
   "cell_type": "markdown",
   "id": "a9a6c625",
   "metadata": {},
   "source": [
    "# Split/Join"
   ]
  },
  {
   "cell_type": "code",
   "execution_count": 36,
   "id": "0c769730",
   "metadata": {},
   "outputs": [
    {
     "data": {
      "text/plain": [
       "['hi',\n",
       " 'my',\n",
       " 'name',\n",
       " 'is',\n",
       " 'Daniel',\n",
       " 'Vettori',\n",
       " 'and',\n",
       " 'i',\n",
       " 'play',\n",
       " 'cricket',\n",
       " 'for',\n",
       " 'NZ',\n",
       " 'country']"
      ]
     },
     "execution_count": 36,
     "metadata": {},
     "output_type": "execute_result"
    }
   ],
   "source": [
    "'hi my name is Daniel Vettori and i play cricket for NZ country'.split()"
   ]
  },
  {
   "cell_type": "code",
   "execution_count": 44,
   "id": "06eb100e",
   "metadata": {},
   "outputs": [
    {
     "data": {
      "text/plain": [
       "'hi my name is Daniel Vettori and i play cricket for NZ country'"
      ]
     },
     "execution_count": 44,
     "metadata": {},
     "output_type": "execute_result"
    }
   ],
   "source": [
    "\" \".join(['hi','my','name','is','Daniel','Vettori','and','i','play','cricket','for','NZ','country'])\n"
   ]
  },
  {
   "cell_type": "markdown",
   "id": "535e544b",
   "metadata": {},
   "source": [
    "# Replace"
   ]
  },
  {
   "cell_type": "code",
   "execution_count": 45,
   "id": "0dd2937f",
   "metadata": {},
   "outputs": [
    {
     "data": {
      "text/plain": [
       "'hi my name is Latham and i play cricket for NZ country'"
      ]
     },
     "execution_count": 45,
     "metadata": {},
     "output_type": "execute_result"
    }
   ],
   "source": [
    "'hi my name is Daniel Vettori and i play cricket for NZ country'.replace('Daniel Vettori','Latham')"
   ]
  },
  {
   "cell_type": "markdown",
   "id": "976e79b4",
   "metadata": {},
   "source": [
    "# Strip"
   ]
  },
  {
   "cell_type": "code",
   "execution_count": 48,
   "id": "fd1bcd6d",
   "metadata": {},
   "outputs": [
    {
     "data": {
      "text/plain": [
       "'hello'"
      ]
     },
     "execution_count": 48,
     "metadata": {},
     "output_type": "execute_result"
    }
   ],
   "source": [
    "'hello              '.strip()"
   ]
  },
  {
   "cell_type": "code",
   "execution_count": null,
   "id": "579801ee",
   "metadata": {},
   "outputs": [],
   "source": []
  },
  {
   "cell_type": "code",
   "execution_count": null,
   "id": "0d34ba58",
   "metadata": {},
   "outputs": [],
   "source": []
  }
 ],
 "metadata": {
  "kernelspec": {
   "display_name": "Python 3 (ipykernel)",
   "language": "python",
   "name": "python3"
  },
  "language_info": {
   "codemirror_mode": {
    "name": "ipython",
    "version": 3
   },
   "file_extension": ".py",
   "mimetype": "text/x-python",
   "name": "python",
   "nbconvert_exporter": "python",
   "pygments_lexer": "ipython3",
   "version": "3.11.2"
  }
 },
 "nbformat": 4,
 "nbformat_minor": 5
}

{
 "cells": [
  {
   "cell_type": "markdown",
   "id": "66711ac1",
   "metadata": {},
   "source": [
    "# Tuples\n",
    "#### A tuple in Python is similar to a list. The difference between the two is that we cannot change the elements of a tuple once it is assigned whereas we can change the elements of a list.\n",
    "\n",
    "#### In short, a tuple is an immutable list. A tuple can not be changed in any way once it is created.\n",
    "\n",
    "# Characterstics\n",
    "\n",
    "### Ordered\n",
    "### Unchangeble\n",
    "### Allows duplicate\n",
    "\n",
    "# Plan of attack\n",
    "\n",
    "### Creating a Tuple\n",
    "### Accessing items\n",
    "### Editing items\n",
    "### Adding items\n",
    "### Deleting items\n",
    "### Operations on Tuples\n",
    "### Tuple Functions"
   ]
  },
  {
   "cell_type": "markdown",
   "id": "e2c10893",
   "metadata": {},
   "source": [
    "# Creating Tuple"
   ]
  },
  {
   "cell_type": "code",
   "execution_count": 13,
   "id": "5a2ffdf5",
   "metadata": {},
   "outputs": [
    {
     "name": "stdout",
     "output_type": "stream",
     "text": [
      "()\n",
      "<class 'tuple'>\n",
      "('Hello',)\n",
      "(1, 2, 3, 4, 5)\n",
      "(1, 2, 3, True, False, 'Tuple')\n",
      "(1, 2, 3, 4, 5, (5, 10))\n",
      "<class 'tuple'>\n",
      "('H', 'e', 'l', 'l', 'l', 'o')\n"
     ]
    }
   ],
   "source": [
    "#empty\n",
    "t1 = ()\n",
    "print(t1)\n",
    "print(type(t1))\n",
    "# tuple in single item\n",
    "t2 = ('Hello',)\n",
    "print(t2)\n",
    "# homo\n",
    "t3 = (1,2,3,4,5)\n",
    "print(t3)\n",
    "# hetro\n",
    "t4 = (1,2,3,True,False,'Tuple')\n",
    "print(t4)\n",
    "# tuple in tuple\n",
    "t5 = (1,2,3,4,5,(5,10))\n",
    "print(t5)\n",
    "# using type conversion\n",
    "t6 = tuple('Helllo')\n",
    "print(type(t6))\n",
    "print(t6)"
   ]
  },
  {
   "cell_type": "markdown",
   "id": "40a7d77b",
   "metadata": {},
   "source": [
    "# Accessing Items\n",
    "### 1.Indexing\n",
    "### 2.Slicing"
   ]
  },
  {
   "cell_type": "code",
   "execution_count": 29,
   "id": "26f37c1c",
   "metadata": {},
   "outputs": [
    {
     "name": "stdout",
     "output_type": "stream",
     "text": [
      "6\n",
      "10\n",
      "(3, 4, 2)\n",
      "(5,)\n"
     ]
    }
   ],
   "source": [
    "# indexing\n",
    "t1_ = (2,4,6,8,10)\n",
    "print(t1_[2])\n",
    "print(t1_[-1])\n",
    "\n",
    "\n",
    "# Slicing\n",
    "\n",
    "t2_ = (3,4,2,5,6)\n",
    "print(t2_[0:3])\n",
    "print(t2_[-2:-1])"
   ]
  },
  {
   "cell_type": "markdown",
   "id": "8c59629b",
   "metadata": {},
   "source": [
    "# editing items (error)"
   ]
  },
  {
   "cell_type": "code",
   "execution_count": 31,
   "id": "ed9ee9cc",
   "metadata": {},
   "outputs": [
    {
     "ename": "TypeError",
     "evalue": "'tuple' object does not support item assignment",
     "output_type": "error",
     "traceback": [
      "\u001b[1;31m---------------------------------------------------------------------------\u001b[0m",
      "\u001b[1;31mTypeError\u001b[0m                                 Traceback (most recent call last)",
      "Cell \u001b[1;32mIn[31], line 3\u001b[0m\n\u001b[0;32m      1\u001b[0m \u001b[38;5;66;03m# Tuples are immutable in tuple we can't change value\u001b[39;00m\n\u001b[0;32m      2\u001b[0m tup1 \u001b[38;5;241m=\u001b[39m (\u001b[38;5;241m1\u001b[39m,\u001b[38;5;241m2\u001b[39m,\u001b[38;5;241m3\u001b[39m,\u001b[38;5;241m4\u001b[39m,\u001b[38;5;241m5\u001b[39m)\n\u001b[1;32m----> 3\u001b[0m \u001b[43mtup1\u001b[49m\u001b[43m[\u001b[49m\u001b[38;5;241;43m1\u001b[39;49m\u001b[43m]\u001b[49m \u001b[38;5;241m=\u001b[39m \u001b[38;5;241m500\u001b[39m\n",
      "\u001b[1;31mTypeError\u001b[0m: 'tuple' object does not support item assignment"
     ]
    }
   ],
   "source": [
    "# Tuples are immutable in tuple we can't change value\n",
    "tup1 = (1,2,3,4,5)\n",
    "tup1[1] = 500\n"
   ]
  },
  {
   "cell_type": "markdown",
   "id": "9c9bed96",
   "metadata": {},
   "source": [
    "# adding items (error)"
   ]
  },
  {
   "cell_type": "code",
   "execution_count": 32,
   "id": "cb314d1d",
   "metadata": {},
   "outputs": [
    {
     "ename": "TypeError",
     "evalue": "'tuple' object does not support item assignment",
     "output_type": "error",
     "traceback": [
      "\u001b[1;31m---------------------------------------------------------------------------\u001b[0m",
      "\u001b[1;31mTypeError\u001b[0m                                 Traceback (most recent call last)",
      "Cell \u001b[1;32mIn[32], line 3\u001b[0m\n\u001b[0;32m      1\u001b[0m \u001b[38;5;66;03m# Tuples are immutable in tuple we can't add value\u001b[39;00m\n\u001b[0;32m      2\u001b[0m tup1 \u001b[38;5;241m=\u001b[39m (\u001b[38;5;241m1\u001b[39m,\u001b[38;5;241m2\u001b[39m,\u001b[38;5;241m3\u001b[39m,\u001b[38;5;241m4\u001b[39m,\u001b[38;5;241m5\u001b[39m)\n\u001b[1;32m----> 3\u001b[0m \u001b[43mtup1\u001b[49m\u001b[43m[\u001b[49m\u001b[38;5;241;43m1\u001b[39;49m\u001b[43m]\u001b[49m \u001b[38;5;241m=\u001b[39m \u001b[38;5;124m'\u001b[39m\u001b[38;5;124mhello\u001b[39m\u001b[38;5;124m'\u001b[39m\n",
      "\u001b[1;31mTypeError\u001b[0m: 'tuple' object does not support item assignment"
     ]
    }
   ],
   "source": [
    "# Tuples are immutable in tuple we can't add value\n",
    "tup1 = (1,2,3,4,5)\n",
    "tup1[1] = 'hello'"
   ]
  },
  {
   "cell_type": "markdown",
   "id": "b3d216bb",
   "metadata": {},
   "source": [
    "# deletion"
   ]
  },
  {
   "cell_type": "code",
   "execution_count": 33,
   "id": "2d2666b4",
   "metadata": {},
   "outputs": [
    {
     "name": "stdout",
     "output_type": "stream",
     "text": [
      "(1, 2, 3, 4, 5)\n"
     ]
    },
    {
     "ename": "NameError",
     "evalue": "name 'tup1' is not defined",
     "output_type": "error",
     "traceback": [
      "\u001b[1;31m---------------------------------------------------------------------------\u001b[0m",
      "\u001b[1;31mNameError\u001b[0m                                 Traceback (most recent call last)",
      "Cell \u001b[1;32mIn[33], line 4\u001b[0m\n\u001b[0;32m      2\u001b[0m \u001b[38;5;28mprint\u001b[39m(tup1)\n\u001b[0;32m      3\u001b[0m \u001b[38;5;28;01mdel\u001b[39;00m tup1\n\u001b[1;32m----> 4\u001b[0m \u001b[38;5;28mprint\u001b[39m(\u001b[43mtup1\u001b[49m)\n",
      "\u001b[1;31mNameError\u001b[0m: name 'tup1' is not defined"
     ]
    }
   ],
   "source": [
    "tup1 = (1,2,3,4,5)\n",
    "print(tup1) # We can delete whole tuple \n",
    "del tup1\n",
    "print(tup1)"
   ]
  },
  {
   "cell_type": "code",
   "execution_count": 34,
   "id": "1840493f",
   "metadata": {},
   "outputs": [
    {
     "ename": "NameError",
     "evalue": "name 'tup' is not defined",
     "output_type": "error",
     "traceback": [
      "\u001b[1;31m---------------------------------------------------------------------------\u001b[0m",
      "\u001b[1;31mNameError\u001b[0m                                 Traceback (most recent call last)",
      "Cell \u001b[1;32mIn[34], line 2\u001b[0m\n\u001b[0;32m      1\u001b[0m tup1 \u001b[38;5;241m=\u001b[39m (\u001b[38;5;241m1\u001b[39m,\u001b[38;5;241m2\u001b[39m,\u001b[38;5;241m3\u001b[39m,\u001b[38;5;241m4\u001b[39m,\u001b[38;5;241m5\u001b[39m)\n\u001b[1;32m----> 2\u001b[0m \u001b[38;5;28;01mdel\u001b[39;00m \u001b[43mtup\u001b[49m[\u001b[38;5;241m0\u001b[39m]\n\u001b[0;32m      3\u001b[0m \u001b[38;5;28mprint\u001b[39m(tup1)\n",
      "\u001b[1;31mNameError\u001b[0m: name 'tup' is not defined"
     ]
    }
   ],
   "source": [
    "tup1 = (1,2,3,4,5)\n",
    "del tup[0]  # we can delete whole tuple but we can't delete one specific value those strore in tuple\n",
    "print(tup1)"
   ]
  },
  {
   "cell_type": "markdown",
   "id": "26d604f0",
   "metadata": {},
   "source": [
    "# operations on tuple"
   ]
  },
  {
   "cell_type": "code",
   "execution_count": 36,
   "id": "7a88578b",
   "metadata": {},
   "outputs": [
    {
     "name": "stdout",
     "output_type": "stream",
     "text": [
      "(1, 2, 3, 4, 5, 1, 2, 3)\n",
      "(1, 2, 3, 1, 2, 3)\n"
     ]
    }
   ],
   "source": [
    "# Arthimetic operators +, *\n",
    "tup2 = (1,2,3)\n",
    "tup1 = (1,2,3,4,5)\n",
    "print(tup1 + tup2)\n",
    "\n",
    "print(tup2*2)"
   ]
  },
  {
   "cell_type": "code",
   "execution_count": 38,
   "id": "63ac7bf2",
   "metadata": {},
   "outputs": [
    {
     "name": "stdout",
     "output_type": "stream",
     "text": [
      "True\n",
      "True\n"
     ]
    }
   ],
   "source": [
    "# Membership operator\n",
    "\n",
    "tup1 = (1,2,3,4,5)\n",
    "print(1 in tup1)\n",
    "print(22 not in tup1)"
   ]
  },
  {
   "cell_type": "code",
   "execution_count": 39,
   "id": "d879ec8c",
   "metadata": {},
   "outputs": [
    {
     "name": "stdout",
     "output_type": "stream",
     "text": [
      "1\n",
      "4\n",
      "9\n",
      "16\n",
      "25\n"
     ]
    }
   ],
   "source": [
    "# Loop\n",
    "tup1 = (1,2,3,4,5)\n",
    "for i in tup1:\n",
    "    print(i**2)"
   ]
  },
  {
   "cell_type": "markdown",
   "id": "1d1d7c85",
   "metadata": {},
   "source": [
    "# tuple functions"
   ]
  },
  {
   "cell_type": "code",
   "execution_count": 55,
   "id": "d54521cd",
   "metadata": {},
   "outputs": [
    {
     "name": "stdout",
     "output_type": "stream",
     "text": [
      "5\n",
      "1\n",
      "5\n",
      "[1, 2, 3, 4, 5]\n",
      "1\n",
      "4\n",
      "15\n"
     ]
    }
   ],
   "source": [
    "# len/sum/min/max/sorted/count/index\n",
    "\n",
    "tup1 = (1,2,3,4,5)\n",
    "\n",
    "# len\n",
    "print(len(tup1))\n",
    "\n",
    "# min\n",
    "print(min(tup1))\n",
    "\n",
    "# max\n",
    "print(max(tup1))\n",
    "\n",
    "# sorted\n",
    "print(sorted(tup1))\n",
    "\n",
    "#count\n",
    "print(tup1.count(3))\n",
    "\n",
    "#index\n",
    "print(tup1.index(5))\n",
    "\n",
    "# sum\n",
    "print(sum(tup1))"
   ]
  },
  {
   "cell_type": "markdown",
   "id": "82fc2cf7",
   "metadata": {},
   "source": [
    "#  Difference between Lists and Tuples\n",
    "#### Syntax\n",
    "#### Mutability\n",
    "#### Speed\n",
    "#### Memory\n",
    "#### Built in functionality\n",
    "#### Error prone\n",
    "#### Usability"
   ]
  },
  {
   "cell_type": "markdown",
   "id": "da4c939e",
   "metadata": {},
   "source": [
    "# Tuple Unpacking"
   ]
  },
  {
   "cell_type": "code",
   "execution_count": 56,
   "id": "051039cf",
   "metadata": {},
   "outputs": [
    {
     "name": "stdout",
     "output_type": "stream",
     "text": [
      "2\n",
      "4\n",
      "6\n"
     ]
    }
   ],
   "source": [
    "a,b,c = (2,4,6)\n",
    "print(a)\n",
    "print(b)\n",
    "print(c)"
   ]
  },
  {
   "cell_type": "code",
   "execution_count": 57,
   "id": "6801cdcb",
   "metadata": {},
   "outputs": [
    {
     "name": "stdout",
     "output_type": "stream",
     "text": [
      "10 20 [4, 6, 7, 84, 32]\n"
     ]
    }
   ],
   "source": [
    "a,b,*others = (10,20,4,6,7,84,32)\n",
    "print(a,b,others)"
   ]
  },
  {
   "cell_type": "markdown",
   "id": "fef6d3fe",
   "metadata": {},
   "source": [
    "# Zip"
   ]
  },
  {
   "cell_type": "code",
   "execution_count": 59,
   "id": "d8ab1a9d",
   "metadata": {},
   "outputs": [
    {
     "data": {
      "text/plain": [
       "((1, 11), (2, 22), (3, 33), (4, 44), (5, 55))"
      ]
     },
     "execution_count": 59,
     "metadata": {},
     "output_type": "execute_result"
    }
   ],
   "source": [
    "x = (1,2,3,4,5)\n",
    "y = (11,22,33,44,55)\n",
    "\n",
    "zip_ = zip(x,y)\n",
    "tuple(zip_)"
   ]
  },
  {
   "cell_type": "code",
   "execution_count": null,
   "id": "22485b01",
   "metadata": {},
   "outputs": [],
   "source": []
  }
 ],
 "metadata": {
  "kernelspec": {
   "display_name": "Python 3 (ipykernel)",
   "language": "python",
   "name": "python3"
  },
  "language_info": {
   "codemirror_mode": {
    "name": "ipython",
    "version": 3
   },
   "file_extension": ".py",
   "mimetype": "text/x-python",
   "name": "python",
   "nbconvert_exporter": "python",
   "pygments_lexer": "ipython3",
   "version": "3.11.2"
  }
 },
 "nbformat": 4,
 "nbformat_minor": 5
}

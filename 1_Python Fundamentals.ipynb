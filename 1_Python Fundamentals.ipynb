{
 "cells": [
  {
   "cell_type": "markdown",
   "id": "c88e30b5",
   "metadata": {},
   "source": [
    "# Python PrintFunctions  print()"
   ]
  },
  {
   "cell_type": "code",
   "execution_count": 1,
   "id": "a1af7648",
   "metadata": {},
   "outputs": [
    {
     "name": "stdout",
     "output_type": "stream",
     "text": [
      "Hello World\n"
     ]
    }
   ],
   "source": [
    "print('Hello World')"
   ]
  },
  {
   "cell_type": "code",
   "execution_count": 2,
   "id": "00f7ac0c",
   "metadata": {},
   "outputs": [
    {
     "name": "stdout",
     "output_type": "stream",
     "text": [
      "Heloo 1 3.4 (4+4j) True\n"
     ]
    }
   ],
   "source": [
    "print('Heloo',1,3.4,4+4j,True)"
   ]
  },
  {
   "cell_type": "code",
   "execution_count": 3,
   "id": "0eb61c5a",
   "metadata": {},
   "outputs": [
    {
     "name": "stdout",
     "output_type": "stream",
     "text": [
      "Heloo-1-3.4-(4+4j)-True\n"
     ]
    }
   ],
   "source": [
    "print('Heloo',1,3.4,4+4j,True,sep='-')"
   ]
  },
  {
   "cell_type": "code",
   "execution_count": 13,
   "id": "6f57a32b",
   "metadata": {},
   "outputs": [
    {
     "name": "stdout",
     "output_type": "stream",
     "text": [
      "Hello+Earth\n"
     ]
    }
   ],
   "source": [
    "print('Hello',end='+')\n",
    "print('Earth')"
   ]
  },
  {
   "cell_type": "markdown",
   "id": "78e72dab",
   "metadata": {},
   "source": [
    "# Python Data Types"
   ]
  },
  {
   "cell_type": "code",
   "execution_count": 14,
   "id": "24fc6656",
   "metadata": {},
   "outputs": [
    {
     "name": "stdout",
     "output_type": "stream",
     "text": [
      "5\n",
      "5.5\n",
      "Beagle\n",
      "(4+5j)\n",
      "True\n",
      "[1, 2, 3, 4]\n",
      "(1, 2, 3, 4)\n",
      "{'Name': 'NULL'}\n",
      "None\n",
      "('H', 'S', 'F')\n"
     ]
    }
   ],
   "source": [
    "print(5) # Integer\n",
    "print(5.5) # FLoat\n",
    "print('Beagle') # String\n",
    "print(4+5j) # Complex\n",
    "print(True) # Boolean\n",
    "print([1,2,3,4]) # List\n",
    "print((1,2,3,4)) # Tuple\n",
    "print({'Name':'NULL'}) # Dictionary\n",
    "print(None) # None\n",
    "print(('H','S',\"F\"))# Set"
   ]
  },
  {
   "cell_type": "markdown",
   "id": "416ba676",
   "metadata": {},
   "source": [
    "# Type"
   ]
  },
  {
   "cell_type": "code",
   "execution_count": 19,
   "id": "252ba837",
   "metadata": {},
   "outputs": [
    {
     "name": "stdout",
     "output_type": "stream",
     "text": [
      "<class 'float'> <class 'int'>\n"
     ]
    }
   ],
   "source": [
    "# Basically type of functions given type of any datatypes\n",
    "\n",
    "a = 5.5\n",
    "b = 44\n",
    "print(type(a),type(b))"
   ]
  },
  {
   "cell_type": "markdown",
   "id": "f41de7f4",
   "metadata": {},
   "source": [
    "# Variables"
   ]
  },
  {
   "cell_type": "code",
   "execution_count": 27,
   "id": "b2257a34",
   "metadata": {},
   "outputs": [
    {
     "name": "stdout",
     "output_type": "stream",
     "text": [
      "Hay Rohan\n",
      "5 Hello 2.4\n",
      "10\n",
      "10\n",
      "10\n"
     ]
    }
   ],
   "source": [
    "# There are two types of variables \n",
    "# 1. Dynamic  ex: Age = 20\n",
    "# 2. Static ex: int Age = 20\n",
    "# Python Support Dynamic Varibales\n",
    "\n",
    "a = 'Hay'\n",
    "b = 'Rohan'\n",
    "print(a,b)\n",
    "\n",
    "# Another method to declare variables\n",
    "\n",
    "a,b,c = 5,'Hello',2.4\n",
    "print(a,b,c)\n",
    "\n",
    "# if we want to store one value in multiple variables then use this method\n",
    "x=y=z = 10\n",
    "print(x)\n",
    "print(z)\n",
    "print(y)\n",
    "\n"
   ]
  },
  {
   "cell_type": "markdown",
   "id": "ce81d974",
   "metadata": {},
   "source": [
    "# Comments in Python"
   ]
  },
  {
   "cell_type": "code",
   "execution_count": 30,
   "id": "d3cb6ce1",
   "metadata": {},
   "outputs": [],
   "source": [
    "# Hastag use to give comments in code"
   ]
  },
  {
   "cell_type": "markdown",
   "id": "467902f3",
   "metadata": {},
   "source": [
    "# Keywords & Identifiers"
   ]
  },
  {
   "cell_type": "code",
   "execution_count": 37,
   "id": "b364f7c0",
   "metadata": {},
   "outputs": [
    {
     "data": {
      "text/plain": [
       "['False',\n",
       " 'None',\n",
       " 'True',\n",
       " 'and',\n",
       " 'as',\n",
       " 'assert',\n",
       " 'async',\n",
       " 'await',\n",
       " 'break',\n",
       " 'class',\n",
       " 'continue',\n",
       " 'def',\n",
       " 'del',\n",
       " 'elif',\n",
       " 'else',\n",
       " 'except',\n",
       " 'finally',\n",
       " 'for',\n",
       " 'from',\n",
       " 'global',\n",
       " 'if',\n",
       " 'import',\n",
       " 'in',\n",
       " 'is',\n",
       " 'lambda',\n",
       " 'nonlocal',\n",
       " 'not',\n",
       " 'or',\n",
       " 'pass',\n",
       " 'raise',\n",
       " 'return',\n",
       " 'try',\n",
       " 'while',\n",
       " 'with',\n",
       " 'yield']"
      ]
     },
     "execution_count": 37,
     "metadata": {},
     "output_type": "execute_result"
    }
   ],
   "source": [
    "# Python has a set of keywords that are reserved words that cannot be used as variable names, function names, \n",
    "#or any other identifiers\n",
    "import keyword\n",
    "keyword.kwlist\n",
    "\n",
    "# Python Identifier is the name we give to identify a variable, function, class, module or other object\n"
   ]
  },
  {
   "cell_type": "markdown",
   "id": "bfc7bd9d",
   "metadata": {},
   "source": [
    "# User input"
   ]
  },
  {
   "cell_type": "code",
   "execution_count": 39,
   "id": "6a230728",
   "metadata": {},
   "outputs": [
    {
     "name": "stdout",
     "output_type": "stream",
     "text": [
      "Enter First Number : 3\n",
      "Enter Second Number : 3\n",
      "Additions  6\n"
     ]
    }
   ],
   "source": [
    "f_num = input('Enter First Number : ')\n",
    "s_num = input('Enter Second Number : ')\n",
    "\n",
    "result = int(f_num) + int(s_num)\n",
    "print('Additions ',result)\n"
   ]
  },
  {
   "cell_type": "markdown",
   "id": "869a34c9",
   "metadata": {},
   "source": [
    "# Type Conversion"
   ]
  },
  {
   "cell_type": "code",
   "execution_count": 44,
   "id": "8b818b26",
   "metadata": {},
   "outputs": [
    {
     "name": "stdout",
     "output_type": "stream",
     "text": [
      "5\n",
      "<class 'str'>\n",
      "5.0\n"
     ]
    },
    {
     "data": {
      "text/plain": [
       "float"
      ]
     },
     "execution_count": 44,
     "metadata": {},
     "output_type": "execute_result"
    }
   ],
   "source": [
    "# Basically typeconversion is method to converse one datatype to another datatypes for example int to string so on\n",
    "\n",
    "num = 5\n",
    "num_str = str(num)\n",
    "print(num_str)\n",
    "print(type(num_str))\n",
    "\n",
    "float_num = float(num)\n",
    "print(float_num)\n",
    "type(float_num)"
   ]
  },
  {
   "cell_type": "markdown",
   "id": "1c6638bc",
   "metadata": {},
   "source": [
    "# Literals"
   ]
  },
  {
   "cell_type": "code",
   "execution_count": 45,
   "id": "b1d61600",
   "metadata": {},
   "outputs": [],
   "source": [
    "# Python literals are a data type and can hold any value type, such as strings, numbers, and more.\n",
    "\n",
    "str_1 = 'Hello' # Heres Hello is literals\n",
    "\n",
    "int_1 = 55.3 # Here 55.3 is literals"
   ]
  },
  {
   "cell_type": "code",
   "execution_count": null,
   "id": "43d928a3",
   "metadata": {},
   "outputs": [],
   "source": []
  }
 ],
 "metadata": {
  "kernelspec": {
   "display_name": "Python 3 (ipykernel)",
   "language": "python",
   "name": "python3"
  },
  "language_info": {
   "codemirror_mode": {
    "name": "ipython",
    "version": 3
   },
   "file_extension": ".py",
   "mimetype": "text/x-python",
   "name": "python",
   "nbconvert_exporter": "python",
   "pygments_lexer": "ipython3",
   "version": "3.11.2"
  }
 },
 "nbformat": 4,
 "nbformat_minor": 5
}
